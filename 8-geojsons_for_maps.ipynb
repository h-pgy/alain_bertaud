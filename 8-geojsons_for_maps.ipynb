{
 "cells": [
  {
   "cell_type": "code",
   "execution_count": 1,
   "id": "127c6c47-3306-490e-a578-1831bac676e4",
   "metadata": {},
   "outputs": [
    {
     "name": "stderr",
     "output_type": "stream",
     "text": [
      "/home/h-pgy/anaconda3/lib/python3.8/site-packages/geopandas/_compat.py:111: UserWarning: The Shapely GEOS version (3.8.0-CAPI-1.13.1 ) is incompatible with the GEOS version PyGEOS was compiled with (3.10.1-CAPI-1.16.0). Conversions between both will be slow.\n",
      "  warnings.warn(\n"
     ]
    }
   ],
   "source": [
    "import geopandas as gpd\n",
    "import pandas as pd\n",
    "from core.config import GENERATED_DATA_FOLDER, SHP_FOLDER\n",
    "from core.utils.file_path import solve_path"
   ]
  },
  {
   "cell_type": "code",
   "execution_count": 2,
   "id": "2037c7d9-8c3b-4c88-84af-b2f5d7cfa59d",
   "metadata": {},
   "outputs": [],
   "source": [
    "def load_csv(file:str, folder=GENERATED_DATA_FOLDER, **kwargs)->pd.DataFrame:\n",
    "    \n",
    "    fpath = solve_path(file, parent=folder)\n",
    "    \n",
    "    return pd.read_csv(fpath, **kwargs, sep=';')"
   ]
  },
  {
   "cell_type": "code",
   "execution_count": 3,
   "id": "c26fe468-19f0-44b4-8c19-d1e40c56282c",
   "metadata": {},
   "outputs": [],
   "source": [
    "dists_folder = solve_path('distritos', SHP_FOLDER)\n",
    "dists = gpd.read_file(solve_path('SIRGAS_SHP_distrito', dists_folder))"
   ]
  },
  {
   "cell_type": "code",
   "execution_count": 4,
   "id": "eefe03e9-e97e-4eb5-aa4f-fcbbde7e42ce",
   "metadata": {},
   "outputs": [],
   "source": [
    "dists = dists.set_crs(epsg=31983)"
   ]
  },
  {
   "cell_type": "code",
   "execution_count": 5,
   "id": "5ed16390-34cf-4fd3-9d37-23c08b738a27",
   "metadata": {},
   "outputs": [
    {
     "data": {
      "text/html": [
       "<div>\n",
       "<style scoped>\n",
       "    .dataframe tbody tr th:only-of-type {\n",
       "        vertical-align: middle;\n",
       "    }\n",
       "\n",
       "    .dataframe tbody tr th {\n",
       "        vertical-align: top;\n",
       "    }\n",
       "\n",
       "    .dataframe thead th {\n",
       "        text-align: right;\n",
       "    }\n",
       "</style>\n",
       "<table border=\"1\" class=\"dataframe\">\n",
       "  <thead>\n",
       "    <tr style=\"text-align: right;\">\n",
       "      <th></th>\n",
       "      <th>ds_nome</th>\n",
       "      <th>ds_codigo</th>\n",
       "      <th>ds_cd_sub</th>\n",
       "      <th>ds_subpref</th>\n",
       "      <th>ds_sigla</th>\n",
       "      <th>ds_areamt</th>\n",
       "      <th>ds_areakm</th>\n",
       "      <th>geometry</th>\n",
       "    </tr>\n",
       "  </thead>\n",
       "  <tbody>\n",
       "    <tr>\n",
       "      <th>0</th>\n",
       "      <td>MANDAQUI</td>\n",
       "      <td>51</td>\n",
       "      <td>05</td>\n",
       "      <td>SANTANA-TUCURUVI</td>\n",
       "      <td>MAN</td>\n",
       "      <td>1.324786e+07</td>\n",
       "      <td>13.248</td>\n",
       "      <td>POLYGON ((330950.373 7407837.176, 330952.177 7...</td>\n",
       "    </tr>\n",
       "    <tr>\n",
       "      <th>1</th>\n",
       "      <td>MOOCA</td>\n",
       "      <td>53</td>\n",
       "      <td>25</td>\n",
       "      <td>MOOCA</td>\n",
       "      <td>MOO</td>\n",
       "      <td>7.948972e+06</td>\n",
       "      <td>7.949</td>\n",
       "      <td>POLYGON ((338349.356 7394264.944, 338362.239 7...</td>\n",
       "    </tr>\n",
       "    <tr>\n",
       "      <th>2</th>\n",
       "      <td>CIDADE ADEMAR</td>\n",
       "      <td>22</td>\n",
       "      <td>16</td>\n",
       "      <td>CIDADE ADEMAR</td>\n",
       "      <td>CAD</td>\n",
       "      <td>1.234284e+07</td>\n",
       "      <td>12.343</td>\n",
       "      <td>POLYGON ((332332.417 7381170.543, 332348.402 7...</td>\n",
       "    </tr>\n",
       "    <tr>\n",
       "      <th>3</th>\n",
       "      <td>TREMEMBE</td>\n",
       "      <td>81</td>\n",
       "      <td>06</td>\n",
       "      <td>JACANA-TREMEMBE</td>\n",
       "      <td>TRE</td>\n",
       "      <td>5.671477e+07</td>\n",
       "      <td>56.715</td>\n",
       "      <td>POLYGON ((337037.395 7403901.769, 337033.929 7...</td>\n",
       "    </tr>\n",
       "    <tr>\n",
       "      <th>4</th>\n",
       "      <td>SAO LUCAS</td>\n",
       "      <td>72</td>\n",
       "      <td>29</td>\n",
       "      <td>VILA PRUDENTE</td>\n",
       "      <td>SLU</td>\n",
       "      <td>9.675986e+06</td>\n",
       "      <td>9.676</td>\n",
       "      <td>POLYGON ((340488.820 7391250.151, 340501.069 7...</td>\n",
       "    </tr>\n",
       "  </tbody>\n",
       "</table>\n",
       "</div>"
      ],
      "text/plain": [
       "         ds_nome ds_codigo ds_cd_sub        ds_subpref ds_sigla     ds_areamt  \\\n",
       "0       MANDAQUI        51        05  SANTANA-TUCURUVI      MAN  1.324786e+07   \n",
       "1          MOOCA        53        25             MOOCA      MOO  7.948972e+06   \n",
       "2  CIDADE ADEMAR        22        16     CIDADE ADEMAR      CAD  1.234284e+07   \n",
       "3       TREMEMBE        81        06   JACANA-TREMEMBE      TRE  5.671477e+07   \n",
       "4      SAO LUCAS        72        29     VILA PRUDENTE      SLU  9.675986e+06   \n",
       "\n",
       "   ds_areakm                                           geometry  \n",
       "0     13.248  POLYGON ((330950.373 7407837.176, 330952.177 7...  \n",
       "1      7.949  POLYGON ((338349.356 7394264.944, 338362.239 7...  \n",
       "2     12.343  POLYGON ((332332.417 7381170.543, 332348.402 7...  \n",
       "3     56.715  POLYGON ((337037.395 7403901.769, 337033.929 7...  \n",
       "4      9.676  POLYGON ((340488.820 7391250.151, 340501.069 7...  "
      ]
     },
     "execution_count": 5,
     "metadata": {},
     "output_type": "execute_result"
    }
   ],
   "source": [
    "dists.head()"
   ]
  },
  {
   "cell_type": "code",
   "execution_count": 6,
   "id": "7dd7865f-17d3-4fa0-9f5d-2a330d317768",
   "metadata": {},
   "outputs": [],
   "source": [
    "dists=dists[['ds_nome', 'ds_sigla', 'ds_areakm', 'geometry']]"
   ]
  },
  {
   "cell_type": "code",
   "execution_count": 7,
   "id": "dea64ee8-557e-447a-8ecd-aff285edb0c6",
   "metadata": {},
   "outputs": [
    {
     "data": {
      "text/plain": [
       "<AxesSubplot:>"
      ]
     },
     "execution_count": 7,
     "metadata": {},
     "output_type": "execute_result"
    },
    {
     "data": {
      "image/png": "[encoded data removed]",
      "text/plain": [
       "<Figure size 432x288 with 1 Axes>"
      ]
     },
     "metadata": {
      "needs_background": "light"
     },
     "output_type": "display_data"
    }
   ],
   "source": [
    "dists.plot()"
   ]
  },
  {
   "cell_type": "code",
   "execution_count": 8,
   "id": "afb72de6-66af-490d-9b23-336a05418c95",
   "metadata": {},
   "outputs": [],
   "source": [
    "delta = load_csv('delta_area_construida_distrito.csv')"
   ]
  },
  {
   "cell_type": "code",
   "execution_count": 9,
   "id": "28008346-a383-4673-a95c-0e6403a88213",
   "metadata": {},
   "outputs": [
    {
     "data": {
      "text/html": [
       "<div>\n",
       "<style scoped>\n",
       "    .dataframe tbody tr th:only-of-type {\n",
       "        vertical-align: middle;\n",
       "    }\n",
       "\n",
       "    .dataframe tbody tr th {\n",
       "        vertical-align: top;\n",
       "    }\n",
       "\n",
       "    .dataframe thead th {\n",
       "        text-align: right;\n",
       "    }\n",
       "</style>\n",
       "<table border=\"1\" class=\"dataframe\">\n",
       "  <thead>\n",
       "    <tr style=\"text-align: right;\">\n",
       "      <th></th>\n",
       "      <th>ds_nome</th>\n",
       "      <th>area_construida_vertical_2013</th>\n",
       "      <th>area_construida_vertical_2023</th>\n",
       "      <th>delta_pde</th>\n",
       "    </tr>\n",
       "  </thead>\n",
       "  <tbody>\n",
       "    <tr>\n",
       "      <th>0</th>\n",
       "      <td>AGUA RASA</td>\n",
       "      <td>1622759.0</td>\n",
       "      <td>2108421.0</td>\n",
       "      <td>485662.0</td>\n",
       "    </tr>\n",
       "    <tr>\n",
       "      <th>1</th>\n",
       "      <td>ALTO DE PINHEIROS</td>\n",
       "      <td>2065880.0</td>\n",
       "      <td>2243481.0</td>\n",
       "      <td>177601.0</td>\n",
       "    </tr>\n",
       "    <tr>\n",
       "      <th>2</th>\n",
       "      <td>ANHANGUERA</td>\n",
       "      <td>0.0</td>\n",
       "      <td>1377.0</td>\n",
       "      <td>1377.0</td>\n",
       "    </tr>\n",
       "    <tr>\n",
       "      <th>3</th>\n",
       "      <td>ARICANDUVA</td>\n",
       "      <td>322938.0</td>\n",
       "      <td>640265.0</td>\n",
       "      <td>317327.0</td>\n",
       "    </tr>\n",
       "    <tr>\n",
       "      <th>4</th>\n",
       "      <td>ARTUR ALVIM</td>\n",
       "      <td>581546.0</td>\n",
       "      <td>657230.0</td>\n",
       "      <td>75684.0</td>\n",
       "    </tr>\n",
       "    <tr>\n",
       "      <th>...</th>\n",
       "      <td>...</td>\n",
       "      <td>...</td>\n",
       "      <td>...</td>\n",
       "      <td>...</td>\n",
       "    </tr>\n",
       "    <tr>\n",
       "      <th>91</th>\n",
       "      <td>VILA MARIANA</td>\n",
       "      <td>7255968.0</td>\n",
       "      <td>8508510.0</td>\n",
       "      <td>1252542.0</td>\n",
       "    </tr>\n",
       "    <tr>\n",
       "      <th>92</th>\n",
       "      <td>VILA MATILDE</td>\n",
       "      <td>520274.0</td>\n",
       "      <td>862138.0</td>\n",
       "      <td>341864.0</td>\n",
       "    </tr>\n",
       "    <tr>\n",
       "      <th>93</th>\n",
       "      <td>VILA MEDEIROS</td>\n",
       "      <td>252836.0</td>\n",
       "      <td>440271.0</td>\n",
       "      <td>187435.0</td>\n",
       "    </tr>\n",
       "    <tr>\n",
       "      <th>94</th>\n",
       "      <td>VILA PRUDENTE</td>\n",
       "      <td>1373230.0</td>\n",
       "      <td>2079668.0</td>\n",
       "      <td>706438.0</td>\n",
       "    </tr>\n",
       "    <tr>\n",
       "      <th>95</th>\n",
       "      <td>VILA SONIA</td>\n",
       "      <td>2774772.0</td>\n",
       "      <td>3639685.0</td>\n",
       "      <td>864913.0</td>\n",
       "    </tr>\n",
       "  </tbody>\n",
       "</table>\n",
       "<p>96 rows × 4 columns</p>\n",
       "</div>"
      ],
      "text/plain": [
       "              ds_nome  area_construida_vertical_2013  \\\n",
       "0           AGUA RASA                      1622759.0   \n",
       "1   ALTO DE PINHEIROS                      2065880.0   \n",
       "2          ANHANGUERA                            0.0   \n",
       "3          ARICANDUVA                       322938.0   \n",
       "4         ARTUR ALVIM                       581546.0   \n",
       "..                ...                            ...   \n",
       "91       VILA MARIANA                      7255968.0   \n",
       "92       VILA MATILDE                       520274.0   \n",
       "93      VILA MEDEIROS                       252836.0   \n",
       "94      VILA PRUDENTE                      1373230.0   \n",
       "95         VILA SONIA                      2774772.0   \n",
       "\n",
       "    area_construida_vertical_2023  delta_pde  \n",
       "0                       2108421.0   485662.0  \n",
       "1                       2243481.0   177601.0  \n",
       "2                          1377.0     1377.0  \n",
       "3                        640265.0   317327.0  \n",
       "4                        657230.0    75684.0  \n",
       "..                            ...        ...  \n",
       "91                      8508510.0  1252542.0  \n",
       "92                       862138.0   341864.0  \n",
       "93                       440271.0   187435.0  \n",
       "94                      2079668.0   706438.0  \n",
       "95                      3639685.0   864913.0  \n",
       "\n",
       "[96 rows x 4 columns]"
      ]
     },
     "execution_count": 9,
     "metadata": {},
     "output_type": "execute_result"
    }
   ],
   "source": [
    "delta"
   ]
  },
  {
   "cell_type": "code",
   "execution_count": 10,
   "id": "8c10939f-cee3-491e-92b7-71b3567ba5e2",
   "metadata": {},
   "outputs": [],
   "source": [
    "def sqm_to_sqkm(sqms:float)->float:\n",
    "    \n",
    "    return sqms/1000000"
   ]
  },
  {
   "cell_type": "code",
   "execution_count": 11,
   "id": "94808e46-ae13-4c9b-9ad5-7965409392f1",
   "metadata": {},
   "outputs": [],
   "source": [
    "cols_dados = ['area_construida_vertical_2013', 'area_construida_vertical_2023', 'delta_pde']"
   ]
  },
  {
   "cell_type": "code",
   "execution_count": 12,
   "id": "d0b2d64b-7672-4d32-b3fa-1e36cbafb4cd",
   "metadata": {},
   "outputs": [],
   "source": [
    "for col in cols_dados:\n",
    "    delta[col] = delta[col].apply(sqm_to_sqkm)"
   ]
  },
  {
   "cell_type": "code",
   "execution_count": 13,
   "id": "39201615-7000-4547-a6c2-23d7d9901f6e",
   "metadata": {},
   "outputs": [
    {
     "data": {
      "text/plain": [
       "False"
      ]
     },
     "execution_count": 13,
     "metadata": {},
     "output_type": "execute_result"
    }
   ],
   "source": [
    "(delta['delta_pde']<0).any()"
   ]
  },
  {
   "cell_type": "code",
   "execution_count": 14,
   "id": "dab131e4-dae4-4870-8875-499b9562726e",
   "metadata": {},
   "outputs": [
    {
     "data": {
      "text/html": [
       "<div>\n",
       "<style scoped>\n",
       "    .dataframe tbody tr th:only-of-type {\n",
       "        vertical-align: middle;\n",
       "    }\n",
       "\n",
       "    .dataframe tbody tr th {\n",
       "        vertical-align: top;\n",
       "    }\n",
       "\n",
       "    .dataframe thead th {\n",
       "        text-align: right;\n",
       "    }\n",
       "</style>\n",
       "<table border=\"1\" class=\"dataframe\">\n",
       "  <thead>\n",
       "    <tr style=\"text-align: right;\">\n",
       "      <th></th>\n",
       "      <th>ds_nome</th>\n",
       "      <th>area_construida_vertical_2013</th>\n",
       "      <th>area_construida_vertical_2023</th>\n",
       "      <th>delta_pde</th>\n",
       "    </tr>\n",
       "  </thead>\n",
       "  <tbody>\n",
       "    <tr>\n",
       "      <th>0</th>\n",
       "      <td>AGUA RASA</td>\n",
       "      <td>1.622759</td>\n",
       "      <td>2.108421</td>\n",
       "      <td>0.485662</td>\n",
       "    </tr>\n",
       "    <tr>\n",
       "      <th>1</th>\n",
       "      <td>ALTO DE PINHEIROS</td>\n",
       "      <td>2.065880</td>\n",
       "      <td>2.243481</td>\n",
       "      <td>0.177601</td>\n",
       "    </tr>\n",
       "    <tr>\n",
       "      <th>2</th>\n",
       "      <td>ANHANGUERA</td>\n",
       "      <td>0.000000</td>\n",
       "      <td>0.001377</td>\n",
       "      <td>0.001377</td>\n",
       "    </tr>\n",
       "    <tr>\n",
       "      <th>3</th>\n",
       "      <td>ARICANDUVA</td>\n",
       "      <td>0.322938</td>\n",
       "      <td>0.640265</td>\n",
       "      <td>0.317327</td>\n",
       "    </tr>\n",
       "    <tr>\n",
       "      <th>4</th>\n",
       "      <td>ARTUR ALVIM</td>\n",
       "      <td>0.581546</td>\n",
       "      <td>0.657230</td>\n",
       "      <td>0.075684</td>\n",
       "    </tr>\n",
       "    <tr>\n",
       "      <th>...</th>\n",
       "      <td>...</td>\n",
       "      <td>...</td>\n",
       "      <td>...</td>\n",
       "      <td>...</td>\n",
       "    </tr>\n",
       "    <tr>\n",
       "      <th>91</th>\n",
       "      <td>VILA MARIANA</td>\n",
       "      <td>7.255968</td>\n",
       "      <td>8.508510</td>\n",
       "      <td>1.252542</td>\n",
       "    </tr>\n",
       "    <tr>\n",
       "      <th>92</th>\n",
       "      <td>VILA MATILDE</td>\n",
       "      <td>0.520274</td>\n",
       "      <td>0.862138</td>\n",
       "      <td>0.341864</td>\n",
       "    </tr>\n",
       "    <tr>\n",
       "      <th>93</th>\n",
       "      <td>VILA MEDEIROS</td>\n",
       "      <td>0.252836</td>\n",
       "      <td>0.440271</td>\n",
       "      <td>0.187435</td>\n",
       "    </tr>\n",
       "    <tr>\n",
       "      <th>94</th>\n",
       "      <td>VILA PRUDENTE</td>\n",
       "      <td>1.373230</td>\n",
       "      <td>2.079668</td>\n",
       "      <td>0.706438</td>\n",
       "    </tr>\n",
       "    <tr>\n",
       "      <th>95</th>\n",
       "      <td>VILA SONIA</td>\n",
       "      <td>2.774772</td>\n",
       "      <td>3.639685</td>\n",
       "      <td>0.864913</td>\n",
       "    </tr>\n",
       "  </tbody>\n",
       "</table>\n",
       "<p>96 rows × 4 columns</p>\n",
       "</div>"
      ],
      "text/plain": [
       "              ds_nome  area_construida_vertical_2013  \\\n",
       "0           AGUA RASA                       1.622759   \n",
       "1   ALTO DE PINHEIROS                       2.065880   \n",
       "2          ANHANGUERA                       0.000000   \n",
       "3          ARICANDUVA                       0.322938   \n",
       "4         ARTUR ALVIM                       0.581546   \n",
       "..                ...                            ...   \n",
       "91       VILA MARIANA                       7.255968   \n",
       "92       VILA MATILDE                       0.520274   \n",
       "93      VILA MEDEIROS                       0.252836   \n",
       "94      VILA PRUDENTE                       1.373230   \n",
       "95         VILA SONIA                       2.774772   \n",
       "\n",
       "    area_construida_vertical_2023  delta_pde  \n",
       "0                        2.108421   0.485662  \n",
       "1                        2.243481   0.177601  \n",
       "2                        0.001377   0.001377  \n",
       "3                        0.640265   0.317327  \n",
       "4                        0.657230   0.075684  \n",
       "..                            ...        ...  \n",
       "91                       8.508510   1.252542  \n",
       "92                       0.862138   0.341864  \n",
       "93                       0.440271   0.187435  \n",
       "94                       2.079668   0.706438  \n",
       "95                       3.639685   0.864913  \n",
       "\n",
       "[96 rows x 4 columns]"
      ]
     },
     "execution_count": 14,
     "metadata": {},
     "output_type": "execute_result"
    }
   ],
   "source": [
    "delta"
   ]
  },
  {
   "cell_type": "code",
   "execution_count": 15,
   "id": "f0ef8574-5592-4e3c-9257-dfd5f5dd31f6",
   "metadata": {},
   "outputs": [],
   "source": [
    "def merge_on_dists(df):\n",
    "    \n",
    "    df = pd.merge(df, dists, on='ds_nome', how='outer')\n",
    "    gdf = gpd.GeoDataFrame(df)\n",
    "    gdf = gdf.set_crs(epsg=31983)\n",
    "    gdf = gdf.to_crs(epsg=4326)\n",
    "    \n",
    "    return gdf"
   ]
  },
  {
   "cell_type": "code",
   "execution_count": 16,
   "id": "80b17f0d-5d78-41e5-869c-95f91f925350",
   "metadata": {},
   "outputs": [],
   "source": [
    "delta = merge_on_dists(delta)"
   ]
  },
  {
   "cell_type": "code",
   "execution_count": 17,
   "id": "678c96ec-9354-410a-af36-5a4cf3a4e1e1",
   "metadata": {},
   "outputs": [
    {
     "data": {
      "text/plain": [
       "<AxesSubplot:>"
      ]
     },
     "execution_count": 17,
     "metadata": {},
     "output_type": "execute_result"
    },
    {
     "data": {
      "image/png": "[encoded data removed]",
      "text/plain": [
       "<Figure size 432x288 with 1 Axes>"
      ]
     },
     "metadata": {
      "needs_background": "light"
     },
     "output_type": "display_data"
    }
   ],
   "source": [
    "delta.plot('area_construida_vertical_2013')"
   ]
  },
  {
   "cell_type": "code",
   "execution_count": 18,
   "id": "489fb1d9-8bed-432e-8f5b-b5519390267f",
   "metadata": {},
   "outputs": [
    {
     "data": {
      "text/plain": [
       "<AxesSubplot:>"
      ]
     },
     "execution_count": 18,
     "metadata": {},
     "output_type": "execute_result"
    },
    {
     "data": {
      "image/png": "[encoded data removed]",
      "text/plain": [
       "<Figure size 432x288 with 1 Axes>"
      ]
     },
     "metadata": {
      "needs_background": "light"
     },
     "output_type": "display_data"
    }
   ],
   "source": [
    "delta.plot('area_construida_vertical_2023')"
   ]
  },
  {
   "cell_type": "code",
   "execution_count": 19,
   "id": "9df3703d-68f8-44b4-8e90-1c0642e6c7c3",
   "metadata": {},
   "outputs": [
    {
     "data": {
      "text/plain": [
       "<AxesSubplot:>"
      ]
     },
     "execution_count": 19,
     "metadata": {},
     "output_type": "execute_result"
    },
    {
     "data": {
      "image/png": "[encoded data removed]",
      "text/plain": [
       "<Figure size 432x288 with 1 Axes>"
      ]
     },
     "metadata": {
      "needs_background": "light"
     },
     "output_type": "display_data"
    }
   ],
   "source": [
    "delta.plot('delta_pde')"
   ]
  },
  {
   "cell_type": "code",
   "execution_count": 20,
   "id": "6f61a42c-54b3-400d-b912-ae4a12a3ef74",
   "metadata": {},
   "outputs": [],
   "source": [
    "import os\n",
    "geojson_folder = 'geojsons'"
   ]
  },
  {
   "cell_type": "code",
   "execution_count": 21,
   "id": "b9f95bae-42ec-4074-a765-8a93bbe5c569",
   "metadata": {},
   "outputs": [],
   "source": [
    "if not os.path.exists(geojson_folder):\n",
    "    os.mkdir(geojson_folder)"
   ]
  },
  {
   "cell_type": "code",
   "execution_count": 22,
   "id": "e347ad93-37fa-412b-8ca1-97e1f2420ce2",
   "metadata": {},
   "outputs": [],
   "source": [
    "def save_geojson(geodf, name):\n",
    "    \n",
    "    if not name.endswith('geojson'):\n",
    "        name += '.geojson'\n",
    "    path = solve_path(name, geojson_folder)\n",
    "    \n",
    "    geodf.to_file(path, driver='GeoJSON')  "
   ]
  },
  {
   "cell_type": "code",
   "execution_count": 23,
   "id": "a9fd6382-fdf4-47e6-8a70-ce6f87d2ec33",
   "metadata": {},
   "outputs": [
    {
     "name": "stderr",
     "output_type": "stream",
     "text": [
      "/home/h-pgy/anaconda3/lib/python3.8/site-packages/geopandas/io/file.py:362: FutureWarning: pandas.Int64Index is deprecated and will be removed from pandas in a future version. Use pandas.Index with the appropriate dtype instead.\n",
      "  pd.Int64Index,\n"
     ]
    }
   ],
   "source": [
    "save_geojson(delta, 'delta_pde')"
   ]
  },
  {
   "cell_type": "code",
   "execution_count": 39,
   "id": "2b605cb1-6467-41eb-b6a6-5b515084ee0f",
   "metadata": {},
   "outputs": [],
   "source": [
    "dists_wgs=  dists.to_crs(epsg=4326)"
   ]
  },
  {
   "cell_type": "code",
   "execution_count": 40,
   "id": "7b8724c0-615f-4e88-8948-7f4a5ecd69fe",
   "metadata": {},
   "outputs": [
    {
     "name": "stderr",
     "output_type": "stream",
     "text": [
      "/home/h-pgy/anaconda3/lib/python3.8/site-packages/geopandas/io/file.py:362: FutureWarning:\n",
      "\n",
      "pandas.Int64Index is deprecated and will be removed from pandas in a future version. Use pandas.Index with the appropriate dtype instead.\n",
      "\n"
     ]
    }
   ],
   "source": [
    "save_geojson(dists_wgs, 'dists_wgs84')"
   ]
  },
  {
   "cell_type": "code",
   "execution_count": 78,
   "id": "fb2fe234-a386-4661-b615-2f66c6916d0b",
   "metadata": {},
   "outputs": [],
   "source": [
    "commutes = load_csv('media_duracao_viagem_trabalho_dist.csv')"
   ]
  },
  {
   "cell_type": "code",
   "execution_count": 79,
   "id": "3aa09c05-7b6c-4e08-8968-681b2d93c42a",
   "metadata": {},
   "outputs": [
    {
     "data": {
      "text/html": [
       "<div>\n",
       "<style scoped>\n",
       "    .dataframe tbody tr th:only-of-type {\n",
       "        vertical-align: middle;\n",
       "    }\n",
       "\n",
       "    .dataframe tbody tr th {\n",
       "        vertical-align: top;\n",
       "    }\n",
       "\n",
       "    .dataframe thead th {\n",
       "        text-align: right;\n",
       "    }\n",
       "</style>\n",
       "<table border=\"1\" class=\"dataframe\">\n",
       "  <thead>\n",
       "    <tr style=\"text-align: right;\">\n",
       "      <th></th>\n",
       "      <th>ds_origem_nome</th>\n",
       "      <th>DURACAO</th>\n",
       "    </tr>\n",
       "  </thead>\n",
       "  <tbody>\n",
       "    <tr>\n",
       "      <th>0</th>\n",
       "      <td>AGUA RASA</td>\n",
       "      <td>29.467033</td>\n",
       "    </tr>\n",
       "    <tr>\n",
       "      <th>1</th>\n",
       "      <td>ALTO DE PINHEIROS</td>\n",
       "      <td>25.664789</td>\n",
       "    </tr>\n",
       "    <tr>\n",
       "      <th>2</th>\n",
       "      <td>ANHANGUERA</td>\n",
       "      <td>55.254902</td>\n",
       "    </tr>\n",
       "    <tr>\n",
       "      <th>3</th>\n",
       "      <td>ARICANDUVA</td>\n",
       "      <td>42.084112</td>\n",
       "    </tr>\n",
       "    <tr>\n",
       "      <th>4</th>\n",
       "      <td>ARTUR ALVIM</td>\n",
       "      <td>45.715447</td>\n",
       "    </tr>\n",
       "  </tbody>\n",
       "</table>\n",
       "</div>"
      ],
      "text/plain": [
       "      ds_origem_nome    DURACAO\n",
       "0          AGUA RASA  29.467033\n",
       "1  ALTO DE PINHEIROS  25.664789\n",
       "2         ANHANGUERA  55.254902\n",
       "3         ARICANDUVA  42.084112\n",
       "4        ARTUR ALVIM  45.715447"
      ]
     },
     "execution_count": 79,
     "metadata": {},
     "output_type": "execute_result"
    }
   ],
   "source": [
    "commutes.head()"
   ]
  },
  {
   "cell_type": "code",
   "execution_count": 80,
   "id": "d0981b3d-9ce9-47f3-ae2a-d816481e24cd",
   "metadata": {},
   "outputs": [],
   "source": [
    "commutes.rename({'ds_origem_nome' : 'ds_nome'}, axis=1, inplace=True)"
   ]
  },
  {
   "cell_type": "code",
   "execution_count": 81,
   "id": "2e93bd6b-089c-4fc7-847a-9ce9fc3a7717",
   "metadata": {},
   "outputs": [
    {
     "data": {
      "text/html": [
       "<div>\n",
       "<style scoped>\n",
       "    .dataframe tbody tr th:only-of-type {\n",
       "        vertical-align: middle;\n",
       "    }\n",
       "\n",
       "    .dataframe tbody tr th {\n",
       "        vertical-align: top;\n",
       "    }\n",
       "\n",
       "    .dataframe thead th {\n",
       "        text-align: right;\n",
       "    }\n",
       "</style>\n",
       "<table border=\"1\" class=\"dataframe\">\n",
       "  <thead>\n",
       "    <tr style=\"text-align: right;\">\n",
       "      <th></th>\n",
       "      <th>ds_nome</th>\n",
       "      <th>DURACAO</th>\n",
       "    </tr>\n",
       "  </thead>\n",
       "  <tbody>\n",
       "    <tr>\n",
       "      <th>0</th>\n",
       "      <td>AGUA RASA</td>\n",
       "      <td>29.467033</td>\n",
       "    </tr>\n",
       "    <tr>\n",
       "      <th>1</th>\n",
       "      <td>ALTO DE PINHEIROS</td>\n",
       "      <td>25.664789</td>\n",
       "    </tr>\n",
       "    <tr>\n",
       "      <th>2</th>\n",
       "      <td>ANHANGUERA</td>\n",
       "      <td>55.254902</td>\n",
       "    </tr>\n",
       "    <tr>\n",
       "      <th>3</th>\n",
       "      <td>ARICANDUVA</td>\n",
       "      <td>42.084112</td>\n",
       "    </tr>\n",
       "    <tr>\n",
       "      <th>4</th>\n",
       "      <td>ARTUR ALVIM</td>\n",
       "      <td>45.715447</td>\n",
       "    </tr>\n",
       "  </tbody>\n",
       "</table>\n",
       "</div>"
      ],
      "text/plain": [
       "             ds_nome    DURACAO\n",
       "0          AGUA RASA  29.467033\n",
       "1  ALTO DE PINHEIROS  25.664789\n",
       "2         ANHANGUERA  55.254902\n",
       "3         ARICANDUVA  42.084112\n",
       "4        ARTUR ALVIM  45.715447"
      ]
     },
     "execution_count": 81,
     "metadata": {},
     "output_type": "execute_result"
    }
   ],
   "source": [
    "commutes.head()"
   ]
  },
  {
   "cell_type": "code",
   "execution_count": 83,
   "id": "b9891360-cf04-4507-93f9-ad0a631c7e35",
   "metadata": {},
   "outputs": [],
   "source": [
    "commutes = merge_on_dists(commutes)"
   ]
  },
  {
   "cell_type": "code",
   "execution_count": 84,
   "id": "4d608d01-a821-4e43-8f9b-f6c9d258ab3f",
   "metadata": {},
   "outputs": [
    {
     "data": {
      "text/plain": [
       "<AxesSubplot:>"
      ]
     },
     "execution_count": 84,
     "metadata": {},
     "output_type": "execute_result"
    },
    {
     "data": {
      "image/png": "[encoded data removed]",
      "text/plain": [
       "<Figure size 432x288 with 1 Axes>"
      ]
     },
     "metadata": {
      "needs_background": "light"
     },
     "output_type": "display_data"
    }
   ],
   "source": [
    "commutes.plot('DURACAO')"
   ]
  },
  {
   "cell_type": "code",
   "execution_count": 85,
   "id": "48275f32-df9a-43f7-a90d-32cdc70ab10c",
   "metadata": {},
   "outputs": [
    {
     "name": "stderr",
     "output_type": "stream",
     "text": [
      "/home/h-pgy/anaconda3/lib/python3.8/site-packages/geopandas/io/file.py:362: FutureWarning:\n",
      "\n",
      "pandas.Int64Index is deprecated and will be removed from pandas in a future version. Use pandas.Index with the appropriate dtype instead.\n",
      "\n"
     ]
    }
   ],
   "source": [
    "save_geojson(commutes, 'commute_times')"
   ]
  },
  {
   "cell_type": "code",
   "execution_count": 94,
   "id": "e23092cb-6708-4e6c-9202-075ba6a187ed",
   "metadata": {},
   "outputs": [],
   "source": [
    "percent_jobs = load_csv('percent_empregos_por_dist.csv')"
   ]
  },
  {
   "cell_type": "code",
   "execution_count": 95,
   "id": "cd241ef4-5b90-41e6-9491-9540cb04ba7c",
   "metadata": {},
   "outputs": [
    {
     "data": {
      "text/html": [
       "<div>\n",
       "<style scoped>\n",
       "    .dataframe tbody tr th:only-of-type {\n",
       "        vertical-align: middle;\n",
       "    }\n",
       "\n",
       "    .dataframe tbody tr th {\n",
       "        vertical-align: top;\n",
       "    }\n",
       "\n",
       "    .dataframe thead th {\n",
       "        text-align: right;\n",
       "    }\n",
       "</style>\n",
       "<table border=\"1\" class=\"dataframe\">\n",
       "  <thead>\n",
       "    <tr style=\"text-align: right;\">\n",
       "      <th></th>\n",
       "      <th>ds_nome</th>\n",
       "      <th>percent_empregos</th>\n",
       "    </tr>\n",
       "  </thead>\n",
       "  <tbody>\n",
       "    <tr>\n",
       "      <th>0</th>\n",
       "      <td>AGUA RASA</td>\n",
       "      <td>0.007403</td>\n",
       "    </tr>\n",
       "    <tr>\n",
       "      <th>1</th>\n",
       "      <td>ALTO DE PINHEIROS</td>\n",
       "      <td>0.003344</td>\n",
       "    </tr>\n",
       "    <tr>\n",
       "      <th>2</th>\n",
       "      <td>ANHANGUERA</td>\n",
       "      <td>0.000587</td>\n",
       "    </tr>\n",
       "    <tr>\n",
       "      <th>3</th>\n",
       "      <td>ARICANDUVA</td>\n",
       "      <td>0.004772</td>\n",
       "    </tr>\n",
       "    <tr>\n",
       "      <th>4</th>\n",
       "      <td>ARTUR ALVIM</td>\n",
       "      <td>0.001394</td>\n",
       "    </tr>\n",
       "    <tr>\n",
       "      <th>...</th>\n",
       "      <td>...</td>\n",
       "      <td>...</td>\n",
       "    </tr>\n",
       "    <tr>\n",
       "      <th>91</th>\n",
       "      <td>VILA MEDEIROS</td>\n",
       "      <td>0.003669</td>\n",
       "    </tr>\n",
       "    <tr>\n",
       "      <th>92</th>\n",
       "      <td>VILA PRUDENTE</td>\n",
       "      <td>0.005672</td>\n",
       "    </tr>\n",
       "    <tr>\n",
       "      <th>93</th>\n",
       "      <td>VILA SONIA</td>\n",
       "      <td>0.006962</td>\n",
       "    </tr>\n",
       "    <tr>\n",
       "      <th>94</th>\n",
       "      <td>SAO DOMINGOS</td>\n",
       "      <td>0.015783</td>\n",
       "    </tr>\n",
       "    <tr>\n",
       "      <th>95</th>\n",
       "      <td>LAJEADO</td>\n",
       "      <td>0.005509</td>\n",
       "    </tr>\n",
       "  </tbody>\n",
       "</table>\n",
       "<p>96 rows × 2 columns</p>\n",
       "</div>"
      ],
      "text/plain": [
       "              ds_nome  percent_empregos\n",
       "0           AGUA RASA          0.007403\n",
       "1   ALTO DE PINHEIROS          0.003344\n",
       "2          ANHANGUERA          0.000587\n",
       "3          ARICANDUVA          0.004772\n",
       "4         ARTUR ALVIM          0.001394\n",
       "..                ...               ...\n",
       "91      VILA MEDEIROS          0.003669\n",
       "92      VILA PRUDENTE          0.005672\n",
       "93         VILA SONIA          0.006962\n",
       "94       SAO DOMINGOS          0.015783\n",
       "95            LAJEADO          0.005509\n",
       "\n",
       "[96 rows x 2 columns]"
      ]
     },
     "execution_count": 95,
     "metadata": {},
     "output_type": "execute_result"
    }
   ],
   "source": [
    "percent_jobs"
   ]
  },
  {
   "cell_type": "code",
   "execution_count": 96,
   "id": "2f224924-bdce-473b-8fe3-978122e71885",
   "metadata": {},
   "outputs": [],
   "source": [
    "percent_jobs = merge_on_dists(percent_jobs)"
   ]
  },
  {
   "cell_type": "code",
   "execution_count": 97,
   "id": "3510e739-dd5a-4d35-a0ad-7d942f073f7d",
   "metadata": {},
   "outputs": [],
   "source": [
    "#percent_jobs['percent_empregos'] = percent_jobs['percent_empregos']*100"
   ]
  },
  {
   "cell_type": "code",
   "execution_count": 98,
   "id": "e4e50537-258e-4981-a3b3-604d4b4f5936",
   "metadata": {},
   "outputs": [
    {
     "data": {
      "text/plain": [
       "<AxesSubplot:>"
      ]
     },
     "execution_count": 98,
     "metadata": {},
     "output_type": "execute_result"
    },
    {
     "data": {
      "image/png": "[encoded data removed]",
      "text/plain": [
       "<Figure size 432x288 with 1 Axes>"
      ]
     },
     "metadata": {
      "needs_background": "light"
     },
     "output_type": "display_data"
    }
   ],
   "source": [
    "percent_jobs.plot('percent_empregos')"
   ]
  },
  {
   "cell_type": "code",
   "execution_count": 99,
   "id": "a337239d-7575-406a-8a74-ca0242e5a9ab",
   "metadata": {},
   "outputs": [
    {
     "name": "stderr",
     "output_type": "stream",
     "text": [
      "/home/h-pgy/anaconda3/lib/python3.8/site-packages/geopandas/io/file.py:362: FutureWarning:\n",
      "\n",
      "pandas.Int64Index is deprecated and will be removed from pandas in a future version. Use pandas.Index with the appropriate dtype instead.\n",
      "\n"
     ]
    }
   ],
   "source": [
    "save_geojson(commutes, 'percent_jobs_per_district')"
   ]
  },
  {
   "cell_type": "code",
   "execution_count": 101,
   "id": "df5e0471-1e16-4f62-9c0d-138def5fe608",
   "metadata": {},
   "outputs": [
    {
     "data": {
      "text/plain": [
       "0     0.740285\n",
       "1     0.334422\n",
       "2     0.058696\n",
       "3     0.477188\n",
       "4     0.139358\n",
       "        ...   \n",
       "91    0.366935\n",
       "92    0.567183\n",
       "93    0.696201\n",
       "94    1.578294\n",
       "95    0.550913\n",
       "Name: percent_empregos, Length: 96, dtype: float64"
      ]
     },
     "execution_count": 101,
     "metadata": {},
     "output_type": "execute_result"
    }
   ],
   "source": [
    "percent_jobs['percent_empregos']*100"
   ]
  },
  {
   "cell_type": "code",
   "execution_count": null,
   "id": "0192709e-8d32-4ef4-a2ac-0980d1b64856",
   "metadata": {},
   "outputs": [],
   "source": []
  }
 ],
 "metadata": {
  "kernelspec": {
   "display_name": "Python 3",
   "language": "python",
   "name": "python3"
  },
  "language_info": {
   "codemirror_mode": {
    "name": "ipython",
    "version": 3
   },
   "file_extension": ".py",
   "mimetype": "text/x-python",
   "name": "python",
   "nbconvert_exporter": "python",
   "pygments_lexer": "ipython3",
   "version": "3.8.8"
  }
 },
 "nbformat": 4,
 "nbformat_minor": 5
}
