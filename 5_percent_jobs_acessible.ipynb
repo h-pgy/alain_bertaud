{
 "cells": [
  {
   "cell_type": "code",
   "execution_count": 1,
   "id": "d89b89c0-8a7c-4bf4-b3ff-654ee40ca843",
   "metadata": {},
   "outputs": [],
   "source": [
    "import pandas as pd\n",
    "from core.config import GENERATED_DATA_FOLDER\n",
    "from core.utils.file_path import solve_path"
   ]
  },
  {
   "cell_type": "code",
   "execution_count": 2,
   "id": "998d52bd-e99d-41e9-bb0b-d0dda8dcaefe",
   "metadata": {},
   "outputs": [],
   "source": [
    "tmpo_desloc_file = solve_path('media_duracao_viagem_dist_a_dist.csv',\n",
    "                             GENERATED_DATA_FOLDER)\n",
    "tmpo_desloc = pd.read_csv(tmpo_desloc_file,\n",
    "                         sep=';')"
   ]
  },
  {
   "cell_type": "code",
   "execution_count": 3,
   "id": "452bd304-6c39-435c-aa18-71e562b53cfc",
   "metadata": {},
   "outputs": [
    {
     "data": {
      "text/html": [
       "<div>\n",
       "<style scoped>\n",
       "    .dataframe tbody tr th:only-of-type {\n",
       "        vertical-align: middle;\n",
       "    }\n",
       "\n",
       "    .dataframe tbody tr th {\n",
       "        vertical-align: top;\n",
       "    }\n",
       "\n",
       "    .dataframe thead th {\n",
       "        text-align: right;\n",
       "    }\n",
       "</style>\n",
       "<table border=\"1\" class=\"dataframe\">\n",
       "  <thead>\n",
       "    <tr style=\"text-align: right;\">\n",
       "      <th></th>\n",
       "      <th>ds_origem_nome</th>\n",
       "      <th>ds_destino_nome</th>\n",
       "      <th>duracao_media</th>\n",
       "    </tr>\n",
       "  </thead>\n",
       "  <tbody>\n",
       "    <tr>\n",
       "      <th>0</th>\n",
       "      <td>AGUA RASA</td>\n",
       "      <td>AGUA RASA</td>\n",
       "      <td>7.918367</td>\n",
       "    </tr>\n",
       "    <tr>\n",
       "      <th>1</th>\n",
       "      <td>AGUA RASA</td>\n",
       "      <td>ARICANDUVA</td>\n",
       "      <td>25.000000</td>\n",
       "    </tr>\n",
       "    <tr>\n",
       "      <th>2</th>\n",
       "      <td>AGUA RASA</td>\n",
       "      <td>ARTUR ALVIM</td>\n",
       "      <td>30.000000</td>\n",
       "    </tr>\n",
       "    <tr>\n",
       "      <th>3</th>\n",
       "      <td>AGUA RASA</td>\n",
       "      <td>BARRA FUNDA</td>\n",
       "      <td>58.000000</td>\n",
       "    </tr>\n",
       "    <tr>\n",
       "      <th>4</th>\n",
       "      <td>AGUA RASA</td>\n",
       "      <td>BELA VISTA</td>\n",
       "      <td>30.000000</td>\n",
       "    </tr>\n",
       "  </tbody>\n",
       "</table>\n",
       "</div>"
      ],
      "text/plain": [
       "  ds_origem_nome ds_destino_nome  duracao_media\n",
       "0      AGUA RASA       AGUA RASA       7.918367\n",
       "1      AGUA RASA      ARICANDUVA      25.000000\n",
       "2      AGUA RASA     ARTUR ALVIM      30.000000\n",
       "3      AGUA RASA     BARRA FUNDA      58.000000\n",
       "4      AGUA RASA      BELA VISTA      30.000000"
      ]
     },
     "execution_count": 3,
     "metadata": {},
     "output_type": "execute_result"
    }
   ],
   "source": [
    "tmpo_desloc.head()"
   ]
  },
  {
   "cell_type": "code",
   "execution_count": 4,
   "id": "0bbca627-28f1-498e-b7df-556b422549ff",
   "metadata": {},
   "outputs": [],
   "source": [
    "mask = tmpo_desloc['ds_destino_nome']!='Fora São Paulo'\n",
    "#pegar soh dentro de SP\n",
    "tmpo_desloc = tmpo_desloc[mask].copy()"
   ]
  },
  {
   "cell_type": "code",
   "execution_count": 5,
   "id": "6165ee8d-c699-488b-8353-f20daee3bc56",
   "metadata": {},
   "outputs": [],
   "source": [
    "empregos_file = solve_path('percent_empregos_por_dist.csv',\n",
    "                          GENERATED_DATA_FOLDER)\n",
    "empregos = pd.read_csv(empregos_file,\n",
    "                      sep=';')"
   ]
  },
  {
   "cell_type": "code",
   "execution_count": 6,
   "id": "75e71256-bc9f-4132-b061-54aad0797cdf",
   "metadata": {},
   "outputs": [
    {
     "data": {
      "text/html": [
       "<div>\n",
       "<style scoped>\n",
       "    .dataframe tbody tr th:only-of-type {\n",
       "        vertical-align: middle;\n",
       "    }\n",
       "\n",
       "    .dataframe tbody tr th {\n",
       "        vertical-align: top;\n",
       "    }\n",
       "\n",
       "    .dataframe thead th {\n",
       "        text-align: right;\n",
       "    }\n",
       "</style>\n",
       "<table border=\"1\" class=\"dataframe\">\n",
       "  <thead>\n",
       "    <tr style=\"text-align: right;\">\n",
       "      <th></th>\n",
       "      <th>ds_nome</th>\n",
       "      <th>percent_empregos</th>\n",
       "    </tr>\n",
       "  </thead>\n",
       "  <tbody>\n",
       "    <tr>\n",
       "      <th>0</th>\n",
       "      <td>AGUA RASA</td>\n",
       "      <td>0.007403</td>\n",
       "    </tr>\n",
       "    <tr>\n",
       "      <th>1</th>\n",
       "      <td>ALTO DE PINHEIROS</td>\n",
       "      <td>0.003344</td>\n",
       "    </tr>\n",
       "    <tr>\n",
       "      <th>2</th>\n",
       "      <td>ANHANGUERA</td>\n",
       "      <td>0.000587</td>\n",
       "    </tr>\n",
       "    <tr>\n",
       "      <th>3</th>\n",
       "      <td>ARICANDUVA</td>\n",
       "      <td>0.004772</td>\n",
       "    </tr>\n",
       "    <tr>\n",
       "      <th>4</th>\n",
       "      <td>ARTUR ALVIM</td>\n",
       "      <td>0.001394</td>\n",
       "    </tr>\n",
       "  </tbody>\n",
       "</table>\n",
       "</div>"
      ],
      "text/plain": [
       "             ds_nome  percent_empregos\n",
       "0          AGUA RASA          0.007403\n",
       "1  ALTO DE PINHEIROS          0.003344\n",
       "2         ANHANGUERA          0.000587\n",
       "3         ARICANDUVA          0.004772\n",
       "4        ARTUR ALVIM          0.001394"
      ]
     },
     "execution_count": 6,
     "metadata": {},
     "output_type": "execute_result"
    }
   ],
   "source": [
    "empregos.head()"
   ]
  },
  {
   "cell_type": "code",
   "execution_count": 7,
   "id": "1c272a05-9bcd-4ed4-b59e-24511858dbf9",
   "metadata": {},
   "outputs": [],
   "source": [
    "mapeamento_empregos = dict(zip(\n",
    "                        empregos['ds_nome'], empregos['percent_empregos']\n",
    "))"
   ]
  },
  {
   "cell_type": "code",
   "execution_count": 8,
   "id": "ec5a7294-24f8-4885-a076-fc3b967ae83e",
   "metadata": {},
   "outputs": [],
   "source": [
    "tmpo_desloc['percent_empregos_destino'] = tmpo_desloc['ds_destino_nome'].map(mapeamento_empregos)"
   ]
  },
  {
   "cell_type": "code",
   "execution_count": 9,
   "id": "0e5ed96f-5b5a-4d9e-a5c8-1a658676b00e",
   "metadata": {},
   "outputs": [],
   "source": [
    "duracao_maior_uma_hora = tmpo_desloc['duracao_media']>60"
   ]
  },
  {
   "cell_type": "code",
   "execution_count": 10,
   "id": "1cd92d1f-efe4-47e4-aea6-3838a0a9c1ec",
   "metadata": {},
   "outputs": [
    {
     "data": {
      "text/html": [
       "<div>\n",
       "<style scoped>\n",
       "    .dataframe tbody tr th:only-of-type {\n",
       "        vertical-align: middle;\n",
       "    }\n",
       "\n",
       "    .dataframe tbody tr th {\n",
       "        vertical-align: top;\n",
       "    }\n",
       "\n",
       "    .dataframe thead th {\n",
       "        text-align: right;\n",
       "    }\n",
       "</style>\n",
       "<table border=\"1\" class=\"dataframe\">\n",
       "  <thead>\n",
       "    <tr style=\"text-align: right;\">\n",
       "      <th></th>\n",
       "      <th>ds_origem_nome</th>\n",
       "      <th>ds_destino_nome</th>\n",
       "      <th>duracao_media</th>\n",
       "      <th>percent_empregos_destino</th>\n",
       "    </tr>\n",
       "  </thead>\n",
       "  <tbody>\n",
       "    <tr>\n",
       "      <th>2175</th>\n",
       "      <td>MANDAQUI</td>\n",
       "      <td>SE</td>\n",
       "      <td>72.857143</td>\n",
       "      <td>0.053162</td>\n",
       "    </tr>\n",
       "    <tr>\n",
       "      <th>3257</th>\n",
       "      <td>SAPOPEMBA</td>\n",
       "      <td>ITAIM BIBI</td>\n",
       "      <td>122.500000</td>\n",
       "      <td>0.066347</td>\n",
       "    </tr>\n",
       "    <tr>\n",
       "      <th>3819</th>\n",
       "      <td>VILA MARIANA</td>\n",
       "      <td>CAPAO REDONDO</td>\n",
       "      <td>80.000000</td>\n",
       "      <td>0.002924</td>\n",
       "    </tr>\n",
       "    <tr>\n",
       "      <th>3205</th>\n",
       "      <td>SAO MIGUEL</td>\n",
       "      <td>VILA MARIANA</td>\n",
       "      <td>91.666667</td>\n",
       "      <td>0.022049</td>\n",
       "    </tr>\n",
       "    <tr>\n",
       "      <th>909</th>\n",
       "      <td>CIDADE DUTRA</td>\n",
       "      <td>PINHEIROS</td>\n",
       "      <td>67.000000</td>\n",
       "      <td>0.024524</td>\n",
       "    </tr>\n",
       "    <tr>\n",
       "      <th>517</th>\n",
       "      <td>CACHOEIRINHA</td>\n",
       "      <td>MOOCA</td>\n",
       "      <td>105.000000</td>\n",
       "      <td>0.010822</td>\n",
       "    </tr>\n",
       "    <tr>\n",
       "      <th>3219</th>\n",
       "      <td>SAO RAFAEL</td>\n",
       "      <td>IPIRANGA</td>\n",
       "      <td>120.000000</td>\n",
       "      <td>0.015832</td>\n",
       "    </tr>\n",
       "    <tr>\n",
       "      <th>328</th>\n",
       "      <td>BELEM</td>\n",
       "      <td>VILA SONIA</td>\n",
       "      <td>80.000000</td>\n",
       "      <td>0.006962</td>\n",
       "    </tr>\n",
       "    <tr>\n",
       "      <th>1110</th>\n",
       "      <td>CURSINO</td>\n",
       "      <td>SANTA CECILIA</td>\n",
       "      <td>75.000000</td>\n",
       "      <td>0.014162</td>\n",
       "    </tr>\n",
       "    <tr>\n",
       "      <th>207</th>\n",
       "      <td>BARRA FUNDA</td>\n",
       "      <td>SANTO AMARO</td>\n",
       "      <td>80.000000</td>\n",
       "      <td>0.047735</td>\n",
       "    </tr>\n",
       "  </tbody>\n",
       "</table>\n",
       "</div>"
      ],
      "text/plain": [
       "     ds_origem_nome ds_destino_nome  duracao_media  percent_empregos_destino\n",
       "2175       MANDAQUI              SE      72.857143                  0.053162\n",
       "3257      SAPOPEMBA      ITAIM BIBI     122.500000                  0.066347\n",
       "3819   VILA MARIANA   CAPAO REDONDO      80.000000                  0.002924\n",
       "3205     SAO MIGUEL    VILA MARIANA      91.666667                  0.022049\n",
       "909    CIDADE DUTRA       PINHEIROS      67.000000                  0.024524\n",
       "517    CACHOEIRINHA           MOOCA     105.000000                  0.010822\n",
       "3219     SAO RAFAEL        IPIRANGA     120.000000                  0.015832\n",
       "328           BELEM      VILA SONIA      80.000000                  0.006962\n",
       "1110        CURSINO   SANTA CECILIA      75.000000                  0.014162\n",
       "207     BARRA FUNDA     SANTO AMARO      80.000000                  0.047735"
      ]
     },
     "execution_count": 10,
     "metadata": {},
     "output_type": "execute_result"
    }
   ],
   "source": [
    "tmpo_desloc[duracao_maior_uma_hora].sample(10)"
   ]
  },
  {
   "cell_type": "code",
   "execution_count": 11,
   "id": "c4332ac8-404b-4f5f-aa6b-aebfe88871d1",
   "metadata": {},
   "outputs": [],
   "source": [
    "viagens_uma_hora = tmpo_desloc[~duracao_maior_uma_hora].copy()"
   ]
  },
  {
   "cell_type": "code",
   "execution_count": 14,
   "id": "3881b34e-735b-4dc7-a717-01c356b18263",
   "metadata": {},
   "outputs": [],
   "source": [
    "percent_empregos_acessiveis = viagens_uma_hora.groupby('ds_origem_nome')[['percent_empregos_destino']].sum()"
   ]
  },
  {
   "cell_type": "code",
   "execution_count": 15,
   "id": "ac630098-bfd2-48c8-95a0-f713c2fd6c02",
   "metadata": {},
   "outputs": [],
   "source": [
    "percent_empregos_acessiveis = percent_empregos_acessiveis.reset_index()"
   ]
  },
  {
   "cell_type": "code",
   "execution_count": 19,
   "id": "040dc095-7da6-4ddd-9fe1-be872dede4cc",
   "metadata": {},
   "outputs": [
    {
     "data": {
      "text/html": [
       "<div>\n",
       "<style scoped>\n",
       "    .dataframe tbody tr th:only-of-type {\n",
       "        vertical-align: middle;\n",
       "    }\n",
       "\n",
       "    .dataframe tbody tr th {\n",
       "        vertical-align: top;\n",
       "    }\n",
       "\n",
       "    .dataframe thead th {\n",
       "        text-align: right;\n",
       "    }\n",
       "</style>\n",
       "<table border=\"1\" class=\"dataframe\">\n",
       "  <thead>\n",
       "    <tr style=\"text-align: right;\">\n",
       "      <th></th>\n",
       "      <th>ds_origem_nome</th>\n",
       "      <th>percent_empregos_destino</th>\n",
       "    </tr>\n",
       "  </thead>\n",
       "  <tbody>\n",
       "    <tr>\n",
       "      <th>55</th>\n",
       "      <td>PARELHEIROS</td>\n",
       "      <td>0.017006</td>\n",
       "    </tr>\n",
       "    <tr>\n",
       "      <th>24</th>\n",
       "      <td>CIDADE TIRADENTES</td>\n",
       "      <td>0.021845</td>\n",
       "    </tr>\n",
       "    <tr>\n",
       "      <th>41</th>\n",
       "      <td>JARDIM ANGELA</td>\n",
       "      <td>0.030520</td>\n",
       "    </tr>\n",
       "    <tr>\n",
       "      <th>46</th>\n",
       "      <td>LAJEADO</td>\n",
       "      <td>0.037632</td>\n",
       "    </tr>\n",
       "    <tr>\n",
       "      <th>61</th>\n",
       "      <td>PERUS</td>\n",
       "      <td>0.039127</td>\n",
       "    </tr>\n",
       "  </tbody>\n",
       "</table>\n",
       "</div>"
      ],
      "text/plain": [
       "       ds_origem_nome  percent_empregos_destino\n",
       "55        PARELHEIROS                  0.017006\n",
       "24  CIDADE TIRADENTES                  0.021845\n",
       "41      JARDIM ANGELA                  0.030520\n",
       "46            LAJEADO                  0.037632\n",
       "61              PERUS                  0.039127"
      ]
     },
     "execution_count": 19,
     "metadata": {},
     "output_type": "execute_result"
    }
   ],
   "source": [
    "percent_empregos_acessiveis.sort_values(by='percent_empregos_destino').head()"
   ]
  },
  {
   "cell_type": "code",
   "execution_count": 21,
   "id": "14b3ebbd-a537-4bc8-bcdb-51bc80911600",
   "metadata": {},
   "outputs": [
    {
     "data": {
      "text/html": [
       "<div>\n",
       "<style scoped>\n",
       "    .dataframe tbody tr th:only-of-type {\n",
       "        vertical-align: middle;\n",
       "    }\n",
       "\n",
       "    .dataframe tbody tr th {\n",
       "        vertical-align: top;\n",
       "    }\n",
       "\n",
       "    .dataframe thead th {\n",
       "        text-align: right;\n",
       "    }\n",
       "</style>\n",
       "<table border=\"1\" class=\"dataframe\">\n",
       "  <thead>\n",
       "    <tr style=\"text-align: right;\">\n",
       "      <th></th>\n",
       "      <th>ds_origem_nome</th>\n",
       "      <th>percent_empregos_destino</th>\n",
       "    </tr>\n",
       "  </thead>\n",
       "  <tbody>\n",
       "    <tr>\n",
       "      <th>52</th>\n",
       "      <td>MOEMA</td>\n",
       "      <td>0.793116</td>\n",
       "    </tr>\n",
       "    <tr>\n",
       "      <th>33</th>\n",
       "      <td>ITAIM BIBI</td>\n",
       "      <td>0.788862</td>\n",
       "    </tr>\n",
       "    <tr>\n",
       "      <th>25</th>\n",
       "      <td>CONSOLACAO</td>\n",
       "      <td>0.783376</td>\n",
       "    </tr>\n",
       "    <tr>\n",
       "      <th>6</th>\n",
       "      <td>BELA VISTA</td>\n",
       "      <td>0.773844</td>\n",
       "    </tr>\n",
       "    <tr>\n",
       "      <th>60</th>\n",
       "      <td>PERDIZES</td>\n",
       "      <td>0.771138</td>\n",
       "    </tr>\n",
       "    <tr>\n",
       "      <th>91</th>\n",
       "      <td>VILA MARIANA</td>\n",
       "      <td>0.757271</td>\n",
       "    </tr>\n",
       "    <tr>\n",
       "      <th>43</th>\n",
       "      <td>JARDIM PAULISTA</td>\n",
       "      <td>0.756184</td>\n",
       "    </tr>\n",
       "    <tr>\n",
       "      <th>62</th>\n",
       "      <td>PINHEIROS</td>\n",
       "      <td>0.754315</td>\n",
       "    </tr>\n",
       "    <tr>\n",
       "      <th>14</th>\n",
       "      <td>CAMPO BELO</td>\n",
       "      <td>0.716971</td>\n",
       "    </tr>\n",
       "    <tr>\n",
       "      <th>89</th>\n",
       "      <td>VILA LEOPOLDINA</td>\n",
       "      <td>0.704515</td>\n",
       "    </tr>\n",
       "  </tbody>\n",
       "</table>\n",
       "</div>"
      ],
      "text/plain": [
       "     ds_origem_nome  percent_empregos_destino\n",
       "52            MOEMA                  0.793116\n",
       "33       ITAIM BIBI                  0.788862\n",
       "25       CONSOLACAO                  0.783376\n",
       "6        BELA VISTA                  0.773844\n",
       "60         PERDIZES                  0.771138\n",
       "91     VILA MARIANA                  0.757271\n",
       "43  JARDIM PAULISTA                  0.756184\n",
       "62        PINHEIROS                  0.754315\n",
       "14       CAMPO BELO                  0.716971\n",
       "89  VILA LEOPOLDINA                  0.704515"
      ]
     },
     "execution_count": 21,
     "metadata": {},
     "output_type": "execute_result"
    }
   ],
   "source": [
    "percent_empregos_acessiveis.sort_values(by='percent_empregos_destino', ascending=False).head(10)"
   ]
  },
  {
   "cell_type": "code",
   "execution_count": 22,
   "id": "79fab9e2-9f51-47ab-bd43-61e648c6cfa5",
   "metadata": {},
   "outputs": [],
   "source": [
    "fname = solve_path('percent_jobs_acessible.csv', GENERATED_DATA_FOLDER)\n",
    "percent_empregos_acessiveis.to_csv(fname, index=False, sep=';')"
   ]
  },
  {
   "cell_type": "code",
   "execution_count": null,
   "id": "1177837b-5b01-434d-9937-736d43b9713e",
   "metadata": {},
   "outputs": [],
   "source": []
  }
 ],
 "metadata": {
  "kernelspec": {
   "display_name": "Python 3",
   "language": "python",
   "name": "python3"
  },
  "language_info": {
   "codemirror_mode": {
    "name": "ipython",
    "version": 3
   },
   "file_extension": ".py",
   "mimetype": "text/x-python",
   "name": "python",
   "nbconvert_exporter": "python",
   "pygments_lexer": "ipython3",
   "version": "3.8.8"
  }
 },
 "nbformat": 4,
 "nbformat_minor": 5
}
