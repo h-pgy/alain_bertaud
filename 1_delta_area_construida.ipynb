{
 "cells": [
  {
   "cell_type": "markdown",
   "id": "cf766323-b7af-40d4-a3b2-affd34153b3a",
   "metadata": {},
   "source": [
    "# Cálculo do acréscimo de área construída\n",
    "### **autor**: Henrique Pougy\n",
    "\n",
    "Neste notebook, iremos calcular o acréscimo de área construída na cidade de São Paulo nos últimos 10 anos (2013 a 2022).\n",
    "\n",
    "Este período se inicia em 2013, com os estudos que embasaram a elaboração do Plano Diretor Estratégico do Município (o PL 668/13, versão inicial do PDE, foi encaminhado à câmara em Julho de 2013). E se finaliza em 2023, ano de finalização da Revisão Intermediária do PDE (e ano atual de elaboração deste estudo). Note que a base do IPTU é atualizada anualmente, sempre no início do ano, quando são emitidos os carnês de cobrança. Assim, nosso dados estão atualizados até janeiro de 2022.\n",
    "\n",
    "O acréscimo de área construída será calculado a partir da verificação, a cada ano contido no período, do aumento de área construída por quadra do município. Esse aumento será obtido a partir da análise do banco de dados do Imposto Territorial e Predial Urbano (IPTU), tornados públicos pela Secretaria da Fazenda do município.\n",
    "\n",
    "Como o foco de nosso estudo está na verticalização da cidade, calcularemos apenas o acréscimo de área construída cuja tipologia seja **Vertical**. Desse modo, diminuímos o risco de modelar o aumento de área construída pela construção de edículas, \"puxadinhos\" ou mesmo pela melhoria da base de cálculo do IPTU por parte do emprego de tecnologias de fiscalização (LIDAR).\n",
    "\n",
    "A área construída vertical é mais \"segura\" de ser analisada pois, sempre que é emitido um habite-se, os novos lotes do empreendimento imobiliário são criados na base do IPTU e, com eles, a nova área construída é adicionada.\n"
   ]
  },
  {
   "cell_type": "markdown",
   "id": "dbaa65e2-adbf-4631-9f8b-73c7960da198",
   "metadata": {},
   "source": [
    "Primeiro, vamos rodar o script para baixar todos os dados do estudo. Ele precisa ser rodado apenas uma vez - neste primeiro notebook."
   ]
  },
  {
   "cell_type": "code",
   "execution_count": 1,
   "id": "d7d80720-cc6b-4997-b47e-9418ebf2d128",
   "metadata": {},
   "outputs": [],
   "source": [
    "from core.extract import download_all_data"
   ]
  },
  {
   "cell_type": "code",
   "execution_count": 2,
   "id": "17e96537-81ef-4c96-a8b2-868cf3243922",
   "metadata": {},
   "outputs": [
    {
     "name": "stdout",
     "output_type": "stream",
     "text": [
      "Shape /home/h-pgy/Desktop/Projetos/alain_bertaud/original_data/shp_files/distritos já salvo\n",
      "Shape /home/h-pgy/Desktop/Projetos/alain_bertaud/original_data/shp_files/setores_censitarios já salvo\n",
      "Shape /home/h-pgy/Desktop/Projetos/alain_bertaud/original_data/shp_files/estacoes_metro já salvo\n",
      "Shape /home/h-pgy/Desktop/Projetos/alain_bertaud/original_data/shp_files/zonas_OD_2017 já salvo\n",
      "Shape /home/h-pgy/Desktop/Projetos/alain_bertaud/original_data/shp_files/quadras_fiscais já salvo\n",
      "Shape /home/h-pgy/Desktop/Projetos/alain_bertaud/original_data/shp_files/eixos_transformacao_urbana já salvo\n",
      "Shape /home/h-pgy/Desktop/Projetos/alain_bertaud/original_data/shp_files/zoneamento já salvo\n",
      "Arquivo 2013.csv ja salvo.\n",
      "Arquivo 2023.csv ja salvo.\n",
      "Dados censo já salvos\n",
      "Dados pesquisa OD já salvos\n"
     ]
    }
   ],
   "source": [
    "download_all_data()"
   ]
  },
  {
   "cell_type": "code",
   "execution_count": 3,
   "id": "77547719-689f-488b-a3f6-2abc8503dbb8",
   "metadata": {},
   "outputs": [],
   "source": [
    "import pandas as pd\n",
    "import seaborn as sns\n",
    "import os\n",
    "from core.utils.file_path import solve_path, list_files\n",
    "from core.config import ORIGINAL_DATA_FOLDER, GENERATED_DATA_FOLDER\n"
   ]
  },
  {
   "cell_type": "code",
   "execution_count": 4,
   "id": "b2fab4c4-e6b8-45b4-8644-987b982b3ca6",
   "metadata": {},
   "outputs": [],
   "source": [
    "pd.set_option('display.max_columns', None)\n",
    "sns.set()"
   ]
  },
  {
   "cell_type": "code",
   "execution_count": 5,
   "id": "72255ba1-0818-4f98-ade6-b51ff183dde7",
   "metadata": {},
   "outputs": [
    {
     "name": "stdout",
     "output_type": "stream",
     "text": [
      "/home/h-pgy/Desktop/Projetos/alain_bertaud/original_data/iptu_data/IPTU_2023.csv\n",
      "/home/h-pgy/Desktop/Projetos/alain_bertaud/original_data/iptu_data/EG_2013.csv\n"
     ]
    }
   ],
   "source": [
    "csvs_path = solve_path('iptu_data', ORIGINAL_DATA_FOLDER)\n",
    "csv_files = list_files(csvs_path, '.csv')\n",
    "for f in csv_files:\n",
    "    print(f)"
   ]
  },
  {
   "cell_type": "code",
   "execution_count": 6,
   "id": "8f0cb76c-ab29-4f53-9173-b45f5d3fb6ef",
   "metadata": {},
   "outputs": [],
   "source": [
    "def read_csv_year(year, files=csv_files):\n",
    "    \n",
    "    year = str(year)\n",
    "    year_file = [f for f in files if f.endswith(f'{year}.csv')][0]\n",
    "    \n",
    "    try:\n",
    "        return pd.read_csv(year_file, encoding='utf-8', sep=';', quotechar='\"', dtype=str)\n",
    "    except UnicodeDecodeError:\n",
    "        return pd.read_csv(year_file, encoding='latin-1', sep=';', quotechar='\"', dtype=str)\n",
    "\n"
   ]
  },
  {
   "cell_type": "code",
   "execution_count": 7,
   "id": "dfd89ad3-7090-4266-93e1-c4741bdc9e3c",
   "metadata": {},
   "outputs": [],
   "source": [
    "df_2013 = read_csv_year(2013)"
   ]
  },
  {
   "cell_type": "code",
   "execution_count": 8,
   "id": "1eb8c3b6-5050-466a-ba51-bf1eecc66dc3",
   "metadata": {},
   "outputs": [
    {
     "data": {
      "text/html": [
       "<div>\n",
       "<style scoped>\n",
       "    .dataframe tbody tr th:only-of-type {\n",
       "        vertical-align: middle;\n",
       "    }\n",
       "\n",
       "    .dataframe tbody tr th {\n",
       "        vertical-align: top;\n",
       "    }\n",
       "\n",
       "    .dataframe thead th {\n",
       "        text-align: right;\n",
       "    }\n",
       "</style>\n",
       "<table border=\"1\" class=\"dataframe\">\n",
       "  <thead>\n",
       "    <tr style=\"text-align: right;\">\n",
       "      <th></th>\n",
       "      <th>NUMERO DO CONTRIBUINTE</th>\n",
       "      <th>ANO DO EXERCICIO</th>\n",
       "      <th>NUMERO DA NL</th>\n",
       "      <th>DATA DO CADASTRAMENTO</th>\n",
       "      <th>NUMERO DO CONDOMINIO</th>\n",
       "      <th>CODLOG DO IMOVEL</th>\n",
       "      <th>NOME DE LOGRADOURO DO IMOVEL</th>\n",
       "      <th>NUMERO DO IMOVEL</th>\n",
       "      <th>COMPLEMENTO DO IMOVEL</th>\n",
       "      <th>BAIRRO DO IMOVEL</th>\n",
       "      <th>REFERENCIA DO IMOVEL</th>\n",
       "      <th>CEP DO IMOVEL</th>\n",
       "      <th>QUANTIDADE DE ESQUINAS FRENTES</th>\n",
       "      <th>FRACAO IDEAL</th>\n",
       "      <th>AREA DO TERRENO</th>\n",
       "      <th>AREA CONSTRUIDA</th>\n",
       "      <th>AREA OCUPADA</th>\n",
       "      <th>VALOR DO M2 DO TERRENO</th>\n",
       "      <th>VALOR DO M2 DE CONSTRUCAO</th>\n",
       "      <th>ANO DA CONSTRUCAO CORRIGIDO</th>\n",
       "      <th>QUANTIDADE DE PAVIMENTOS</th>\n",
       "      <th>TESTADA PARA CALCULO</th>\n",
       "      <th>TIPO DE USO DO IMOVEL</th>\n",
       "      <th>TIPO DE PADRAO DA CONSTRUCAO</th>\n",
       "      <th>TIPO DE TERRENO</th>\n",
       "      <th>FATOR DE OBSOLESCENCIA</th>\n",
       "      <th>ANO DE INICIO DA VIDA DO CONTRIBUINTE</th>\n",
       "      <th>MES DE INICIO DA VIDA DO CONTRIBUINTE</th>\n",
       "      <th>FASE DO CONTRIBUINTE</th>\n",
       "    </tr>\n",
       "  </thead>\n",
       "  <tbody>\n",
       "    <tr>\n",
       "      <th>0</th>\n",
       "      <td>0010030001-4</td>\n",
       "      <td>2013</td>\n",
       "      <td>1</td>\n",
       "      <td>NaN</td>\n",
       "      <td>00-0</td>\n",
       "      <td>03812-1</td>\n",
       "      <td>R  S       CAETANO</td>\n",
       "      <td>13</td>\n",
       "      <td>NaN</td>\n",
       "      <td>SANTA EFIGENIA</td>\n",
       "      <td>NaN</td>\n",
       "      <td>01104-001</td>\n",
       "      <td>1</td>\n",
       "      <td>1,0000</td>\n",
       "      <td>136</td>\n",
       "      <td>135</td>\n",
       "      <td>108</td>\n",
       "      <td>906,00</td>\n",
       "      <td>733,00</td>\n",
       "      <td>1924</td>\n",
       "      <td>1</td>\n",
       "      <td>13,00</td>\n",
       "      <td>loja</td>\n",
       "      <td>comercial horizontal - Padrão B</td>\n",
       "      <td>de esquina</td>\n",
       "      <td>0,20</td>\n",
       "      <td>1963</td>\n",
       "      <td>1</td>\n",
       "      <td>NaN</td>\n",
       "    </tr>\n",
       "    <tr>\n",
       "      <th>1</th>\n",
       "      <td>0010030002-2</td>\n",
       "      <td>2013</td>\n",
       "      <td>1</td>\n",
       "      <td>NaN</td>\n",
       "      <td>00-0</td>\n",
       "      <td>03812-1</td>\n",
       "      <td>R  S       CAETANO</td>\n",
       "      <td>19</td>\n",
       "      <td>NaN</td>\n",
       "      <td>SANTA EFIGENIA</td>\n",
       "      <td>NaN</td>\n",
       "      <td>01104-001</td>\n",
       "      <td>0</td>\n",
       "      <td>1,0000</td>\n",
       "      <td>90</td>\n",
       "      <td>67</td>\n",
       "      <td>67</td>\n",
       "      <td>906,00</td>\n",
       "      <td>733,00</td>\n",
       "      <td>1944</td>\n",
       "      <td>1</td>\n",
       "      <td>6,00</td>\n",
       "      <td>loja</td>\n",
       "      <td>comercial horizontal - Padrão B</td>\n",
       "      <td>normal</td>\n",
       "      <td>0,20</td>\n",
       "      <td>1963</td>\n",
       "      <td>1</td>\n",
       "      <td>NaN</td>\n",
       "    </tr>\n",
       "    <tr>\n",
       "      <th>2</th>\n",
       "      <td>0010030003-0</td>\n",
       "      <td>2013</td>\n",
       "      <td>1</td>\n",
       "      <td>NaN</td>\n",
       "      <td>00-0</td>\n",
       "      <td>03812-1</td>\n",
       "      <td>R  S       CAETANO</td>\n",
       "      <td>27</td>\n",
       "      <td>NaN</td>\n",
       "      <td>SANTA EFIGENIA</td>\n",
       "      <td>NaN</td>\n",
       "      <td>01104-001</td>\n",
       "      <td>0</td>\n",
       "      <td>1,0000</td>\n",
       "      <td>105</td>\n",
       "      <td>140</td>\n",
       "      <td>84</td>\n",
       "      <td>906,00</td>\n",
       "      <td>733,00</td>\n",
       "      <td>1965</td>\n",
       "      <td>2</td>\n",
       "      <td>7,85</td>\n",
       "      <td>loja</td>\n",
       "      <td>comercial horizontal - Padrão B</td>\n",
       "      <td>normal</td>\n",
       "      <td>0,42</td>\n",
       "      <td>1963</td>\n",
       "      <td>1</td>\n",
       "      <td>NaN</td>\n",
       "    </tr>\n",
       "    <tr>\n",
       "      <th>3</th>\n",
       "      <td>0010030004-9</td>\n",
       "      <td>2013</td>\n",
       "      <td>1</td>\n",
       "      <td>NaN</td>\n",
       "      <td>00-0</td>\n",
       "      <td>03812-1</td>\n",
       "      <td>R  S       CAETANO</td>\n",
       "      <td>33</td>\n",
       "      <td>NaN</td>\n",
       "      <td>NaN</td>\n",
       "      <td>NaN</td>\n",
       "      <td>01104-001</td>\n",
       "      <td>0</td>\n",
       "      <td>1,0000</td>\n",
       "      <td>108</td>\n",
       "      <td>103</td>\n",
       "      <td>86</td>\n",
       "      <td>906,00</td>\n",
       "      <td>733,00</td>\n",
       "      <td>1944</td>\n",
       "      <td>1</td>\n",
       "      <td>6,05</td>\n",
       "      <td>loja</td>\n",
       "      <td>comercial horizontal - Padrão B</td>\n",
       "      <td>normal</td>\n",
       "      <td>0,20</td>\n",
       "      <td>1963</td>\n",
       "      <td>1</td>\n",
       "      <td>NaN</td>\n",
       "    </tr>\n",
       "    <tr>\n",
       "      <th>4</th>\n",
       "      <td>0010030005-7</td>\n",
       "      <td>2013</td>\n",
       "      <td>1</td>\n",
       "      <td>NaN</td>\n",
       "      <td>00-0</td>\n",
       "      <td>03812-1</td>\n",
       "      <td>R  S       CAETANO</td>\n",
       "      <td>39</td>\n",
       "      <td>NaN</td>\n",
       "      <td>NaN</td>\n",
       "      <td>NaN</td>\n",
       "      <td>01104-001</td>\n",
       "      <td>0</td>\n",
       "      <td>1,0000</td>\n",
       "      <td>120</td>\n",
       "      <td>98</td>\n",
       "      <td>96</td>\n",
       "      <td>906,00</td>\n",
       "      <td>733,00</td>\n",
       "      <td>1944</td>\n",
       "      <td>1</td>\n",
       "      <td>6,70</td>\n",
       "      <td>loja</td>\n",
       "      <td>comercial horizontal - Padrão B</td>\n",
       "      <td>normal</td>\n",
       "      <td>0,20</td>\n",
       "      <td>1963</td>\n",
       "      <td>1</td>\n",
       "      <td>NaN</td>\n",
       "    </tr>\n",
       "  </tbody>\n",
       "</table>\n",
       "</div>"
      ],
      "text/plain": [
       "  NUMERO DO CONTRIBUINTE ANO DO EXERCICIO NUMERO DA NL DATA DO CADASTRAMENTO  \\\n",
       "0           0010030001-4             2013            1                   NaN   \n",
       "1           0010030002-2             2013            1                   NaN   \n",
       "2           0010030003-0             2013            1                   NaN   \n",
       "3           0010030004-9             2013            1                   NaN   \n",
       "4           0010030005-7             2013            1                   NaN   \n",
       "\n",
       "  NUMERO DO CONDOMINIO CODLOG DO IMOVEL NOME DE LOGRADOURO DO IMOVEL  \\\n",
       "0                 00-0          03812-1           R  S       CAETANO   \n",
       "1                 00-0          03812-1           R  S       CAETANO   \n",
       "2                 00-0          03812-1           R  S       CAETANO   \n",
       "3                 00-0          03812-1           R  S       CAETANO   \n",
       "4                 00-0          03812-1           R  S       CAETANO   \n",
       "\n",
       "  NUMERO DO IMOVEL COMPLEMENTO DO IMOVEL BAIRRO DO IMOVEL  \\\n",
       "0               13                   NaN   SANTA EFIGENIA   \n",
       "1               19                   NaN   SANTA EFIGENIA   \n",
       "2               27                   NaN   SANTA EFIGENIA   \n",
       "3               33                   NaN              NaN   \n",
       "4               39                   NaN              NaN   \n",
       "\n",
       "  REFERENCIA DO IMOVEL CEP DO IMOVEL QUANTIDADE DE ESQUINAS FRENTES  \\\n",
       "0                  NaN     01104-001                              1   \n",
       "1                  NaN     01104-001                              0   \n",
       "2                  NaN     01104-001                              0   \n",
       "3                  NaN     01104-001                              0   \n",
       "4                  NaN     01104-001                              0   \n",
       "\n",
       "  FRACAO IDEAL AREA DO TERRENO AREA CONSTRUIDA AREA OCUPADA  \\\n",
       "0       1,0000             136             135          108   \n",
       "1       1,0000              90              67           67   \n",
       "2       1,0000             105             140           84   \n",
       "3       1,0000             108             103           86   \n",
       "4       1,0000             120              98           96   \n",
       "\n",
       "  VALOR DO M2 DO TERRENO VALOR DO M2 DE CONSTRUCAO  \\\n",
       "0                 906,00                    733,00   \n",
       "1                 906,00                    733,00   \n",
       "2                 906,00                    733,00   \n",
       "3                 906,00                    733,00   \n",
       "4                 906,00                    733,00   \n",
       "\n",
       "  ANO DA CONSTRUCAO CORRIGIDO QUANTIDADE DE PAVIMENTOS TESTADA PARA CALCULO  \\\n",
       "0                        1924                        1                13,00   \n",
       "1                        1944                        1                 6,00   \n",
       "2                        1965                        2                 7,85   \n",
       "3                        1944                        1                 6,05   \n",
       "4                        1944                        1                 6,70   \n",
       "\n",
       "  TIPO DE USO DO IMOVEL     TIPO DE PADRAO DA CONSTRUCAO TIPO DE TERRENO  \\\n",
       "0                  loja  comercial horizontal - Padrão B      de esquina   \n",
       "1                  loja  comercial horizontal - Padrão B          normal   \n",
       "2                  loja  comercial horizontal - Padrão B          normal   \n",
       "3                  loja  comercial horizontal - Padrão B          normal   \n",
       "4                  loja  comercial horizontal - Padrão B          normal   \n",
       "\n",
       "  FATOR DE OBSOLESCENCIA ANO DE INICIO DA VIDA DO CONTRIBUINTE  \\\n",
       "0                   0,20                                  1963   \n",
       "1                   0,20                                  1963   \n",
       "2                   0,42                                  1963   \n",
       "3                   0,20                                  1963   \n",
       "4                   0,20                                  1963   \n",
       "\n",
       "  MES DE INICIO DA VIDA DO CONTRIBUINTE FASE DO CONTRIBUINTE  \n",
       "0                                     1                  NaN  \n",
       "1                                     1                  NaN  \n",
       "2                                     1                  NaN  \n",
       "3                                     1                  NaN  \n",
       "4                                     1                  NaN  "
      ]
     },
     "execution_count": 8,
     "metadata": {},
     "output_type": "execute_result"
    }
   ],
   "source": [
    "df_2013.head()"
   ]
  },
  {
   "cell_type": "code",
   "execution_count": 9,
   "id": "13746372-ab57-4387-9cc9-976c30d73157",
   "metadata": {},
   "outputs": [
    {
     "data": {
      "text/plain": [
       "array([nan], dtype=object)"
      ]
     },
     "execution_count": 9,
     "metadata": {},
     "output_type": "execute_result"
    }
   ],
   "source": [
    "#nao contem dados para data do cadastramento, mas é do início de 2013\n",
    "#a base é atualizada anualmente, sempre no início do ano\n",
    "df_2013['DATA DO CADASTRAMENTO'].unique()\n",
    "\n"
   ]
  },
  {
   "cell_type": "code",
   "execution_count": 10,
   "id": "fdfe70e5-5296-456d-ab05-e2a84db3a504",
   "metadata": {},
   "outputs": [
    {
     "data": {
      "text/plain": [
       "NUMERO DO CONTRIBUINTE                   object\n",
       "ANO DO EXERCICIO                         object\n",
       "NUMERO DA NL                             object\n",
       "DATA DO CADASTRAMENTO                    object\n",
       "NUMERO DO CONDOMINIO                     object\n",
       "CODLOG DO IMOVEL                         object\n",
       "NOME DE LOGRADOURO DO IMOVEL             object\n",
       "NUMERO DO IMOVEL                         object\n",
       "COMPLEMENTO DO IMOVEL                    object\n",
       "BAIRRO DO IMOVEL                         object\n",
       "REFERENCIA DO IMOVEL                     object\n",
       "CEP DO IMOVEL                            object\n",
       "QUANTIDADE DE ESQUINAS FRENTES           object\n",
       "FRACAO IDEAL                             object\n",
       "AREA DO TERRENO                          object\n",
       "AREA CONSTRUIDA                          object\n",
       "AREA OCUPADA                             object\n",
       "VALOR DO M2 DO TERRENO                   object\n",
       "VALOR DO M2 DE CONSTRUCAO                object\n",
       "ANO DA CONSTRUCAO CORRIGIDO              object\n",
       "QUANTIDADE DE PAVIMENTOS                 object\n",
       "TESTADA PARA CALCULO                     object\n",
       "TIPO DE USO DO IMOVEL                    object\n",
       "TIPO DE PADRAO DA CONSTRUCAO             object\n",
       "TIPO DE TERRENO                          object\n",
       "FATOR DE OBSOLESCENCIA                   object\n",
       "ANO DE INICIO DA VIDA DO CONTRIBUINTE    object\n",
       "MES DE INICIO DA VIDA DO CONTRIBUINTE    object\n",
       "FASE DO CONTRIBUINTE                     object\n",
       "dtype: object"
      ]
     },
     "execution_count": 10,
     "metadata": {},
     "output_type": "execute_result"
    }
   ],
   "source": [
    "df_2013.dtypes"
   ]
  },
  {
   "cell_type": "code",
   "execution_count": 11,
   "id": "bf2a6ae7-672d-4446-ba5c-0140833eac70",
   "metadata": {},
   "outputs": [],
   "source": [
    "df_2023 = read_csv_year(2023)"
   ]
  },
  {
   "cell_type": "code",
   "execution_count": 12,
   "id": "1b5c3f0c-2e2c-465b-b053-53503e95606d",
   "metadata": {},
   "outputs": [
    {
     "data": {
      "text/plain": [
       "array(['01/01/23'], dtype=object)"
      ]
     },
     "execution_count": 12,
     "metadata": {},
     "output_type": "execute_result"
    }
   ],
   "source": [
    "df_2023['DATA DO CADASTRAMENTO'].unique()"
   ]
  },
  {
   "cell_type": "code",
   "execution_count": 13,
   "id": "d031e5e7-6620-4dba-ac80-5485a02ae702",
   "metadata": {},
   "outputs": [
    {
     "data": {
      "text/html": [
       "<div>\n",
       "<style scoped>\n",
       "    .dataframe tbody tr th:only-of-type {\n",
       "        vertical-align: middle;\n",
       "    }\n",
       "\n",
       "    .dataframe tbody tr th {\n",
       "        vertical-align: top;\n",
       "    }\n",
       "\n",
       "    .dataframe thead th {\n",
       "        text-align: right;\n",
       "    }\n",
       "</style>\n",
       "<table border=\"1\" class=\"dataframe\">\n",
       "  <thead>\n",
       "    <tr style=\"text-align: right;\">\n",
       "      <th></th>\n",
       "      <th>NUMERO DO CONTRIBUINTE</th>\n",
       "      <th>ANO DO EXERCICIO</th>\n",
       "      <th>NUMERO DA NL</th>\n",
       "      <th>DATA DO CADASTRAMENTO</th>\n",
       "      <th>NUMERO DO CONDOMINIO</th>\n",
       "      <th>CODLOG DO IMOVEL</th>\n",
       "      <th>NOME DE LOGRADOURO DO IMOVEL</th>\n",
       "      <th>NUMERO DO IMOVEL</th>\n",
       "      <th>COMPLEMENTO DO IMOVEL</th>\n",
       "      <th>BAIRRO DO IMOVEL</th>\n",
       "      <th>REFERENCIA DO IMOVEL</th>\n",
       "      <th>CEP DO IMOVEL</th>\n",
       "      <th>QUANTIDADE DE ESQUINAS FRENTES</th>\n",
       "      <th>FRACAO IDEAL</th>\n",
       "      <th>AREA DO TERRENO</th>\n",
       "      <th>AREA CONSTRUIDA</th>\n",
       "      <th>AREA OCUPADA</th>\n",
       "      <th>VALOR DO M2 DO TERRENO</th>\n",
       "      <th>VALOR DO M2 DE CONSTRUCAO</th>\n",
       "      <th>ANO DA CONSTRUCAO CORRIGIDO</th>\n",
       "      <th>QUANTIDADE DE PAVIMENTOS</th>\n",
       "      <th>TESTADA PARA CALCULO</th>\n",
       "      <th>TIPO DE USO DO IMOVEL</th>\n",
       "      <th>TIPO DE PADRAO DA CONSTRUCAO</th>\n",
       "      <th>TIPO DE TERRENO</th>\n",
       "      <th>FATOR DE OBSOLESCENCIA</th>\n",
       "      <th>ANO DE INICIO DA VIDA DO CONTRIBUINTE</th>\n",
       "      <th>MES DE INICIO DA VIDA DO CONTRIBUINTE</th>\n",
       "      <th>FASE DO CONTRIBUINTE</th>\n",
       "    </tr>\n",
       "  </thead>\n",
       "  <tbody>\n",
       "    <tr>\n",
       "      <th>0</th>\n",
       "      <td>0010030001-4</td>\n",
       "      <td>2023</td>\n",
       "      <td>1</td>\n",
       "      <td>01/01/23</td>\n",
       "      <td>00-0</td>\n",
       "      <td>03812-1</td>\n",
       "      <td>R S CAETANO</td>\n",
       "      <td>13</td>\n",
       "      <td>NaN</td>\n",
       "      <td>SANTA EFIGENIA</td>\n",
       "      <td>NaN</td>\n",
       "      <td>01104-001</td>\n",
       "      <td>1</td>\n",
       "      <td>1,0000</td>\n",
       "      <td>136</td>\n",
       "      <td>135</td>\n",
       "      <td>108</td>\n",
       "      <td>3523,00</td>\n",
       "      <td>2600,00</td>\n",
       "      <td>1924</td>\n",
       "      <td>1</td>\n",
       "      <td>13,00</td>\n",
       "      <td>Loja</td>\n",
       "      <td>Comercial horizontal - padrão B</td>\n",
       "      <td>De esquina</td>\n",
       "      <td>0,20</td>\n",
       "      <td>1963</td>\n",
       "      <td>1</td>\n",
       "      <td>0</td>\n",
       "    </tr>\n",
       "    <tr>\n",
       "      <th>1</th>\n",
       "      <td>0010030002-2</td>\n",
       "      <td>2023</td>\n",
       "      <td>1</td>\n",
       "      <td>01/01/23</td>\n",
       "      <td>00-0</td>\n",
       "      <td>03812-1</td>\n",
       "      <td>R S CAETANO</td>\n",
       "      <td>19</td>\n",
       "      <td>NaN</td>\n",
       "      <td>SANTA EFIGENIA</td>\n",
       "      <td>NaN</td>\n",
       "      <td>01104-001</td>\n",
       "      <td>0</td>\n",
       "      <td>1,0000</td>\n",
       "      <td>90</td>\n",
       "      <td>67</td>\n",
       "      <td>67</td>\n",
       "      <td>3523,00</td>\n",
       "      <td>2600,00</td>\n",
       "      <td>1944</td>\n",
       "      <td>1</td>\n",
       "      <td>6,00</td>\n",
       "      <td>Loja</td>\n",
       "      <td>Comercial horizontal - padrão B</td>\n",
       "      <td>Normal</td>\n",
       "      <td>0,20</td>\n",
       "      <td>1963</td>\n",
       "      <td>1</td>\n",
       "      <td>0</td>\n",
       "    </tr>\n",
       "    <tr>\n",
       "      <th>2</th>\n",
       "      <td>0010030003-0</td>\n",
       "      <td>2023</td>\n",
       "      <td>1</td>\n",
       "      <td>01/01/23</td>\n",
       "      <td>00-0</td>\n",
       "      <td>03812-1</td>\n",
       "      <td>R S CAETANO</td>\n",
       "      <td>27</td>\n",
       "      <td>NaN</td>\n",
       "      <td>SANTA EFIGENIA</td>\n",
       "      <td>NaN</td>\n",
       "      <td>01104-001</td>\n",
       "      <td>0</td>\n",
       "      <td>1,0000</td>\n",
       "      <td>105</td>\n",
       "      <td>140</td>\n",
       "      <td>84</td>\n",
       "      <td>3523,00</td>\n",
       "      <td>2600,00</td>\n",
       "      <td>1965</td>\n",
       "      <td>2</td>\n",
       "      <td>7,85</td>\n",
       "      <td>Loja</td>\n",
       "      <td>Comercial horizontal - padrão B</td>\n",
       "      <td>Normal</td>\n",
       "      <td>0,24</td>\n",
       "      <td>1963</td>\n",
       "      <td>1</td>\n",
       "      <td>0</td>\n",
       "    </tr>\n",
       "    <tr>\n",
       "      <th>3</th>\n",
       "      <td>0010030004-9</td>\n",
       "      <td>2023</td>\n",
       "      <td>1</td>\n",
       "      <td>01/01/23</td>\n",
       "      <td>00-0</td>\n",
       "      <td>03812-1</td>\n",
       "      <td>R S CAETANO</td>\n",
       "      <td>33</td>\n",
       "      <td>NaN</td>\n",
       "      <td>NaN</td>\n",
       "      <td>NaN</td>\n",
       "      <td>01104-001</td>\n",
       "      <td>0</td>\n",
       "      <td>1,0000</td>\n",
       "      <td>108</td>\n",
       "      <td>103</td>\n",
       "      <td>86</td>\n",
       "      <td>3523,00</td>\n",
       "      <td>2600,00</td>\n",
       "      <td>1944</td>\n",
       "      <td>1</td>\n",
       "      <td>6,05</td>\n",
       "      <td>Loja</td>\n",
       "      <td>Comercial horizontal - padrão B</td>\n",
       "      <td>Normal</td>\n",
       "      <td>0,20</td>\n",
       "      <td>1963</td>\n",
       "      <td>1</td>\n",
       "      <td>0</td>\n",
       "    </tr>\n",
       "    <tr>\n",
       "      <th>4</th>\n",
       "      <td>0010030005-7</td>\n",
       "      <td>2023</td>\n",
       "      <td>1</td>\n",
       "      <td>01/01/23</td>\n",
       "      <td>00-0</td>\n",
       "      <td>03812-1</td>\n",
       "      <td>R S CAETANO</td>\n",
       "      <td>39</td>\n",
       "      <td>NaN</td>\n",
       "      <td>NaN</td>\n",
       "      <td>NaN</td>\n",
       "      <td>01104-001</td>\n",
       "      <td>0</td>\n",
       "      <td>1,0000</td>\n",
       "      <td>120</td>\n",
       "      <td>170</td>\n",
       "      <td>110</td>\n",
       "      <td>3523,00</td>\n",
       "      <td>2600,00</td>\n",
       "      <td>2004</td>\n",
       "      <td>2</td>\n",
       "      <td>6,70</td>\n",
       "      <td>Loja</td>\n",
       "      <td>Comercial horizontal - padrão B</td>\n",
       "      <td>Normal</td>\n",
       "      <td>0,83</td>\n",
       "      <td>1963</td>\n",
       "      <td>1</td>\n",
       "      <td>0</td>\n",
       "    </tr>\n",
       "  </tbody>\n",
       "</table>\n",
       "</div>"
      ],
      "text/plain": [
       "  NUMERO DO CONTRIBUINTE ANO DO EXERCICIO NUMERO DA NL DATA DO CADASTRAMENTO  \\\n",
       "0           0010030001-4             2023            1              01/01/23   \n",
       "1           0010030002-2             2023            1              01/01/23   \n",
       "2           0010030003-0             2023            1              01/01/23   \n",
       "3           0010030004-9             2023            1              01/01/23   \n",
       "4           0010030005-7             2023            1              01/01/23   \n",
       "\n",
       "  NUMERO DO CONDOMINIO CODLOG DO IMOVEL NOME DE LOGRADOURO DO IMOVEL  \\\n",
       "0                 00-0          03812-1                  R S CAETANO   \n",
       "1                 00-0          03812-1                  R S CAETANO   \n",
       "2                 00-0          03812-1                  R S CAETANO   \n",
       "3                 00-0          03812-1                  R S CAETANO   \n",
       "4                 00-0          03812-1                  R S CAETANO   \n",
       "\n",
       "  NUMERO DO IMOVEL COMPLEMENTO DO IMOVEL BAIRRO DO IMOVEL  \\\n",
       "0               13                   NaN   SANTA EFIGENIA   \n",
       "1               19                   NaN   SANTA EFIGENIA   \n",
       "2               27                   NaN   SANTA EFIGENIA   \n",
       "3               33                   NaN              NaN   \n",
       "4               39                   NaN              NaN   \n",
       "\n",
       "  REFERENCIA DO IMOVEL CEP DO IMOVEL QUANTIDADE DE ESQUINAS FRENTES  \\\n",
       "0                  NaN     01104-001                              1   \n",
       "1                  NaN     01104-001                              0   \n",
       "2                  NaN     01104-001                              0   \n",
       "3                  NaN     01104-001                              0   \n",
       "4                  NaN     01104-001                              0   \n",
       "\n",
       "  FRACAO IDEAL AREA DO TERRENO AREA CONSTRUIDA AREA OCUPADA  \\\n",
       "0       1,0000             136             135          108   \n",
       "1       1,0000              90              67           67   \n",
       "2       1,0000             105             140           84   \n",
       "3       1,0000             108             103           86   \n",
       "4       1,0000             120             170          110   \n",
       "\n",
       "  VALOR DO M2 DO TERRENO VALOR DO M2 DE CONSTRUCAO  \\\n",
       "0                3523,00                   2600,00   \n",
       "1                3523,00                   2600,00   \n",
       "2                3523,00                   2600,00   \n",
       "3                3523,00                   2600,00   \n",
       "4                3523,00                   2600,00   \n",
       "\n",
       "  ANO DA CONSTRUCAO CORRIGIDO QUANTIDADE DE PAVIMENTOS TESTADA PARA CALCULO  \\\n",
       "0                        1924                        1                13,00   \n",
       "1                        1944                        1                 6,00   \n",
       "2                        1965                        2                 7,85   \n",
       "3                        1944                        1                 6,05   \n",
       "4                        2004                        2                 6,70   \n",
       "\n",
       "  TIPO DE USO DO IMOVEL     TIPO DE PADRAO DA CONSTRUCAO TIPO DE TERRENO  \\\n",
       "0                  Loja  Comercial horizontal - padrão B      De esquina   \n",
       "1                  Loja  Comercial horizontal - padrão B          Normal   \n",
       "2                  Loja  Comercial horizontal - padrão B          Normal   \n",
       "3                  Loja  Comercial horizontal - padrão B          Normal   \n",
       "4                  Loja  Comercial horizontal - padrão B          Normal   \n",
       "\n",
       "  FATOR DE OBSOLESCENCIA ANO DE INICIO DA VIDA DO CONTRIBUINTE  \\\n",
       "0                   0,20                                  1963   \n",
       "1                   0,20                                  1963   \n",
       "2                   0,24                                  1963   \n",
       "3                   0,20                                  1963   \n",
       "4                   0,83                                  1963   \n",
       "\n",
       "  MES DE INICIO DA VIDA DO CONTRIBUINTE FASE DO CONTRIBUINTE  \n",
       "0                                     1                    0  \n",
       "1                                     1                    0  \n",
       "2                                     1                    0  \n",
       "3                                     1                    0  \n",
       "4                                     1                    0  "
      ]
     },
     "execution_count": 13,
     "metadata": {},
     "output_type": "execute_result"
    }
   ],
   "source": [
    "df_2023.head()"
   ]
  },
  {
   "cell_type": "code",
   "execution_count": 14,
   "id": "395c82a9-8fce-48e7-89b7-f08231243a74",
   "metadata": {},
   "outputs": [
    {
     "data": {
      "text/plain": [
       "NUMERO DO CONTRIBUINTE                   object\n",
       "ANO DO EXERCICIO                         object\n",
       "NUMERO DA NL                             object\n",
       "DATA DO CADASTRAMENTO                    object\n",
       "NUMERO DO CONDOMINIO                     object\n",
       "CODLOG DO IMOVEL                         object\n",
       "NOME DE LOGRADOURO DO IMOVEL             object\n",
       "NUMERO DO IMOVEL                         object\n",
       "COMPLEMENTO DO IMOVEL                    object\n",
       "BAIRRO DO IMOVEL                         object\n",
       "REFERENCIA DO IMOVEL                     object\n",
       "CEP DO IMOVEL                            object\n",
       "QUANTIDADE DE ESQUINAS FRENTES           object\n",
       "FRACAO IDEAL                             object\n",
       "AREA DO TERRENO                          object\n",
       "AREA CONSTRUIDA                          object\n",
       "AREA OCUPADA                             object\n",
       "VALOR DO M2 DO TERRENO                   object\n",
       "VALOR DO M2 DE CONSTRUCAO                object\n",
       "ANO DA CONSTRUCAO CORRIGIDO              object\n",
       "QUANTIDADE DE PAVIMENTOS                 object\n",
       "TESTADA PARA CALCULO                     object\n",
       "TIPO DE USO DO IMOVEL                    object\n",
       "TIPO DE PADRAO DA CONSTRUCAO             object\n",
       "TIPO DE TERRENO                          object\n",
       "FATOR DE OBSOLESCENCIA                   object\n",
       "ANO DE INICIO DA VIDA DO CONTRIBUINTE    object\n",
       "MES DE INICIO DA VIDA DO CONTRIBUINTE    object\n",
       "FASE DO CONTRIBUINTE                     object\n",
       "dtype: object"
      ]
     },
     "execution_count": 14,
     "metadata": {},
     "output_type": "execute_result"
    }
   ],
   "source": [
    "df_2023.dtypes"
   ]
  },
  {
   "cell_type": "markdown",
   "id": "7a3c2980-0ef5-4f2f-a908-1ad5abeab7b4",
   "metadata": {},
   "source": [
    "Precisamos extrair o identificador das quadras do código SQL.\n",
    "\n",
    "Em seguida, é necessário que a área construída seja transformada em float.\n"
   ]
  },
  {
   "cell_type": "code",
   "execution_count": 15,
   "id": "92ed38fd-eb02-4077-9490-f98b21877b2e",
   "metadata": {},
   "outputs": [],
   "source": [
    "def extract_quadra(df):\n",
    "    \n",
    "    df['quadra'] = df['NUMERO DO CONTRIBUINTE'].str.slice(stop=6)\n",
    "\n"
   ]
  },
  {
   "cell_type": "code",
   "execution_count": 16,
   "id": "46b44424-44cf-4dd1-a582-ac4b2db561fc",
   "metadata": {},
   "outputs": [],
   "source": [
    "def area_construida_float(df):\n",
    "    \n",
    "    df['AREA CONSTRUIDA'] = df['AREA CONSTRUIDA'].astype(float)"
   ]
  },
  {
   "cell_type": "code",
   "execution_count": 17,
   "id": "3371962c-fc15-4a25-a7af-1c81357bd5ac",
   "metadata": {},
   "outputs": [],
   "source": [
    "extract_quadra(df_2013)\n",
    "area_construida_float(df_2013)\n",
    "\n",
    "extract_quadra(df_2023)\n",
    "area_construida_float(df_2023)"
   ]
  },
  {
   "cell_type": "code",
   "execution_count": 18,
   "id": "4676f40a-53e8-43c3-97d1-eedfd309b3da",
   "metadata": {},
   "outputs": [
    {
     "data": {
      "text/plain": [
       "0"
      ]
     },
     "execution_count": 18,
     "metadata": {},
     "output_type": "execute_result"
    }
   ],
   "source": [
    "df_2023['AREA CONSTRUIDA'].isnull().sum()"
   ]
  },
  {
   "cell_type": "code",
   "execution_count": 19,
   "id": "dceb87cf-63a7-4bf1-a81a-728f2bf99a1b",
   "metadata": {},
   "outputs": [],
   "source": [
    "total_registros_2023 = len(df_2023)"
   ]
  },
  {
   "cell_type": "code",
   "execution_count": 20,
   "id": "43363f28-0973-4e44-bb8a-e7982c102ab7",
   "metadata": {},
   "outputs": [
    {
     "data": {
      "text/plain": [
       "3639376"
      ]
     },
     "execution_count": 20,
     "metadata": {},
     "output_type": "execute_result"
    }
   ],
   "source": [
    "total_registros_2023"
   ]
  },
  {
   "cell_type": "code",
   "execution_count": 21,
   "id": "f9418182-5def-456b-becc-65941e1f2527",
   "metadata": {},
   "outputs": [
    {
     "data": {
      "text/plain": [
       "4"
      ]
     },
     "execution_count": 21,
     "metadata": {},
     "output_type": "execute_result"
    }
   ],
   "source": [
    "df_2013['AREA CONSTRUIDA'].isnull().sum()"
   ]
  },
  {
   "cell_type": "code",
   "execution_count": 22,
   "id": "72bdc85c-7e32-4623-ad07-1037cb7247ef",
   "metadata": {},
   "outputs": [],
   "source": [
    "total_registros_2013 = len(df_2013)"
   ]
  },
  {
   "cell_type": "code",
   "execution_count": 23,
   "id": "a3a4b76f-5f75-42ba-8c5d-3a443263f2f4",
   "metadata": {},
   "outputs": [
    {
     "data": {
      "text/plain": [
       "3130546"
      ]
     },
     "execution_count": 23,
     "metadata": {},
     "output_type": "execute_result"
    }
   ],
   "source": [
    "total_registros_2013"
   ]
  },
  {
   "cell_type": "markdown",
   "id": "1624d285-3f50-43e9-b8f2-5e4a14225745",
   "metadata": {},
   "source": [
    "Os registros com área construída nula para 2013 parecem ser sujeira no banco de dados.\n",
    "Vamos excluílos. São apenas 4 em 3 milhões.\n"
   ]
  },
  {
   "cell_type": "code",
   "execution_count": 24,
   "id": "5cda5a51-fc42-46bc-a28c-32e0d8895ba2",
   "metadata": {},
   "outputs": [
    {
     "data": {
      "text/html": [
       "<div>\n",
       "<style scoped>\n",
       "    .dataframe tbody tr th:only-of-type {\n",
       "        vertical-align: middle;\n",
       "    }\n",
       "\n",
       "    .dataframe tbody tr th {\n",
       "        vertical-align: top;\n",
       "    }\n",
       "\n",
       "    .dataframe thead th {\n",
       "        text-align: right;\n",
       "    }\n",
       "</style>\n",
       "<table border=\"1\" class=\"dataframe\">\n",
       "  <thead>\n",
       "    <tr style=\"text-align: right;\">\n",
       "      <th></th>\n",
       "      <th>NUMERO DO CONTRIBUINTE</th>\n",
       "      <th>ANO DO EXERCICIO</th>\n",
       "      <th>NUMERO DA NL</th>\n",
       "      <th>DATA DO CADASTRAMENTO</th>\n",
       "      <th>NUMERO DO CONDOMINIO</th>\n",
       "      <th>CODLOG DO IMOVEL</th>\n",
       "      <th>NOME DE LOGRADOURO DO IMOVEL</th>\n",
       "      <th>NUMERO DO IMOVEL</th>\n",
       "      <th>COMPLEMENTO DO IMOVEL</th>\n",
       "      <th>BAIRRO DO IMOVEL</th>\n",
       "      <th>REFERENCIA DO IMOVEL</th>\n",
       "      <th>CEP DO IMOVEL</th>\n",
       "      <th>QUANTIDADE DE ESQUINAS FRENTES</th>\n",
       "      <th>FRACAO IDEAL</th>\n",
       "      <th>AREA DO TERRENO</th>\n",
       "      <th>AREA CONSTRUIDA</th>\n",
       "      <th>AREA OCUPADA</th>\n",
       "      <th>VALOR DO M2 DO TERRENO</th>\n",
       "      <th>VALOR DO M2 DE CONSTRUCAO</th>\n",
       "      <th>ANO DA CONSTRUCAO CORRIGIDO</th>\n",
       "      <th>QUANTIDADE DE PAVIMENTOS</th>\n",
       "      <th>TESTADA PARA CALCULO</th>\n",
       "      <th>TIPO DE USO DO IMOVEL</th>\n",
       "      <th>TIPO DE PADRAO DA CONSTRUCAO</th>\n",
       "      <th>TIPO DE TERRENO</th>\n",
       "      <th>FATOR DE OBSOLESCENCIA</th>\n",
       "      <th>ANO DE INICIO DA VIDA DO CONTRIBUINTE</th>\n",
       "      <th>MES DE INICIO DA VIDA DO CONTRIBUINTE</th>\n",
       "      <th>FASE DO CONTRIBUINTE</th>\n",
       "      <th>quadra</th>\n",
       "    </tr>\n",
       "  </thead>\n",
       "  <tbody>\n",
       "    <tr>\n",
       "      <th>1036162</th>\n",
       "      <td>0553650088-0</td>\n",
       "      <td>2013</td>\n",
       "      <td>1</td>\n",
       "      <td>NaN</td>\n",
       "      <td>NaN</td>\n",
       "      <td>NaN</td>\n",
       "      <td>NaN</td>\n",
       "      <td>NaN</td>\n",
       "      <td>NaN</td>\n",
       "      <td>NaN</td>\n",
       "      <td>NaN</td>\n",
       "      <td>NaN</td>\n",
       "      <td>NaN</td>\n",
       "      <td>NaN</td>\n",
       "      <td>NaN</td>\n",
       "      <td>NaN</td>\n",
       "      <td>NaN</td>\n",
       "      <td>NaN</td>\n",
       "      <td>NaN</td>\n",
       "      <td>NaN</td>\n",
       "      <td>NaN</td>\n",
       "      <td>NaN</td>\n",
       "      <td>NaN</td>\n",
       "      <td>NaN</td>\n",
       "      <td>NaN</td>\n",
       "      <td>NaN</td>\n",
       "      <td>NaN</td>\n",
       "      <td>NaN</td>\n",
       "      <td>NaN</td>\n",
       "      <td>055365</td>\n",
       "    </tr>\n",
       "    <tr>\n",
       "      <th>1097187</th>\n",
       "      <td>0600590089-7</td>\n",
       "      <td>2013</td>\n",
       "      <td>1</td>\n",
       "      <td>NaN</td>\n",
       "      <td>NaN</td>\n",
       "      <td>NaN</td>\n",
       "      <td>NaN</td>\n",
       "      <td>NaN</td>\n",
       "      <td>NaN</td>\n",
       "      <td>NaN</td>\n",
       "      <td>NaN</td>\n",
       "      <td>NaN</td>\n",
       "      <td>NaN</td>\n",
       "      <td>NaN</td>\n",
       "      <td>NaN</td>\n",
       "      <td>NaN</td>\n",
       "      <td>NaN</td>\n",
       "      <td>NaN</td>\n",
       "      <td>NaN</td>\n",
       "      <td>NaN</td>\n",
       "      <td>NaN</td>\n",
       "      <td>NaN</td>\n",
       "      <td>NaN</td>\n",
       "      <td>NaN</td>\n",
       "      <td>NaN</td>\n",
       "      <td>NaN</td>\n",
       "      <td>NaN</td>\n",
       "      <td>NaN</td>\n",
       "      <td>NaN</td>\n",
       "      <td>060059</td>\n",
       "    </tr>\n",
       "    <tr>\n",
       "      <th>2543336</th>\n",
       "      <td>1631010003-2</td>\n",
       "      <td>2013</td>\n",
       "      <td>1</td>\n",
       "      <td>NaN</td>\n",
       "      <td>NaN</td>\n",
       "      <td>NaN</td>\n",
       "      <td>NaN</td>\n",
       "      <td>NaN</td>\n",
       "      <td>NaN</td>\n",
       "      <td>NaN</td>\n",
       "      <td>NaN</td>\n",
       "      <td>NaN</td>\n",
       "      <td>NaN</td>\n",
       "      <td>NaN</td>\n",
       "      <td>NaN</td>\n",
       "      <td>NaN</td>\n",
       "      <td>NaN</td>\n",
       "      <td>NaN</td>\n",
       "      <td>NaN</td>\n",
       "      <td>NaN</td>\n",
       "      <td>NaN</td>\n",
       "      <td>NaN</td>\n",
       "      <td>NaN</td>\n",
       "      <td>NaN</td>\n",
       "      <td>NaN</td>\n",
       "      <td>NaN</td>\n",
       "      <td>NaN</td>\n",
       "      <td>NaN</td>\n",
       "      <td>NaN</td>\n",
       "      <td>163101</td>\n",
       "    </tr>\n",
       "    <tr>\n",
       "      <th>2622458</th>\n",
       "      <td>1691450011-7</td>\n",
       "      <td>2013</td>\n",
       "      <td>1</td>\n",
       "      <td>NaN</td>\n",
       "      <td>00-0</td>\n",
       "      <td>67351-0</td>\n",
       "      <td>R          NELSON BRISSAC</td>\n",
       "      <td>1220</td>\n",
       "      <td>D N LT 12;PRQ REGINA;;05773-110;0;1,0000;250;6...</td>\n",
       "      <td>NaN</td>\n",
       "      <td>NaN</td>\n",
       "      <td>NaN</td>\n",
       "      <td>NaN</td>\n",
       "      <td>NaN</td>\n",
       "      <td>NaN</td>\n",
       "      <td>NaN</td>\n",
       "      <td>NaN</td>\n",
       "      <td>NaN</td>\n",
       "      <td>NaN</td>\n",
       "      <td>NaN</td>\n",
       "      <td>NaN</td>\n",
       "      <td>NaN</td>\n",
       "      <td>NaN</td>\n",
       "      <td>NaN</td>\n",
       "      <td>NaN</td>\n",
       "      <td>NaN</td>\n",
       "      <td>NaN</td>\n",
       "      <td>NaN</td>\n",
       "      <td>NaN</td>\n",
       "      <td>169145</td>\n",
       "    </tr>\n",
       "  </tbody>\n",
       "</table>\n",
       "</div>"
      ],
      "text/plain": [
       "        NUMERO DO CONTRIBUINTE ANO DO EXERCICIO NUMERO DA NL  \\\n",
       "1036162           0553650088-0             2013            1   \n",
       "1097187           0600590089-7             2013            1   \n",
       "2543336           1631010003-2             2013            1   \n",
       "2622458           1691450011-7             2013            1   \n",
       "\n",
       "        DATA DO CADASTRAMENTO NUMERO DO CONDOMINIO CODLOG DO IMOVEL  \\\n",
       "1036162                   NaN                  NaN              NaN   \n",
       "1097187                   NaN                  NaN              NaN   \n",
       "2543336                   NaN                  NaN              NaN   \n",
       "2622458                   NaN                 00-0          67351-0   \n",
       "\n",
       "        NOME DE LOGRADOURO DO IMOVEL NUMERO DO IMOVEL  \\\n",
       "1036162                          NaN              NaN   \n",
       "1097187                          NaN              NaN   \n",
       "2543336                          NaN              NaN   \n",
       "2622458    R          NELSON BRISSAC             1220   \n",
       "\n",
       "                                     COMPLEMENTO DO IMOVEL BAIRRO DO IMOVEL  \\\n",
       "1036162                                                NaN              NaN   \n",
       "1097187                                                NaN              NaN   \n",
       "2543336                                                NaN              NaN   \n",
       "2622458  D N LT 12;PRQ REGINA;;05773-110;0;1,0000;250;6...              NaN   \n",
       "\n",
       "        REFERENCIA DO IMOVEL CEP DO IMOVEL QUANTIDADE DE ESQUINAS FRENTES  \\\n",
       "1036162                  NaN           NaN                            NaN   \n",
       "1097187                  NaN           NaN                            NaN   \n",
       "2543336                  NaN           NaN                            NaN   \n",
       "2622458                  NaN           NaN                            NaN   \n",
       "\n",
       "        FRACAO IDEAL AREA DO TERRENO  AREA CONSTRUIDA AREA OCUPADA  \\\n",
       "1036162          NaN             NaN              NaN          NaN   \n",
       "1097187          NaN             NaN              NaN          NaN   \n",
       "2543336          NaN             NaN              NaN          NaN   \n",
       "2622458          NaN             NaN              NaN          NaN   \n",
       "\n",
       "        VALOR DO M2 DO TERRENO VALOR DO M2 DE CONSTRUCAO  \\\n",
       "1036162                    NaN                       NaN   \n",
       "1097187                    NaN                       NaN   \n",
       "2543336                    NaN                       NaN   \n",
       "2622458                    NaN                       NaN   \n",
       "\n",
       "        ANO DA CONSTRUCAO CORRIGIDO QUANTIDADE DE PAVIMENTOS  \\\n",
       "1036162                         NaN                      NaN   \n",
       "1097187                         NaN                      NaN   \n",
       "2543336                         NaN                      NaN   \n",
       "2622458                         NaN                      NaN   \n",
       "\n",
       "        TESTADA PARA CALCULO TIPO DE USO DO IMOVEL  \\\n",
       "1036162                  NaN                   NaN   \n",
       "1097187                  NaN                   NaN   \n",
       "2543336                  NaN                   NaN   \n",
       "2622458                  NaN                   NaN   \n",
       "\n",
       "        TIPO DE PADRAO DA CONSTRUCAO TIPO DE TERRENO FATOR DE OBSOLESCENCIA  \\\n",
       "1036162                          NaN             NaN                    NaN   \n",
       "1097187                          NaN             NaN                    NaN   \n",
       "2543336                          NaN             NaN                    NaN   \n",
       "2622458                          NaN             NaN                    NaN   \n",
       "\n",
       "        ANO DE INICIO DA VIDA DO CONTRIBUINTE  \\\n",
       "1036162                                   NaN   \n",
       "1097187                                   NaN   \n",
       "2543336                                   NaN   \n",
       "2622458                                   NaN   \n",
       "\n",
       "        MES DE INICIO DA VIDA DO CONTRIBUINTE FASE DO CONTRIBUINTE  quadra  \n",
       "1036162                                   NaN                  NaN  055365  \n",
       "1097187                                   NaN                  NaN  060059  \n",
       "2543336                                   NaN                  NaN  163101  \n",
       "2622458                                   NaN                  NaN  169145  "
      ]
     },
     "execution_count": 24,
     "metadata": {},
     "output_type": "execute_result"
    }
   ],
   "source": [
    "df_2013[df_2013['AREA CONSTRUIDA'].isnull()]"
   ]
  },
  {
   "cell_type": "code",
   "execution_count": 25,
   "id": "65406f33-2f2b-4ebd-99ad-401c9d5b7034",
   "metadata": {},
   "outputs": [],
   "source": [
    "df_2013 = df_2013[df_2013['AREA CONSTRUIDA'].notnull()].copy().reset_index(drop=True)"
   ]
  },
  {
   "cell_type": "markdown",
   "id": "ebb638f2-84a5-4d32-b69f-e60f4df92dc2",
   "metadata": {},
   "source": [
    "Agora vamos identificar, para ambos os bancos de dados, os lotes que correspondem a construções verticais.\n"
   ]
  },
  {
   "cell_type": "code",
   "execution_count": 26,
   "id": "b569811b-15b0-41df-9508-82133f808ae9",
   "metadata": {},
   "outputs": [
    {
     "data": {
      "text/plain": [
       "array(['comercial horizontal - Padrão B',\n",
       "       'residência vertical - Padrão C', 'comercial vertical - Padrão B',\n",
       "       'comercial vertical - Padrão C',\n",
       "       'residência horizontal - Padrão C',\n",
       "       'residência horizontal - Padrão B',\n",
       "       'residência horizontal - Padrão A',\n",
       "       'comercial horizontal - Padrão A',\n",
       "       'comercial horizontal - Padrão C', 'terreno',\n",
       "       'residência vertical - Padrão B',\n",
       "       'Barracão/Telheiro/Oficina/Posto de serviço/Armazém/Depósito/Indústria - Padrão C',\n",
       "       'comercial vertical - Padrão A',\n",
       "       'Templo/Clube/Ginásio ou Estádio esportivo/Museu/Hipódromo/Cinema/Teatro/Aeroporto/Estações/etc. - padrão C',\n",
       "       'Barracão/Telheiro/Oficina/Posto de serviço/Armazém/Depósito/Indústria - Padrão B',\n",
       "       'Templo/Clube/Ginásio ou Estádio esportivo/Museu/Hipódromo/Cinema/Teatro/Aeroporto/Estações/etc. - padrão B',\n",
       "       'residência horizontal - Padrão D',\n",
       "       'residência vertical - Padrão D',\n",
       "       'Barracão/Telheiro/Oficina/Posto de serviço/Armazém/Depósito/Indústria - Padrão A',\n",
       "       'comercial vertical - Padrão D', 'comercial horizontal - Padrão D',\n",
       "       'edifício de garagens - Padrão A',\n",
       "       'residência vertical - Padrão A',\n",
       "       'Barracão/Telheiro/Oficina/Posto de serviço/Armazém/Depósito/Indústria - Padrão D',\n",
       "       'Templo/Clube/Ginásio ou Estádio esportivo/Museu/Hipódromo/Cinema/Teatro/Aeroporto/Estações/etc. - padrão D',\n",
       "       'Barracão/Telheiro/Oficina/Posto de serviço/Armazém/Depósito/Indústria - Padrão E',\n",
       "       'residência horizontal - Padrão E',\n",
       "       'residência vertical - Padrão E', 'residência vertical - Padrão F',\n",
       "       'residência horizontal - Padrão F',\n",
       "       'comercial vertical - Padrão E', 'comercial horizontal - Padrão E',\n",
       "       'normal'], dtype=object)"
      ]
     },
     "execution_count": 26,
     "metadata": {},
     "output_type": "execute_result"
    }
   ],
   "source": [
    "df_2013['TIPO DE PADRAO DA CONSTRUCAO'].unique()"
   ]
  },
  {
   "cell_type": "code",
   "execution_count": 27,
   "id": "dae46585-d2aa-4543-8aec-45b0f9dd46a4",
   "metadata": {},
   "outputs": [
    {
     "data": {
      "text/plain": [
       "array(['Comercial horizontal - padrão B',\n",
       "       'Residencial vertical - padrão C', 'Comercial vertical - padrão B',\n",
       "       'Comercial vertical - padrão C',\n",
       "       'Residencial horizontal - padrão C',\n",
       "       'Residencial horizontal - padrão B',\n",
       "       'Residencial horizontal - padrão A',\n",
       "       'Comercial horizontal - padrão A', 'TERRENO',\n",
       "       'Comercial horizontal - padrão C',\n",
       "       'Residencial vertical - padrão B',\n",
       "       'Oficina/Posto de serviço/Armazém/Depósito/Indústria - padrão C',\n",
       "       'Comercial vertical - padrão A',\n",
       "       'Templo/Clube/Ginásio ou Estádio esportivo/Museu/Hipódromo/Cinema/Teatro/Aeroporto/Estações/etc. - padrão C',\n",
       "       'Residencial vertical - padrão A',\n",
       "       'Barracão/Telheiro/Oficina/Posto de serviço/Armazém/Depósito/Indústria - padrão B',\n",
       "       'Templo/Clube/Ginásio ou Estádio esportivo/Museu/Hipódromo/Cinema/Teatro/Aeroporto/Estações/etc. - padrão B',\n",
       "       'Residencial horizontal - padrão D',\n",
       "       'Residencial vertical - padrão D',\n",
       "       'Templo/Clube/Ginásio ou Estádio esportivo/Museu/Hipódromo/Cinema/Teatro/Aeroporto/Estações/etc. - padrão D',\n",
       "       'Barracão/Telheiro/Oficina - padrão A',\n",
       "       'Comercial vertical - padrão D', 'Comercial horizontal - padrão D',\n",
       "       'Edifício de garagens - padrão A',\n",
       "       'Oficina/Posto de serviço/Armazém/Depósito/Indústria - padrão D',\n",
       "       'Comercial vertical - padrão E',\n",
       "       'Residencial horizontal - padrão E',\n",
       "       'Residencial vertical - padrão E',\n",
       "       'Residencial vertical - padrão F', 'Indústria - padrão E',\n",
       "       'Residencial horizontal - padrão F',\n",
       "       'Comercial horizontal - padrão E'], dtype=object)"
      ]
     },
     "execution_count": 27,
     "metadata": {},
     "output_type": "execute_result"
    }
   ],
   "source": [
    "df_2023['TIPO DE PADRAO DA CONSTRUCAO'].unique()"
   ]
  },
  {
   "cell_type": "markdown",
   "id": "d4fd6464-3593-4f5d-9737-ecb54f77435f",
   "metadata": {},
   "source": [
    "\n",
    "\n",
    "Esta tipologia está contida na tabela V da lei do IPTU. http://www.prefeitura.sp.gov.br/cidade/secretarias/upload/arquivos/secretarias/financas/legislacao/Lei-10235-1986.pdf\n",
    "\n",
    "Não estamos interessados em diferenciar os padrões de construção, mas sim os tipos.\n",
    "\n",
    "Queremos especificamente os padrões verticais residenciais.\n",
    "\n",
    "\"Tipo 2 – Residencial Vertical Prédios de Apartamentos\"\n",
    "\n"
   ]
  },
  {
   "cell_type": "code",
   "execution_count": 28,
   "id": "d3f84367-d8a3-4353-847e-20bf8b02272c",
   "metadata": {},
   "outputs": [],
   "source": [
    "def construcao_residencial_vertical(df):\n",
    "    \n",
    "    tipos_brutos = df['TIPO DE PADRAO DA CONSTRUCAO'].str.lower()\n",
    "    mask_vertical = tipos_brutos.str.contains('vertical')\n",
    "    mask_residencial = tipos_brutos.str.contains('resid')\n",
    "    \n",
    "    df['construcao_residencial_vertical'] = mask_vertical & mask_residencial"
   ]
  },
  {
   "cell_type": "code",
   "execution_count": 29,
   "id": "884b45c4-129a-4dce-b3ef-524c7a4d31e5",
   "metadata": {},
   "outputs": [],
   "source": [
    "construcao_residencial_vertical(df_2023)\n",
    "construcao_residencial_vertical(df_2013)\n"
   ]
  },
  {
   "cell_type": "code",
   "execution_count": 30,
   "id": "41ef53ca-e656-43f3-976e-4175d868068e",
   "metadata": {},
   "outputs": [],
   "source": [
    "df_2023 = df_2023[df_2023['construcao_residencial_vertical']].copy().reset_index(drop=True)\n",
    "df_2013 = df_2013[df_2013['construcao_residencial_vertical']].copy().reset_index(drop=True)\n"
   ]
  },
  {
   "cell_type": "markdown",
   "id": "4b6b252a-f309-40f7-8538-bad75d12450e",
   "metadata": {},
   "source": [
    "Como podemos ver abaixo, atualmente, aproximadamente 46% dos lotes da cidade não é verticalizada.\n",
    "\n",
    "De todo modo, ainda assim estamos trabalhando com um conjunto de dados massivo (aprox. 2 milhões de registros para 2023 e 1.5 milhão para 2013).\n",
    "\n",
    "Note que isso não representa os terrenos da cidade: em prédios condominiais, cada apartamento é um lote. De modo que a proporção de terrenos verticalizados deve ser menor. Do mesmo modo, a proporção maior de lotes verticais em 2013 pode se dar pelo fato de nos últimos anos imóveis horizontais irregulares terem sido regularizados. Como vamos lidar apenas com os lotes verticais, a inclusão destes lotes horizontais antes irregulares não será um problema para o estudo.\n"
   ]
  },
  {
   "cell_type": "code",
   "execution_count": 31,
   "id": "bddb559d-9f85-4b6f-98d5-91e95648cf7d",
   "metadata": {},
   "outputs": [
    {
     "data": {
      "text/plain": [
       "0.5304821485881096"
      ]
     },
     "execution_count": 31,
     "metadata": {},
     "output_type": "execute_result"
    }
   ],
   "source": [
    "(total_registros_2023 - len(df_2023))/total_registros_2023"
   ]
  },
  {
   "cell_type": "code",
   "execution_count": 32,
   "id": "ebb96316-b6e3-4ade-a6e1-5d0277e55b21",
   "metadata": {},
   "outputs": [
    {
     "data": {
      "text/plain": [
       "1708752"
      ]
     },
     "execution_count": 32,
     "metadata": {},
     "output_type": "execute_result"
    }
   ],
   "source": [
    "len(df_2023)"
   ]
  },
  {
   "cell_type": "code",
   "execution_count": 33,
   "id": "97b620c0-2fe5-443d-b7a9-2f7d58e865d1",
   "metadata": {},
   "outputs": [
    {
     "data": {
      "text/plain": [
       "0.5884094978958943"
      ]
     },
     "execution_count": 33,
     "metadata": {},
     "output_type": "execute_result"
    }
   ],
   "source": [
    "(total_registros_2013 - len(df_2013))/total_registros_2013"
   ]
  },
  {
   "cell_type": "code",
   "execution_count": 34,
   "id": "c26dc499-8347-4f56-86ec-e0d8548544dc",
   "metadata": {},
   "outputs": [
    {
     "data": {
      "text/plain": [
       "1288503"
      ]
     },
     "execution_count": 34,
     "metadata": {},
     "output_type": "execute_result"
    }
   ],
   "source": [
    "len(df_2013)"
   ]
  },
  {
   "cell_type": "markdown",
   "id": "e243153d-5cc2-47f8-8148-13a67a09fb07",
   "metadata": {},
   "source": [
    "\n",
    "\n",
    "Abaixo inspecionamos a distribuicao dos tipos de uso de imoveis.\n",
    "\n",
    "Como era de esperar, a maioria sao apartamentos.\n",
    "\n",
    "De todo modo, não acredito que podemos descartar os outros usos, pois os edificios podem ter usos mistos.\n",
    "\n",
    "Note também que estamos lidando com nossa base de dados filtrada apenas para os imóveis de tipo de construção vertical, por isso casas não apareceram.\n"
   ]
  },
  {
   "cell_type": "code",
   "execution_count": 35,
   "id": "fe6e70b4-63df-4f83-b7bb-92233d92d824",
   "metadata": {},
   "outputs": [
    {
     "data": {
      "text/html": [
       "<div>\n",
       "<style scoped>\n",
       "    .dataframe tbody tr th:only-of-type {\n",
       "        vertical-align: middle;\n",
       "    }\n",
       "\n",
       "    .dataframe tbody tr th {\n",
       "        vertical-align: top;\n",
       "    }\n",
       "\n",
       "    .dataframe thead th {\n",
       "        text-align: right;\n",
       "    }\n",
       "</style>\n",
       "<table border=\"1\" class=\"dataframe\">\n",
       "  <thead>\n",
       "    <tr style=\"text-align: right;\">\n",
       "      <th></th>\n",
       "      <th>count</th>\n",
       "    </tr>\n",
       "    <tr>\n",
       "      <th>TIPO DE USO DO IMOVEL</th>\n",
       "      <th></th>\n",
       "    </tr>\n",
       "  </thead>\n",
       "  <tbody>\n",
       "    <tr>\n",
       "      <th>Apartamento em condomínio</th>\n",
       "      <td>1486728</td>\n",
       "    </tr>\n",
       "    <tr>\n",
       "      <th>Garagem (unidade autônoma) em edifício em condomínio de uso exclusivamente residencial</th>\n",
       "      <td>202239</td>\n",
       "    </tr>\n",
       "    <tr>\n",
       "      <th>Flat de uso comercial (semelhante a hotel)</th>\n",
       "      <td>7129</td>\n",
       "    </tr>\n",
       "    <tr>\n",
       "      <th>Flat residencial em condomínio</th>\n",
       "      <td>4526</td>\n",
       "    </tr>\n",
       "    <tr>\n",
       "      <th>Prédio de apartamento, não em condomínio, de uso misto (apartamentos e escritórios e/ou consultórios), com ou sem loja (predominância residencial)</th>\n",
       "      <td>2701</td>\n",
       "    </tr>\n",
       "    <tr>\n",
       "      <th>Prédio de apartamento, não em condomínio, de uso exclusivamente residencial</th>\n",
       "      <td>2394</td>\n",
       "    </tr>\n",
       "    <tr>\n",
       "      <th>Garagem (unidade autônoma) em edifício em condomínio de escritórios, consultórios ou misto</th>\n",
       "      <td>893</td>\n",
       "    </tr>\n",
       "    <tr>\n",
       "      <th>Hotel, pensão ou hospedaria</th>\n",
       "      <td>409</td>\n",
       "    </tr>\n",
       "    <tr>\n",
       "      <th>Residência</th>\n",
       "      <td>387</td>\n",
       "    </tr>\n",
       "    <tr>\n",
       "      <th>Escritório/consultório em condomínio (unidade autônoma)</th>\n",
       "      <td>285</td>\n",
       "    </tr>\n",
       "    <tr>\n",
       "      <th>Prédio de escritório ou consultório, não em condomínio, com ou sem lojas</th>\n",
       "      <td>200</td>\n",
       "    </tr>\n",
       "    <tr>\n",
       "      <th>Loja em edifício em condomínio (unidade autônoma)</th>\n",
       "      <td>193</td>\n",
       "    </tr>\n",
       "    <tr>\n",
       "      <th>Residência coletiva, exclusive cortiço (mais de uma residência no lote)</th>\n",
       "      <td>187</td>\n",
       "    </tr>\n",
       "    <tr>\n",
       "      <th>Residência e outro uso (predominância residencial)</th>\n",
       "      <td>184</td>\n",
       "    </tr>\n",
       "    <tr>\n",
       "      <th>Prédio de escritório, não em condomínio, de uso misto (apartamentos e escritórios e/ou consultórios) com ou sem loja (predominância comercial)</th>\n",
       "      <td>95</td>\n",
       "    </tr>\n",
       "    <tr>\n",
       "      <th>Loja</th>\n",
       "      <td>45</td>\n",
       "    </tr>\n",
       "    <tr>\n",
       "      <th>Garagem (unidade autônoma) de prédio de garagens</th>\n",
       "      <td>40</td>\n",
       "    </tr>\n",
       "    <tr>\n",
       "      <th>Loja e residência (predominância comercial)</th>\n",
       "      <td>31</td>\n",
       "    </tr>\n",
       "    <tr>\n",
       "      <th>Outras edificações de uso comercial, com utilização múltipla</th>\n",
       "      <td>29</td>\n",
       "    </tr>\n",
       "    <tr>\n",
       "      <th>Armazéns gerais e depósitos</th>\n",
       "      <td>10</td>\n",
       "    </tr>\n",
       "    <tr>\n",
       "      <th>Garagem (exclusive em prédio em condomínio)</th>\n",
       "      <td>8</td>\n",
       "    </tr>\n",
       "    <tr>\n",
       "      <th>Outras edificações de uso coletivo, com utilização múltipla</th>\n",
       "      <td>6</td>\n",
       "    </tr>\n",
       "    <tr>\n",
       "      <th>Outras edificações de uso especial, com utilização múltipla</th>\n",
       "      <td>6</td>\n",
       "    </tr>\n",
       "    <tr>\n",
       "      <th>Templo</th>\n",
       "      <td>6</td>\n",
       "    </tr>\n",
       "    <tr>\n",
       "      <th>Escola</th>\n",
       "      <td>5</td>\n",
       "    </tr>\n",
       "    <tr>\n",
       "      <th>Outras edificações de uso de serviço, com utilização múltipla</th>\n",
       "      <td>4</td>\n",
       "    </tr>\n",
       "    <tr>\n",
       "      <th>Asilo, orfanato, creche, seminário ou convento</th>\n",
       "      <td>4</td>\n",
       "    </tr>\n",
       "    <tr>\n",
       "      <th>Oficina</th>\n",
       "      <td>2</td>\n",
       "    </tr>\n",
       "    <tr>\n",
       "      <th>Hospital, ambulatório, casa de saúde e assemelhados</th>\n",
       "      <td>2</td>\n",
       "    </tr>\n",
       "    <tr>\n",
       "      <th>Cortiço</th>\n",
       "      <td>2</td>\n",
       "    </tr>\n",
       "    <tr>\n",
       "      <th>Indústria</th>\n",
       "      <td>1</td>\n",
       "    </tr>\n",
       "    <tr>\n",
       "      <th>Estação radioemissora, de televisão ou empresa jornalística</th>\n",
       "      <td>1</td>\n",
       "    </tr>\n",
       "  </tbody>\n",
       "</table>\n",
       "</div>"
      ],
      "text/plain": [
       "                                                      count\n",
       "TIPO DE USO DO IMOVEL                                      \n",
       "Apartamento em condomínio                           1486728\n",
       "Garagem (unidade autônoma) em edifício em condo...   202239\n",
       "Flat de uso comercial (semelhante a hotel)             7129\n",
       "Flat residencial em condomínio                         4526\n",
       "Prédio de apartamento, não em condomínio, de us...     2701\n",
       "Prédio de apartamento, não em condomínio, de us...     2394\n",
       "Garagem (unidade autônoma) em edifício em condo...      893\n",
       "Hotel, pensão ou hospedaria                             409\n",
       "Residência                                              387\n",
       "Escritório/consultório em condomínio (unidade a...      285\n",
       "Prédio de escritório ou consultório, não em con...      200\n",
       "Loja em edifício em condomínio (unidade autônoma)       193\n",
       "Residência coletiva, exclusive cortiço (mais de...      187\n",
       "Residência e outro uso (predominância residencial)      184\n",
       "Prédio de escritório, não em condomínio, de uso...       95\n",
       "Loja                                                     45\n",
       "Garagem (unidade autônoma) de prédio de garagens         40\n",
       "Loja e residência (predominância comercial)              31\n",
       "Outras edificações de uso comercial, com utiliz...       29\n",
       "Armazéns gerais e depósitos                              10\n",
       "Garagem (exclusive em prédio em condomínio)               8\n",
       "Outras edificações de uso coletivo, com utiliza...        6\n",
       "Outras edificações de uso especial, com utiliza...        6\n",
       "Templo                                                    6\n",
       "Escola                                                    5\n",
       "Outras edificações de uso de serviço, com utili...        4\n",
       "Asilo, orfanato, creche, seminário ou convento            4\n",
       "Oficina                                                   2\n",
       "Hospital, ambulatório, casa de saúde e assemelh...        2\n",
       "Cortiço                                                   2\n",
       "Indústria                                                 1\n",
       "Estação radioemissora, de televisão ou empresa ...        1"
      ]
     },
     "execution_count": 35,
     "metadata": {},
     "output_type": "execute_result"
    }
   ],
   "source": [
    "df_2023.groupby('TIPO DE USO DO IMOVEL').count().rename({'NUMERO DO CONTRIBUINTE':'count'},axis=1)\\\n",
    "[['count']].sort_values(by='count', ascending=False)"
   ]
  },
  {
   "cell_type": "markdown",
   "id": "74ccbe36-cacc-46aa-9df5-023504907bf6",
   "metadata": {},
   "source": [
    "Como argumentado em nosso trabalho, o cálculo do delta da área construída deve ser feito a nível de quadra. Isto pois, ao verticalizar uma área, diversos lotes (as casas unifamiliares por exemplo) são demolidos, unificados e em seguida desagregados nos lotes individuais que representam os apartamentos. Estes lotes recebem novos números de contribuinte, mas preservam a informação original do setor e da quadra, que se mantém ao longo do tempo."
   ]
  },
  {
   "cell_type": "code",
   "execution_count": 36,
   "id": "6b422ad9-250d-41ae-93a3-494738f40588",
   "metadata": {},
   "outputs": [],
   "source": [
    "def total_area_construida_por_quadra(df):\n",
    "    \n",
    "    por_quadra = df.groupby('quadra')['AREA CONSTRUIDA'].sum().reset_index()\n",
    "    por_quadra.rename({'AREA CONSTRUIDA' : 'area_construida_vertical'}, axis=1, inplace=True)\n",
    "    return por_quadra\n",
    "\n"
   ]
  },
  {
   "cell_type": "code",
   "execution_count": 37,
   "id": "214cf0df-1a71-4b5d-8c12-3b0579b19b16",
   "metadata": {},
   "outputs": [],
   "source": [
    "gp_2023 = total_area_construida_por_quadra(df_2023)"
   ]
  },
  {
   "cell_type": "code",
   "execution_count": 38,
   "id": "8dd91dcf-4ac8-4169-8f50-2871941083d6",
   "metadata": {},
   "outputs": [
    {
     "data": {
      "text/html": [
       "<div>\n",
       "<style scoped>\n",
       "    .dataframe tbody tr th:only-of-type {\n",
       "        vertical-align: middle;\n",
       "    }\n",
       "\n",
       "    .dataframe tbody tr th {\n",
       "        vertical-align: top;\n",
       "    }\n",
       "\n",
       "    .dataframe thead th {\n",
       "        text-align: right;\n",
       "    }\n",
       "</style>\n",
       "<table border=\"1\" class=\"dataframe\">\n",
       "  <thead>\n",
       "    <tr style=\"text-align: right;\">\n",
       "      <th></th>\n",
       "      <th>quadra</th>\n",
       "      <th>area_construida_vertical</th>\n",
       "    </tr>\n",
       "  </thead>\n",
       "  <tbody>\n",
       "    <tr>\n",
       "      <th>0</th>\n",
       "      <td>001003</td>\n",
       "      <td>6832.0</td>\n",
       "    </tr>\n",
       "    <tr>\n",
       "      <th>1</th>\n",
       "      <td>001004</td>\n",
       "      <td>3796.0</td>\n",
       "    </tr>\n",
       "    <tr>\n",
       "      <th>2</th>\n",
       "      <td>001005</td>\n",
       "      <td>3594.0</td>\n",
       "    </tr>\n",
       "    <tr>\n",
       "      <th>3</th>\n",
       "      <td>001006</td>\n",
       "      <td>2517.0</td>\n",
       "    </tr>\n",
       "    <tr>\n",
       "      <th>4</th>\n",
       "      <td>001007</td>\n",
       "      <td>8350.0</td>\n",
       "    </tr>\n",
       "  </tbody>\n",
       "</table>\n",
       "</div>"
      ],
      "text/plain": [
       "   quadra  area_construida_vertical\n",
       "0  001003                    6832.0\n",
       "1  001004                    3796.0\n",
       "2  001005                    3594.0\n",
       "3  001006                    2517.0\n",
       "4  001007                    8350.0"
      ]
     },
     "execution_count": 38,
     "metadata": {},
     "output_type": "execute_result"
    }
   ],
   "source": [
    "gp_2023.head()"
   ]
  },
  {
   "cell_type": "code",
   "execution_count": 39,
   "id": "ddfa7170-defc-46f9-90b5-144ca08f5dbc",
   "metadata": {},
   "outputs": [],
   "source": [
    "gp_2013 = total_area_construida_por_quadra(df_2013)"
   ]
  },
  {
   "cell_type": "code",
   "execution_count": 40,
   "id": "9fd8163b-f13c-4948-b26d-a917a49ea047",
   "metadata": {},
   "outputs": [
    {
     "data": {
      "text/html": [
       "<div>\n",
       "<style scoped>\n",
       "    .dataframe tbody tr th:only-of-type {\n",
       "        vertical-align: middle;\n",
       "    }\n",
       "\n",
       "    .dataframe tbody tr th {\n",
       "        vertical-align: top;\n",
       "    }\n",
       "\n",
       "    .dataframe thead th {\n",
       "        text-align: right;\n",
       "    }\n",
       "</style>\n",
       "<table border=\"1\" class=\"dataframe\">\n",
       "  <thead>\n",
       "    <tr style=\"text-align: right;\">\n",
       "      <th></th>\n",
       "      <th>quadra</th>\n",
       "      <th>area_construida_vertical</th>\n",
       "    </tr>\n",
       "  </thead>\n",
       "  <tbody>\n",
       "    <tr>\n",
       "      <th>0</th>\n",
       "      <td>001003</td>\n",
       "      <td>6832.0</td>\n",
       "    </tr>\n",
       "    <tr>\n",
       "      <th>1</th>\n",
       "      <td>001004</td>\n",
       "      <td>3796.0</td>\n",
       "    </tr>\n",
       "    <tr>\n",
       "      <th>2</th>\n",
       "      <td>001005</td>\n",
       "      <td>3594.0</td>\n",
       "    </tr>\n",
       "    <tr>\n",
       "      <th>3</th>\n",
       "      <td>001006</td>\n",
       "      <td>2517.0</td>\n",
       "    </tr>\n",
       "    <tr>\n",
       "      <th>4</th>\n",
       "      <td>001007</td>\n",
       "      <td>4827.0</td>\n",
       "    </tr>\n",
       "  </tbody>\n",
       "</table>\n",
       "</div>"
      ],
      "text/plain": [
       "   quadra  area_construida_vertical\n",
       "0  001003                    6832.0\n",
       "1  001004                    3796.0\n",
       "2  001005                    3594.0\n",
       "3  001006                    2517.0\n",
       "4  001007                    4827.0"
      ]
     },
     "execution_count": 40,
     "metadata": {},
     "output_type": "execute_result"
    }
   ],
   "source": [
    "gp_2013.head()"
   ]
  },
  {
   "cell_type": "markdown",
   "id": "1240ce38-2d24-4f25-889f-085a2ad1050f",
   "metadata": {},
   "source": [
    "Agora fazemos o merge entre os dois anos"
   ]
  },
  {
   "cell_type": "code",
   "execution_count": 41,
   "id": "9cdc1ab1-0987-497a-adfa-8f08c6706076",
   "metadata": {},
   "outputs": [],
   "source": [
    "df = pd.merge(gp_2013, gp_2023, on = 'quadra', how='outer', suffixes = ['_2013', '_2023'])"
   ]
  },
  {
   "cell_type": "markdown",
   "id": "571b09b0-1879-4cd4-a368-0958e155da1c",
   "metadata": {},
   "source": [
    "Há a possibilidade de termos quadras que foram criadas em 2023.\n",
    "\n",
    "Do mesmo modo, algumas quadras de 2013 podem ter sido extinguidas (é raro, mas pode acontecer).\n"
   ]
  },
  {
   "cell_type": "code",
   "execution_count": 42,
   "id": "2feb3b55-269c-440d-b09f-606762ad3505",
   "metadata": {},
   "outputs": [],
   "source": [
    "extinguidas = df['area_construida_vertical_2023'].isnull().sum()"
   ]
  },
  {
   "cell_type": "code",
   "execution_count": 43,
   "id": "6c318dfa-a9f5-407b-a323-6796b4d510bb",
   "metadata": {},
   "outputs": [],
   "source": [
    "criadas = df['area_construida_vertical_2013'].isnull().sum()"
   ]
  },
  {
   "cell_type": "code",
   "execution_count": 44,
   "id": "695f4a1b-54a0-48ff-bfb1-10f14569dc6c",
   "metadata": {},
   "outputs": [
    {
     "data": {
      "text/plain": [
       "52"
      ]
     },
     "execution_count": 44,
     "metadata": {},
     "output_type": "execute_result"
    }
   ],
   "source": [
    "extinguidas"
   ]
  },
  {
   "cell_type": "code",
   "execution_count": 45,
   "id": "ffea03d6-0b5e-45ef-9b3f-26ebb1a9f0bb",
   "metadata": {},
   "outputs": [
    {
     "data": {
      "text/plain": [
       "2067"
      ]
     },
     "execution_count": 45,
     "metadata": {},
     "output_type": "execute_result"
    }
   ],
   "source": [
    "criadas"
   ]
  },
  {
   "cell_type": "code",
   "execution_count": 46,
   "id": "20cc27b0-86b8-4277-9be7-d8ce8ad917dc",
   "metadata": {},
   "outputs": [],
   "source": [
    "total_quadras_2023 = df['area_construida_vertical_2023'].notnull().sum()\n",
    "total_quadras_2013 = df['area_construida_vertical_2013'].notnull().sum()\n",
    "\n"
   ]
  },
  {
   "cell_type": "code",
   "execution_count": 47,
   "id": "bd76e756-35cb-4ab7-92df-48983722892e",
   "metadata": {},
   "outputs": [
    {
     "data": {
      "text/plain": [
       "10638"
      ]
     },
     "execution_count": 47,
     "metadata": {},
     "output_type": "execute_result"
    }
   ],
   "source": [
    "total_quadras_2023\n"
   ]
  },
  {
   "cell_type": "code",
   "execution_count": 48,
   "id": "70abde01-8da2-4c52-b683-e00e96dc5e58",
   "metadata": {},
   "outputs": [
    {
     "data": {
      "text/plain": [
       "8623"
      ]
     },
     "execution_count": 48,
     "metadata": {},
     "output_type": "execute_result"
    }
   ],
   "source": [
    "total_quadras_2013"
   ]
  },
  {
   "cell_type": "code",
   "execution_count": 49,
   "id": "af50b835-c18c-45d6-bf4a-ef25736fc633",
   "metadata": {},
   "outputs": [
    {
     "data": {
      "text/plain": [
       "0.00603038385712629"
      ]
     },
     "execution_count": 49,
     "metadata": {},
     "output_type": "execute_result"
    }
   ],
   "source": [
    "extinguidas/total_quadras_2013"
   ]
  },
  {
   "cell_type": "code",
   "execution_count": 50,
   "id": "f7e19b1f-646b-4683-b613-80f270c2e1dd",
   "metadata": {},
   "outputs": [
    {
     "data": {
      "text/plain": [
       "0.19430344049633388"
      ]
     },
     "execution_count": 50,
     "metadata": {},
     "output_type": "execute_result"
    }
   ],
   "source": [
    "criadas/total_quadras_2023"
   ]
  },
  {
   "cell_type": "markdown",
   "id": "bd471374-75d0-4ee2-ad13-42f9b98a5eea",
   "metadata": {},
   "source": [
    "Como podemos ver, menos de 1% das quadras de 2013 foram extinguidas.\n",
    "\n",
    "No entanto, 19% das quadras existentes em 2023 são novas quadras.\n",
    "\n",
    "Isto ocorre porque trata-se de quadras que não possuíam imóveis verticais em 2013 e que foram verticalizadas no período.\n",
    "\n",
    "Deste modo, é seguro imputar que a área construída vertical em 2013 para essas quadras era zero.\n"
   ]
  },
  {
   "cell_type": "code",
   "execution_count": 51,
   "id": "7262c4f7-e038-46dc-b81c-63ea4b4c4f30",
   "metadata": {},
   "outputs": [],
   "source": [
    "df['area_construida_vertical_2013'].fillna(0, inplace=True)"
   ]
  },
  {
   "cell_type": "markdown",
   "id": "05c2d40d-49fb-4031-8fae-2de2d383e180",
   "metadata": {},
   "source": [
    "Já em relaçaõ às quadras de 2013 (menos de 1%) que foram excluídas da base, infelizmente termos de deletá-las.\n",
    "\n",
    "Isso pode ter acontecido em raros casos em que quadras são unificadas para grandes projetos imobiliários (assim a quadra que existia em 2013 deixa de existir em 2022). Outra explicação possível é que elas já possuíam uma área construída vertical pequena e os imóveis foram demolidos.\n"
   ]
  },
  {
   "cell_type": "code",
   "execution_count": 52,
   "id": "05e6cc58-acc2-4074-924b-eb4420b38aac",
   "metadata": {},
   "outputs": [
    {
     "data": {
      "text/plain": [
       "52"
      ]
     },
     "execution_count": 52,
     "metadata": {},
     "output_type": "execute_result"
    }
   ],
   "source": [
    "deixaram_existir = df[df['area_construida_vertical_2023'].isnull()]\n",
    "len(deixaram_existir)\n",
    "\n"
   ]
  },
  {
   "cell_type": "code",
   "execution_count": 53,
   "id": "aa378b33-aba6-4fa9-916e-43d87ac4221d",
   "metadata": {},
   "outputs": [
    {
     "data": {
      "text/plain": [
       "0.0048881368678322995"
      ]
     },
     "execution_count": 53,
     "metadata": {},
     "output_type": "execute_result"
    }
   ],
   "source": [
    "len(deixaram_existir)/total_quadras_2023"
   ]
  },
  {
   "cell_type": "code",
   "execution_count": 54,
   "id": "6545ee46-3298-44a7-b8dc-066f62ca0c5c",
   "metadata": {},
   "outputs": [
    {
     "data": {
      "text/plain": [
       "4535.846153846154"
      ]
     },
     "execution_count": 54,
     "metadata": {},
     "output_type": "execute_result"
    }
   ],
   "source": [
    "deixaram_existir['area_construida_vertical_2013'].mean()"
   ]
  },
  {
   "cell_type": "code",
   "execution_count": 55,
   "id": "cf6082f1-443e-4576-ba52-6295eaae2537",
   "metadata": {},
   "outputs": [
    {
     "data": {
      "text/plain": [
       "546.5"
      ]
     },
     "execution_count": 55,
     "metadata": {},
     "output_type": "execute_result"
    }
   ],
   "source": [
    "deixaram_existir['area_construida_vertical_2013'].median()"
   ]
  },
  {
   "cell_type": "code",
   "execution_count": 56,
   "id": "9be482ba-f057-4114-b2d5-7e25161ca4e6",
   "metadata": {},
   "outputs": [
    {
     "data": {
      "text/plain": [
       "85592.0"
      ]
     },
     "execution_count": 56,
     "metadata": {},
     "output_type": "execute_result"
    }
   ],
   "source": [
    "deixaram_existir['area_construida_vertical_2013'].max()"
   ]
  },
  {
   "cell_type": "code",
   "execution_count": 57,
   "id": "d018f00a-45ea-4783-9a4d-6b90f725a139",
   "metadata": {},
   "outputs": [
    {
     "data": {
      "text/plain": [
       "<AxesSubplot:title={'center':'Distribuição Área Construída Vertical Quadras Excluídas'}, ylabel='Frequency'>"
      ]
     },
     "execution_count": 57,
     "metadata": {},
     "output_type": "execute_result"
    },
    {
     "data": {
      "image/png": "[encoded data removed]",
      "text/plain": [
       "<Figure size 432x288 with 1 Axes>"
      ]
     },
     "metadata": {},
     "output_type": "display_data"
    }
   ],
   "source": [
    "deixaram_existir['area_construida_vertical_2013'].plot.hist(title='Distribuição Área Construída Vertical Quadras Excluídas')"
   ]
  },
  {
   "cell_type": "markdown",
   "id": "c2d5a200-a8d5-43eb-82fa-a28a950feafc",
   "metadata": {},
   "source": [
    "\n",
    "\n",
    "São apenas 119 quadras, menos de 1% das quadras que existem em 2023.\n",
    "\n",
    "Vemos que, com exceção de alguns registros com área construída alta (160 mil metros quadrados), a maioria deles tem área construída pequena.\n",
    "\n",
    "De todo modo, como eles não possuem área construída para 2023, eles não comporão a base final. Caso contrário, se imputássemos 0 para 2022, corremos o risco de confundir o modelo em relação à área construída negativa elevada. Não temos segurança para afirmar que toda a área construída vertical da quadra foi demolida.\n",
    "\n",
    "E, de todo modo, nosso foco está no aumento de área construída no período, não nas demolições eventuais que foram realizadas nos últimos anos para viabilizar novos empreendimentos ou mesmo para especulação imobiliária. Este último fenômeno, ainda que importante e potencialmente relacionado ao PDE, não é o objeto de estudo deste trabalho, e ficará para um estudo subsequente.\n"
   ]
  },
  {
   "cell_type": "code",
   "execution_count": 58,
   "id": "953d4164-6310-409e-a81c-87ec02de480d",
   "metadata": {},
   "outputs": [
    {
     "data": {
      "text/plain": [
       "10690"
      ]
     },
     "execution_count": 58,
     "metadata": {},
     "output_type": "execute_result"
    }
   ],
   "source": [
    "len(df)"
   ]
  },
  {
   "cell_type": "code",
   "execution_count": 59,
   "id": "a937f84c-e584-40aa-b2f0-3b9619578a84",
   "metadata": {},
   "outputs": [],
   "source": [
    "df = df[df['area_construida_vertical_2023'].notnull()].reset_index(drop=True).copy()"
   ]
  },
  {
   "cell_type": "code",
   "execution_count": 60,
   "id": "12a9e4df-c11b-4801-9d0f-810537591970",
   "metadata": {},
   "outputs": [
    {
     "data": {
      "text/plain": [
       "10638"
      ]
     },
     "execution_count": 60,
     "metadata": {},
     "output_type": "execute_result"
    }
   ],
   "source": [
    "len(df)"
   ]
  },
  {
   "cell_type": "code",
   "execution_count": 61,
   "id": "46ba0cc3-30de-48ff-b685-f7552ae66bb4",
   "metadata": {},
   "outputs": [
    {
     "data": {
      "text/plain": [
       "14550"
      ]
     },
     "execution_count": 61,
     "metadata": {},
     "output_type": "execute_result"
    }
   ],
   "source": [
    "14431+119"
   ]
  },
  {
   "cell_type": "markdown",
   "id": "1436d417-c4e1-4efa-888c-e15b00a6bb3e",
   "metadata": {},
   "source": [
    "\n",
    "\n",
    "Vamos comaprar as áreas construídas dos dois períodos.\n"
   ]
  },
  {
   "cell_type": "code",
   "execution_count": 62,
   "id": "bb4bb901-2de3-4182-9e3b-5ad5c55fdfcb",
   "metadata": {},
   "outputs": [
    {
     "data": {
      "text/plain": [
       "<AxesSubplot:>"
      ]
     },
     "execution_count": 62,
     "metadata": {},
     "output_type": "execute_result"
    },
    {
     "data": {
      "image/png": "[encoded data removed]",
      "text/plain": [
       "<Figure size 432x288 with 1 Axes>"
      ]
     },
     "metadata": {},
     "output_type": "display_data"
    }
   ],
   "source": [
    "sns.violinplot(data = df[['area_construida_vertical_2013', 'area_construida_vertical_2023']],\n",
    "               title='Comparação Área Const. Vert. 2013 - 2023')"
   ]
  },
  {
   "cell_type": "markdown",
   "id": "4d902b39-36c0-4294-94ef-6f8b8e028163",
   "metadata": {},
   "source": [
    "\n",
    "\n",
    "Observando agora o perfil de maior concentração dos dados\n"
   ]
  },
  {
   "cell_type": "code",
   "execution_count": 63,
   "id": "8ea4450e-c75d-404f-bb86-c4280c2b0ce8",
   "metadata": {},
   "outputs": [],
   "source": [
    "\n",
    "\n",
    "limite  = 0.06*1e6\n",
    "temp_df = df[(df['area_construida_vertical_2013']<limite)&(df['area_construida_vertical_2023']<limite)]\n",
    "\n"
   ]
  },
  {
   "cell_type": "code",
   "execution_count": 64,
   "id": "9993e1f8-22e4-46c5-b5e8-0944682c19a3",
   "metadata": {},
   "outputs": [
    {
     "data": {
      "text/plain": [
       "<AxesSubplot:>"
      ]
     },
     "execution_count": 64,
     "metadata": {},
     "output_type": "execute_result"
    },
    {
     "data": {
      "image/png": "[encoded data removed]",
      "text/plain": [
       "<Figure size 432x288 with 1 Axes>"
      ]
     },
     "metadata": {},
     "output_type": "display_data"
    }
   ],
   "source": [
    "sns.violinplot(data = temp_df[['area_construida_vertical_2013', 'area_construida_vertical_2023']],\n",
    "               title='Comparação Área Const. Vert. 2013 - 2023')"
   ]
  },
  {
   "cell_type": "markdown",
   "id": "18358c0c-97b3-4399-9de7-ac03f052e6b4",
   "metadata": {},
   "source": [
    "\n",
    "\n",
    "Os valores médios e medianos de 2023 sao superiores\n"
   ]
  },
  {
   "cell_type": "code",
   "execution_count": 65,
   "id": "5d60d39e-fbe3-4d28-b18d-c6a987598002",
   "metadata": {},
   "outputs": [
    {
     "data": {
      "text/plain": [
       "19086.958638841887"
      ]
     },
     "execution_count": 65,
     "metadata": {},
     "output_type": "execute_result"
    }
   ],
   "source": [
    "df['area_construida_vertical_2023'].mean()"
   ]
  },
  {
   "cell_type": "code",
   "execution_count": 66,
   "id": "2d357b0d-57c8-498f-8c8c-fae5d32d823c",
   "metadata": {},
   "outputs": [
    {
     "data": {
      "text/plain": [
       "14910.62652754277"
      ]
     },
     "execution_count": 66,
     "metadata": {},
     "output_type": "execute_result"
    }
   ],
   "source": [
    "df['area_construida_vertical_2013'].mean()"
   ]
  },
  {
   "cell_type": "code",
   "execution_count": 67,
   "id": "5cfc3f71-4b5a-4358-8180-3db0836f852d",
   "metadata": {},
   "outputs": [
    {
     "data": {
      "text/plain": [
       "7806.5"
      ]
     },
     "execution_count": 67,
     "metadata": {},
     "output_type": "execute_result"
    }
   ],
   "source": [
    "df['area_construida_vertical_2023'].median()"
   ]
  },
  {
   "cell_type": "code",
   "execution_count": 68,
   "id": "9dc6da3f-0896-486d-b2a2-faef1df6a2c3",
   "metadata": {},
   "outputs": [
    {
     "data": {
      "text/plain": [
       "4669.5"
      ]
     },
     "execution_count": 68,
     "metadata": {},
     "output_type": "execute_result"
    }
   ],
   "source": [
    "df['area_construida_vertical_2013'].median()"
   ]
  },
  {
   "cell_type": "markdown",
   "id": "5db61b02-b44e-4e84-9c16-7f34a0a0fed4",
   "metadata": {},
   "source": [
    "\n",
    "\n",
    "Como podemos ver, 2023 parece ter uma concentração de massa dos dados para valores mais superiores do que 2013.\n",
    "\n",
    "Agora, por fim, podemos calcular nossa variável de interesse: o Delta de área construída no período.\n"
   ]
  },
  {
   "cell_type": "code",
   "execution_count": 69,
   "id": "b1d0549e-a449-4955-9948-2ee0dc49cfd4",
   "metadata": {},
   "outputs": [],
   "source": [
    "df['delta_pde'] = df['area_construida_vertical_2023'] - df['area_construida_vertical_2013']"
   ]
  },
  {
   "cell_type": "code",
   "execution_count": 70,
   "id": "c6d40719-6352-4c74-9b1a-b7ccf2ae746d",
   "metadata": {},
   "outputs": [
    {
     "data": {
      "text/plain": [
       "4176.332111299116"
      ]
     },
     "execution_count": 70,
     "metadata": {},
     "output_type": "execute_result"
    }
   ],
   "source": [
    "df['delta_pde'].mean()"
   ]
  },
  {
   "cell_type": "code",
   "execution_count": 71,
   "id": "f7e8c924-debd-475f-8a43-ba8480be562e",
   "metadata": {},
   "outputs": [
    {
     "data": {
      "text/plain": [
       "242407.0"
      ]
     },
     "execution_count": 71,
     "metadata": {},
     "output_type": "execute_result"
    }
   ],
   "source": [
    "df['delta_pde'].max()"
   ]
  },
  {
   "cell_type": "code",
   "execution_count": 72,
   "id": "c62803b8-f539-4bf7-96d4-33df51b0c0cd",
   "metadata": {},
   "outputs": [
    {
     "data": {
      "text/plain": [
       "-51984.0"
      ]
     },
     "execution_count": 72,
     "metadata": {},
     "output_type": "execute_result"
    }
   ],
   "source": [
    "df['delta_pde'].min()"
   ]
  },
  {
   "cell_type": "code",
   "execution_count": 73,
   "id": "ca8337cb-1b73-40a1-85b5-db05a3ce581b",
   "metadata": {},
   "outputs": [
    {
     "data": {
      "text/plain": [
       "0.0"
      ]
     },
     "execution_count": 73,
     "metadata": {},
     "output_type": "execute_result"
    }
   ],
   "source": [
    "df['delta_pde'].median()"
   ]
  },
  {
   "cell_type": "code",
   "execution_count": 74,
   "id": "e4315e6f-554a-4915-93d3-37db95f96c03",
   "metadata": {},
   "outputs": [
    {
     "data": {
      "text/plain": [
       "<AxesSubplot:title={'center':'Distribuição Delta Área Constru. Vert. 2013-2023'}, ylabel='Frequency'>"
      ]
     },
     "execution_count": 74,
     "metadata": {},
     "output_type": "execute_result"
    },
    {
     "data": {
      "image/png": "[encoded data removed]",
      "text/plain": [
       "<Figure size 432x288 with 1 Axes>"
      ]
     },
     "metadata": {},
     "output_type": "display_data"
    }
   ],
   "source": [
    "df['delta_pde'].plot.hist(title='Distribuição Delta Área Constru. Vert. 2013-2023')"
   ]
  },
  {
   "cell_type": "code",
   "execution_count": 75,
   "id": "b2cb54e2-3953-42dd-b392-1de4c63dc392",
   "metadata": {},
   "outputs": [
    {
     "data": {
      "text/plain": [
       "<AxesSubplot:>"
      ]
     },
     "execution_count": 75,
     "metadata": {},
     "output_type": "execute_result"
    },
    {
     "data": {
      "image/png": "[encoded data removed]",
      "text/plain": [
       "<Figure size 432x288 with 1 Axes>"
      ]
     },
     "metadata": {},
     "output_type": "display_data"
    }
   ],
   "source": [
    "sns.violinplot(data = df[['delta_pde']],\n",
    "               title='Violin Plot - Delta área construída vertical PDE')\n"
   ]
  },
  {
   "cell_type": "markdown",
   "id": "cbd2f42b-e52c-4514-927c-a3ec8f11b8a5",
   "metadata": {},
   "source": [
    "\n",
    "\n",
    "Como pudemos verificar acima, há casos de decréscimo de área construída, em que o delta é negativo.\n",
    "\n",
    "Esses casos, como já mencionado, não são objeto deste estudo. Sem entrar na hipótese de erros no banco de dados (trata-se do banco de dados do IPTU, e há um grande enforcement para que os dados sejam consistentes), este decréscimo pode estar relacionado a demolições. Sendo isso, há duas possibilidades: podem ser empreendimentos iniciados, cujos lotes já foram unificados e as edificações já demolidas, mas que ainda não receberam habite-se (portanto são atualizados na base do IPTU como terrenos vazios). Ou então trata-se de especulação imobiliária, que é um fenômeno importante, mas que não é objeto de nosso estudo.\n",
    "\n",
    "Assim, concluímos por excluir esses dados da base.\n"
   ]
  },
  {
   "cell_type": "code",
   "execution_count": 76,
   "id": "c7990ba8-3cfc-4df3-8b9e-bd0e60d3f7d1",
   "metadata": {},
   "outputs": [
    {
     "data": {
      "text/plain": [
       "393"
      ]
     },
     "execution_count": 76,
     "metadata": {},
     "output_type": "execute_result"
    }
   ],
   "source": [
    "(df['delta_pde']<0).sum()"
   ]
  },
  {
   "cell_type": "code",
   "execution_count": 77,
   "id": "d090c064-be28-4568-a709-d54b0e68f80d",
   "metadata": {},
   "outputs": [
    {
     "data": {
      "text/plain": [
       "0.03694303440496334"
      ]
     },
     "execution_count": 77,
     "metadata": {},
     "output_type": "execute_result"
    }
   ],
   "source": [
    "(df['delta_pde']<0).sum()/len(df)"
   ]
  },
  {
   "cell_type": "code",
   "execution_count": 78,
   "id": "0a7b43b9-bace-40f8-918c-0f8ee7d31512",
   "metadata": {},
   "outputs": [],
   "source": [
    "df = df[df['delta_pde']>=0].reset_index(drop=True).copy()"
   ]
  },
  {
   "cell_type": "code",
   "execution_count": 79,
   "id": "32903159-a5d0-44b0-81d5-91d3f99cf9fd",
   "metadata": {},
   "outputs": [
    {
     "data": {
      "text/plain": [
       "<AxesSubplot:>"
      ]
     },
     "execution_count": 79,
     "metadata": {},
     "output_type": "execute_result"
    },
    {
     "data": {
      "image/png": "[encoded data removed]",
      "text/plain": [
       "<Figure size 432x288 with 1 Axes>"
      ]
     },
     "metadata": {},
     "output_type": "display_data"
    }
   ],
   "source": [
    "temp_df = df[(df['delta_pde']<1e4)]\n",
    "sns.violinplot(data = temp_df[['delta_pde']],\n",
    "               title='Violin Plot - Delta área construída vertical PDE')"
   ]
  },
  {
   "cell_type": "code",
   "execution_count": 80,
   "id": "335a6ef3-b882-4d54-884b-cb9b583842f9",
   "metadata": {},
   "outputs": [
    {
     "data": {
      "text/plain": [
       "<AxesSubplot:ylabel='Frequency'>"
      ]
     },
     "execution_count": 80,
     "metadata": {},
     "output_type": "execute_result"
    },
    {
     "data": {
      "image/png": "[encoded data removed]",
      "text/plain": [
       "<Figure size 432x288 with 1 Axes>"
      ]
     },
     "metadata": {},
     "output_type": "display_data"
    }
   ],
   "source": [
    "df['delta_pde'].plot.hist()"
   ]
  },
  {
   "cell_type": "markdown",
   "id": "cc06e2f2-b475-4e77-9ea3-a373c30f60f8",
   "metadata": {},
   "source": [
    "\n",
    "\n",
    "Há alguns outliers positivos.\n",
    "\n",
    "Vamos inspecioná-los mais de perto.\n"
   ]
  },
  {
   "cell_type": "markdown",
   "id": "8d428191-cdc8-43d8-98b5-ef670f8c8723",
   "metadata": {},
   "source": [
    "\n",
    "\n",
    "Acima de 200000 metros quadrados parecem haver mais registros.\n"
   ]
  },
  {
   "cell_type": "code",
   "execution_count": 83,
   "id": "c1c30c30-edae-48b7-ba32-ad3a5a2c6aff",
   "metadata": {},
   "outputs": [
    {
     "data": {
      "text/html": [
       "<div>\n",
       "<style scoped>\n",
       "    .dataframe tbody tr th:only-of-type {\n",
       "        vertical-align: middle;\n",
       "    }\n",
       "\n",
       "    .dataframe tbody tr th {\n",
       "        vertical-align: top;\n",
       "    }\n",
       "\n",
       "    .dataframe thead th {\n",
       "        text-align: right;\n",
       "    }\n",
       "</style>\n",
       "<table border=\"1\" class=\"dataframe\">\n",
       "  <thead>\n",
       "    <tr style=\"text-align: right;\">\n",
       "      <th></th>\n",
       "      <th>quadra</th>\n",
       "      <th>area_construida_vertical_2013</th>\n",
       "      <th>area_construida_vertical_2023</th>\n",
       "      <th>delta_pde</th>\n",
       "    </tr>\n",
       "  </thead>\n",
       "  <tbody>\n",
       "    <tr>\n",
       "      <th>6022</th>\n",
       "      <td>098030</td>\n",
       "      <td>24781.0</td>\n",
       "      <td>240336.0</td>\n",
       "      <td>215555.0</td>\n",
       "    </tr>\n",
       "    <tr>\n",
       "      <th>7159</th>\n",
       "      <td>162001</td>\n",
       "      <td>151690.0</td>\n",
       "      <td>353732.0</td>\n",
       "      <td>202042.0</td>\n",
       "    </tr>\n",
       "    <tr>\n",
       "      <th>8336</th>\n",
       "      <td>051306</td>\n",
       "      <td>0.0</td>\n",
       "      <td>200625.0</td>\n",
       "      <td>200625.0</td>\n",
       "    </tr>\n",
       "    <tr>\n",
       "      <th>9014</th>\n",
       "      <td>087315</td>\n",
       "      <td>0.0</td>\n",
       "      <td>223286.0</td>\n",
       "      <td>223286.0</td>\n",
       "    </tr>\n",
       "    <tr>\n",
       "      <th>9987</th>\n",
       "      <td>185054</td>\n",
       "      <td>0.0</td>\n",
       "      <td>242407.0</td>\n",
       "      <td>242407.0</td>\n",
       "    </tr>\n",
       "    <tr>\n",
       "      <th>10039</th>\n",
       "      <td>197006</td>\n",
       "      <td>0.0</td>\n",
       "      <td>241205.0</td>\n",
       "      <td>241205.0</td>\n",
       "    </tr>\n",
       "  </tbody>\n",
       "</table>\n",
       "</div>"
      ],
      "text/plain": [
       "       quadra  area_construida_vertical_2013  area_construida_vertical_2023  \\\n",
       "6022   098030                        24781.0                       240336.0   \n",
       "7159   162001                       151690.0                       353732.0   \n",
       "8336   051306                            0.0                       200625.0   \n",
       "9014   087315                            0.0                       223286.0   \n",
       "9987   185054                            0.0                       242407.0   \n",
       "10039  197006                            0.0                       241205.0   \n",
       "\n",
       "       delta_pde  \n",
       "6022    215555.0  \n",
       "7159    202042.0  \n",
       "8336    200625.0  \n",
       "9014    223286.0  \n",
       "9987    242407.0  \n",
       "10039   241205.0  "
      ]
     },
     "execution_count": 83,
     "metadata": {},
     "output_type": "execute_result"
    }
   ],
   "source": [
    "df[(df['delta_pde']>200000)&(df['delta_pde']<300000)]"
   ]
  },
  {
   "cell_type": "code",
   "execution_count": 84,
   "id": "4438d815-661a-49f0-888a-9b17ef3cd6b7",
   "metadata": {},
   "outputs": [],
   "source": [
    "steps = list(range(400000, 0, -50000))\n",
    "dist_registros = []\n",
    "for i, step in enumerate(steps):\n",
    "    if i == 0:\n",
    "        continue\n",
    "    qtd_registros = len(df[(df['delta_pde']>step)&(df['delta_pde']<steps[i-1])])\n",
    "    dist_registros.append(qtd_registros)"
   ]
  },
  {
   "cell_type": "code",
   "execution_count": 85,
   "id": "7cbbe0a0-dc67-4ad6-a5ff-a2bed9e11bca",
   "metadata": {},
   "outputs": [
    {
     "data": {
      "text/plain": [
       "[0, 0, 0, 6, 9, 21, 111]"
      ]
     },
     "execution_count": 85,
     "metadata": {},
     "output_type": "execute_result"
    }
   ],
   "source": [
    "dist_registros"
   ]
  },
  {
   "cell_type": "code",
   "execution_count": 86,
   "id": "0364fd44-1981-4cb8-9cfa-a45221b5d36b",
   "metadata": {},
   "outputs": [
    {
     "data": {
      "text/plain": [
       "<AxesSubplot:>"
      ]
     },
     "execution_count": 86,
     "metadata": {},
     "output_type": "execute_result"
    },
    {
     "data": {
      "image/png": "[encoded data removed]",
      "text/plain": [
       "<Figure size 432x288 with 1 Axes>"
      ]
     },
     "metadata": {},
     "output_type": "display_data"
    }
   ],
   "source": [
    "sns.barplot(x = steps[1:], y= dist_registros)"
   ]
  },
  {
   "cell_type": "markdown",
   "id": "b1679ec0-46b6-4bca-86f2-aac34a5e3eba",
   "metadata": {},
   "source": [
    "\n",
    "\n",
    "Como podemos ver, parece haver um padrão de redução exponencial da quantidade de registros que se encerra acima de 25000 metros quadrados. Acima disso, os registors parecem ser outliers extremos.\n",
    "\n",
    "Mas se trata de erros? Vamos buscar essas quadras nas ortofotos disponibilizadas no GeoSampa, começando da quadra com o maior crescimento.\n"
   ]
  },
  {
   "cell_type": "code",
   "execution_count": 87,
   "id": "4b412a00-c3a9-42aa-a9fa-09fce0199437",
   "metadata": {},
   "outputs": [],
   "source": [
    "def save_file(df, fname):\n",
    "    \n",
    "    fname = solve_path(fname, parent=GENERATED_DATA_FOLDER)\n",
    "    df.to_csv(fname, sep=';', encoding='utf-8', index=False)"
   ]
  },
  {
   "cell_type": "code",
   "execution_count": 88,
   "id": "2e75e91a-5922-43fa-a61f-c2f1c6bb3516",
   "metadata": {},
   "outputs": [],
   "source": [
    "save_file(df, 'delta_area_construida.csv')"
   ]
  },
  {
   "cell_type": "code",
   "execution_count": 89,
   "id": "14733977-cf3b-4cec-a45f-49755568ad37",
   "metadata": {},
   "outputs": [
    {
     "data": {
      "text/html": [
       "<div>\n",
       "<style scoped>\n",
       "    .dataframe tbody tr th:only-of-type {\n",
       "        vertical-align: middle;\n",
       "    }\n",
       "\n",
       "    .dataframe tbody tr th {\n",
       "        vertical-align: top;\n",
       "    }\n",
       "\n",
       "    .dataframe thead th {\n",
       "        text-align: right;\n",
       "    }\n",
       "</style>\n",
       "<table border=\"1\" class=\"dataframe\">\n",
       "  <thead>\n",
       "    <tr style=\"text-align: right;\">\n",
       "      <th></th>\n",
       "      <th>quadra</th>\n",
       "      <th>area_construida_vertical_2013</th>\n",
       "      <th>area_construida_vertical_2023</th>\n",
       "      <th>delta_pde</th>\n",
       "    </tr>\n",
       "  </thead>\n",
       "  <tbody>\n",
       "    <tr>\n",
       "      <th>0</th>\n",
       "      <td>001003</td>\n",
       "      <td>6832.0</td>\n",
       "      <td>6832.0</td>\n",
       "      <td>0.0</td>\n",
       "    </tr>\n",
       "    <tr>\n",
       "      <th>1</th>\n",
       "      <td>001004</td>\n",
       "      <td>3796.0</td>\n",
       "      <td>3796.0</td>\n",
       "      <td>0.0</td>\n",
       "    </tr>\n",
       "    <tr>\n",
       "      <th>2</th>\n",
       "      <td>001005</td>\n",
       "      <td>3594.0</td>\n",
       "      <td>3594.0</td>\n",
       "      <td>0.0</td>\n",
       "    </tr>\n",
       "    <tr>\n",
       "      <th>3</th>\n",
       "      <td>001006</td>\n",
       "      <td>2517.0</td>\n",
       "      <td>2517.0</td>\n",
       "      <td>0.0</td>\n",
       "    </tr>\n",
       "    <tr>\n",
       "      <th>4</th>\n",
       "      <td>001007</td>\n",
       "      <td>4827.0</td>\n",
       "      <td>8350.0</td>\n",
       "      <td>3523.0</td>\n",
       "    </tr>\n",
       "  </tbody>\n",
       "</table>\n",
       "</div>"
      ],
      "text/plain": [
       "   quadra  area_construida_vertical_2013  area_construida_vertical_2023  \\\n",
       "0  001003                         6832.0                         6832.0   \n",
       "1  001004                         3796.0                         3796.0   \n",
       "2  001005                         3594.0                         3594.0   \n",
       "3  001006                         2517.0                         2517.0   \n",
       "4  001007                         4827.0                         8350.0   \n",
       "\n",
       "   delta_pde  \n",
       "0        0.0  \n",
       "1        0.0  \n",
       "2        0.0  \n",
       "3        0.0  \n",
       "4     3523.0  "
      ]
     },
     "execution_count": 89,
     "metadata": {},
     "output_type": "execute_result"
    }
   ],
   "source": [
    "df.head()"
   ]
  },
  {
   "cell_type": "code",
   "execution_count": null,
   "id": "3e18100b-494b-4849-ac96-499efb21e42c",
   "metadata": {},
   "outputs": [],
   "source": []
  }
 ],
 "metadata": {
  "kernelspec": {
   "display_name": "Python 3",
   "language": "python",
   "name": "python3"
  },
  "language_info": {
   "codemirror_mode": {
    "name": "ipython",
    "version": 3
   },
   "file_extension": ".py",
   "mimetype": "text/x-python",
   "name": "python",
   "nbconvert_exporter": "python",
   "pygments_lexer": "ipython3",
   "version": "3.8.8"
  }
 },
 "nbformat": 4,
 "nbformat_minor": 5
}
