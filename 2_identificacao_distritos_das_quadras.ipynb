{
 "cells": [
  {
   "cell_type": "markdown",
   "id": "07845e58-df3d-4c4a-b51f-db1097ef3367",
   "metadata": {},
   "source": [
    "# Distritos das quadras\n",
    "\n",
    "Neste notebook identificamos os distritos a que pertencem as quadras do municipio"
   ]
  },
  {
   "cell_type": "code",
   "execution_count": 1,
   "id": "548dafc6-b202-4e8f-abb5-dfe3be877d77",
   "metadata": {},
   "outputs": [
    {
     "name": "stderr",
     "output_type": "stream",
     "text": [
      "/home/h-pgy/anaconda3/lib/python3.8/site-packages/geopandas/_compat.py:111: UserWarning: The Shapely GEOS version (3.8.0-CAPI-1.13.1 ) is incompatible with the GEOS version PyGEOS was compiled with (3.10.1-CAPI-1.16.0). Conversions between both will be slow.\n",
      "  warnings.warn(\n"
     ]
    }
   ],
   "source": [
    "import pandas as pd\n",
    "import geopandas as gpd\n",
    "import os\n",
    "import matplotlib.pyplot as plt\n",
    "\n",
    "\n",
    "from core.utils.file_path import solve_path, list_files_recursive\n",
    "from core.config import SHP_FOLDER, GENERATED_DATA_FOLDER"
   ]
  },
  {
   "cell_type": "code",
   "execution_count": 2,
   "id": "a7076b7f-bb5c-4765-8106-41633b23d78c",
   "metadata": {},
   "outputs": [],
   "source": [
    "def open_shp(tema):\n",
    "    \n",
    "    tema_path = solve_path(tema, SHP_FOLDER)\n",
    "    shp = list_files_recursive(tema_path, '.shp')[0]\n",
    "    geodf = gpd.read_file(shp)\n",
    "    geodf = geodf.set_crs(epsg = 31983)\n",
    "    \n",
    "    return geodf"
   ]
  },
  {
   "cell_type": "code",
   "execution_count": 3,
   "id": "48bb0c76-599c-4241-86c8-bf45f451ebac",
   "metadata": {},
   "outputs": [],
   "source": [
    "distritos = open_shp('distritos')"
   ]
  },
  {
   "cell_type": "code",
   "execution_count": 4,
   "id": "23f42790-42de-4231-9ea5-de679ad0a556",
   "metadata": {},
   "outputs": [
    {
     "data": {
      "text/html": [
       "<div>\n",
       "<style scoped>\n",
       "    .dataframe tbody tr th:only-of-type {\n",
       "        vertical-align: middle;\n",
       "    }\n",
       "\n",
       "    .dataframe tbody tr th {\n",
       "        vertical-align: top;\n",
       "    }\n",
       "\n",
       "    .dataframe thead th {\n",
       "        text-align: right;\n",
       "    }\n",
       "</style>\n",
       "<table border=\"1\" class=\"dataframe\">\n",
       "  <thead>\n",
       "    <tr style=\"text-align: right;\">\n",
       "      <th></th>\n",
       "      <th>ds_nome</th>\n",
       "      <th>ds_codigo</th>\n",
       "      <th>ds_cd_sub</th>\n",
       "      <th>ds_subpref</th>\n",
       "      <th>ds_sigla</th>\n",
       "      <th>ds_areamt</th>\n",
       "      <th>ds_areakm</th>\n",
       "      <th>geometry</th>\n",
       "    </tr>\n",
       "  </thead>\n",
       "  <tbody>\n",
       "    <tr>\n",
       "      <th>0</th>\n",
       "      <td>MANDAQUI</td>\n",
       "      <td>51</td>\n",
       "      <td>05</td>\n",
       "      <td>SANTANA-TUCURUVI</td>\n",
       "      <td>MAN</td>\n",
       "      <td>1.324786e+07</td>\n",
       "      <td>13.248</td>\n",
       "      <td>POLYGON ((330950.373 7407837.176, 330952.177 7...</td>\n",
       "    </tr>\n",
       "    <tr>\n",
       "      <th>1</th>\n",
       "      <td>MOOCA</td>\n",
       "      <td>53</td>\n",
       "      <td>25</td>\n",
       "      <td>MOOCA</td>\n",
       "      <td>MOO</td>\n",
       "      <td>7.948972e+06</td>\n",
       "      <td>7.949</td>\n",
       "      <td>POLYGON ((338349.356 7394264.944, 338362.239 7...</td>\n",
       "    </tr>\n",
       "    <tr>\n",
       "      <th>2</th>\n",
       "      <td>CIDADE ADEMAR</td>\n",
       "      <td>22</td>\n",
       "      <td>16</td>\n",
       "      <td>CIDADE ADEMAR</td>\n",
       "      <td>CAD</td>\n",
       "      <td>1.234284e+07</td>\n",
       "      <td>12.343</td>\n",
       "      <td>POLYGON ((332332.417 7381170.543, 332348.402 7...</td>\n",
       "    </tr>\n",
       "    <tr>\n",
       "      <th>3</th>\n",
       "      <td>TREMEMBE</td>\n",
       "      <td>81</td>\n",
       "      <td>06</td>\n",
       "      <td>JACANA-TREMEMBE</td>\n",
       "      <td>TRE</td>\n",
       "      <td>5.671477e+07</td>\n",
       "      <td>56.715</td>\n",
       "      <td>POLYGON ((337037.395 7403901.769, 337033.929 7...</td>\n",
       "    </tr>\n",
       "    <tr>\n",
       "      <th>4</th>\n",
       "      <td>SAO LUCAS</td>\n",
       "      <td>72</td>\n",
       "      <td>29</td>\n",
       "      <td>VILA PRUDENTE</td>\n",
       "      <td>SLU</td>\n",
       "      <td>9.675986e+06</td>\n",
       "      <td>9.676</td>\n",
       "      <td>POLYGON ((340488.820 7391250.151, 340501.069 7...</td>\n",
       "    </tr>\n",
       "  </tbody>\n",
       "</table>\n",
       "</div>"
      ],
      "text/plain": [
       "         ds_nome ds_codigo ds_cd_sub        ds_subpref ds_sigla     ds_areamt  \\\n",
       "0       MANDAQUI        51        05  SANTANA-TUCURUVI      MAN  1.324786e+07   \n",
       "1          MOOCA        53        25             MOOCA      MOO  7.948972e+06   \n",
       "2  CIDADE ADEMAR        22        16     CIDADE ADEMAR      CAD  1.234284e+07   \n",
       "3       TREMEMBE        81        06   JACANA-TREMEMBE      TRE  5.671477e+07   \n",
       "4      SAO LUCAS        72        29     VILA PRUDENTE      SLU  9.675986e+06   \n",
       "\n",
       "   ds_areakm                                           geometry  \n",
       "0     13.248  POLYGON ((330950.373 7407837.176, 330952.177 7...  \n",
       "1      7.949  POLYGON ((338349.356 7394264.944, 338362.239 7...  \n",
       "2     12.343  POLYGON ((332332.417 7381170.543, 332348.402 7...  \n",
       "3     56.715  POLYGON ((337037.395 7403901.769, 337033.929 7...  \n",
       "4      9.676  POLYGON ((340488.820 7391250.151, 340501.069 7...  "
      ]
     },
     "execution_count": 4,
     "metadata": {},
     "output_type": "execute_result"
    }
   ],
   "source": [
    "distritos.head()"
   ]
  },
  {
   "cell_type": "code",
   "execution_count": 5,
   "id": "a74ae53a-0650-430c-952d-a89a991fe106",
   "metadata": {},
   "outputs": [],
   "source": [
    "quadras = open_shp('quadras_fiscais')"
   ]
  },
  {
   "cell_type": "code",
   "execution_count": 6,
   "id": "191f23be-83fc-4343-b278-5c8812e94b40",
   "metadata": {},
   "outputs": [
    {
     "data": {
      "text/html": [
       "<div>\n",
       "<style scoped>\n",
       "    .dataframe tbody tr th:only-of-type {\n",
       "        vertical-align: middle;\n",
       "    }\n",
       "\n",
       "    .dataframe tbody tr th {\n",
       "        vertical-align: top;\n",
       "    }\n",
       "\n",
       "    .dataframe thead th {\n",
       "        text-align: right;\n",
       "    }\n",
       "</style>\n",
       "<table border=\"1\" class=\"dataframe\">\n",
       "  <thead>\n",
       "    <tr style=\"text-align: right;\">\n",
       "      <th></th>\n",
       "      <th>qd_id_orig</th>\n",
       "      <th>qd_setor</th>\n",
       "      <th>qd_fiscal</th>\n",
       "      <th>qd_tipo</th>\n",
       "      <th>qd_subqua</th>\n",
       "      <th>qd_area</th>\n",
       "      <th>qd_situac</th>\n",
       "      <th>qd_id</th>\n",
       "      <th>qd_tx_tipo</th>\n",
       "      <th>geometry</th>\n",
       "    </tr>\n",
       "  </thead>\n",
       "  <tbody>\n",
       "    <tr>\n",
       "      <th>0</th>\n",
       "      <td>10346990</td>\n",
       "      <td>153</td>\n",
       "      <td>029</td>\n",
       "      <td>F</td>\n",
       "      <td>001</td>\n",
       "      <td>4859.1528512042</td>\n",
       "      <td>1</td>\n",
       "      <td>137794</td>\n",
       "      <td>FISCAL</td>\n",
       "      <td>POLYGON ((347209.277 7387175.531, 347202.470 7...</td>\n",
       "    </tr>\n",
       "    <tr>\n",
       "      <th>1</th>\n",
       "      <td>10117715</td>\n",
       "      <td>139</td>\n",
       "      <td>181</td>\n",
       "      <td>F</td>\n",
       "      <td>001</td>\n",
       "      <td>5347.62152613216</td>\n",
       "      <td>1</td>\n",
       "      <td>137795</td>\n",
       "      <td>FISCAL</td>\n",
       "      <td>POLYGON ((353322.778 7398472.568, 353302.766 7...</td>\n",
       "    </tr>\n",
       "    <tr>\n",
       "      <th>2</th>\n",
       "      <td>10119816</td>\n",
       "      <td>192</td>\n",
       "      <td>150</td>\n",
       "      <td>F</td>\n",
       "      <td>001</td>\n",
       "      <td>6928.73697365148</td>\n",
       "      <td>1</td>\n",
       "      <td>137796</td>\n",
       "      <td>FISCAL</td>\n",
       "      <td>POLYGON ((357992.155 7398204.925, 357990.766 7...</td>\n",
       "    </tr>\n",
       "    <tr>\n",
       "      <th>3</th>\n",
       "      <td>8895416</td>\n",
       "      <td>008</td>\n",
       "      <td>030</td>\n",
       "      <td>F</td>\n",
       "      <td>001</td>\n",
       "      <td>10531.7999187608</td>\n",
       "      <td>1</td>\n",
       "      <td>137797</td>\n",
       "      <td>FISCAL</td>\n",
       "      <td>POLYGON ((332589.689 7396772.635, 332583.548 7...</td>\n",
       "    </tr>\n",
       "    <tr>\n",
       "      <th>4</th>\n",
       "      <td>10273851</td>\n",
       "      <td>138</td>\n",
       "      <td>217</td>\n",
       "      <td>F</td>\n",
       "      <td>001</td>\n",
       "      <td>5638.25762262573</td>\n",
       "      <td>1</td>\n",
       "      <td>137798</td>\n",
       "      <td>FISCAL</td>\n",
       "      <td>POLYGON ((354512.065 7396517.983, 354508.503 7...</td>\n",
       "    </tr>\n",
       "  </tbody>\n",
       "</table>\n",
       "</div>"
      ],
      "text/plain": [
       "  qd_id_orig qd_setor qd_fiscal qd_tipo qd_subqua           qd_area qd_situac  \\\n",
       "0   10346990      153       029       F       001   4859.1528512042         1   \n",
       "1   10117715      139       181       F       001  5347.62152613216         1   \n",
       "2   10119816      192       150       F       001  6928.73697365148         1   \n",
       "3    8895416      008       030       F       001  10531.7999187608         1   \n",
       "4   10273851      138       217       F       001  5638.25762262573         1   \n",
       "\n",
       "    qd_id qd_tx_tipo                                           geometry  \n",
       "0  137794     FISCAL  POLYGON ((347209.277 7387175.531, 347202.470 7...  \n",
       "1  137795     FISCAL  POLYGON ((353322.778 7398472.568, 353302.766 7...  \n",
       "2  137796     FISCAL  POLYGON ((357992.155 7398204.925, 357990.766 7...  \n",
       "3  137797     FISCAL  POLYGON ((332589.689 7396772.635, 332583.548 7...  \n",
       "4  137798     FISCAL  POLYGON ((354512.065 7396517.983, 354508.503 7...  "
      ]
     },
     "execution_count": 6,
     "metadata": {},
     "output_type": "execute_result"
    }
   ],
   "source": [
    "quadras.head()"
   ]
  },
  {
   "cell_type": "code",
   "execution_count": 7,
   "id": "879be324-27da-4199-8c4b-64ec87996a32",
   "metadata": {},
   "outputs": [],
   "source": [
    "quadras['quadra'] = quadras['qd_setor']+quadras['qd_fiscal']"
   ]
  },
  {
   "cell_type": "markdown",
   "id": "e596858d-c782-4a5f-b85c-4ab39fa6238a",
   "metadata": {},
   "source": [
    "Tem muita quadra duplicada porque tem mais de um poligono.\n",
    "\n",
    "Precisa dissolver as quadras"
   ]
  },
  {
   "cell_type": "code",
   "execution_count": 8,
   "id": "3ce42507-a0f3-4ef7-bfbf-cb1c09984ed6",
   "metadata": {},
   "outputs": [
    {
     "data": {
      "text/plain": [
       "0.2593934472311584"
      ]
     },
     "execution_count": 8,
     "metadata": {},
     "output_type": "execute_result"
    }
   ],
   "source": [
    "quadras['quadra'].duplicated().mean()"
   ]
  },
  {
   "cell_type": "code",
   "execution_count": 9,
   "id": "c7afb498-0a60-481f-bb1a-b67692cd2446",
   "metadata": {},
   "outputs": [],
   "source": [
    "dissolved = quadras.dissolve(by='quadra')\n",
    "dissolved=  dissolved.reset_index()"
   ]
  },
  {
   "cell_type": "code",
   "execution_count": 10,
   "id": "308d16d6-3778-417f-82f1-06627fbd6a42",
   "metadata": {},
   "outputs": [],
   "source": [
    "quadras = dissolved"
   ]
  },
  {
   "cell_type": "code",
   "execution_count": 11,
   "id": "779a2fa8-7893-4157-900d-8eeec85d9651",
   "metadata": {},
   "outputs": [
    {
     "data": {
      "text/plain": [
       "0.0"
      ]
     },
     "execution_count": 11,
     "metadata": {},
     "output_type": "execute_result"
    }
   ],
   "source": [
    "quadras['quadra'].duplicated().mean()"
   ]
  },
  {
   "cell_type": "markdown",
   "id": "4acf2a3a-6fdf-4b46-ad60-2c4e11039d11",
   "metadata": {},
   "source": [
    "Para evitar que as quadras intersectem os distritos por problemas de desenho em suas bordas,\n",
    " vamos usar o centroid da quadra para identificar em que distrito ele se situa."
   ]
  },
  {
   "cell_type": "code",
   "execution_count": 12,
   "id": "522f06d4-4022-48b0-a8b5-c66c0d8f85b3",
   "metadata": {},
   "outputs": [],
   "source": [
    "geometria_original = quadras['geometry']\n",
    "quadras['geometry'] = quadras.geometry.centroid"
   ]
  },
  {
   "cell_type": "markdown",
   "id": "7b35220c-c05d-45a2-8d5c-938e7b66b836",
   "metadata": {},
   "source": [
    "Agora podemos fazer a intersecção"
   ]
  },
  {
   "cell_type": "code",
   "execution_count": 13,
   "id": "3c539265-ad45-4631-9770-b9fe2f650402",
   "metadata": {},
   "outputs": [
    {
     "data": {
      "text/plain": [
       "47424"
      ]
     },
     "execution_count": 13,
     "metadata": {},
     "output_type": "execute_result"
    }
   ],
   "source": [
    "len(quadras)"
   ]
  },
  {
   "cell_type": "code",
   "execution_count": 14,
   "id": "c8410736-5e49-48fb-8076-ffc2d18b505d",
   "metadata": {},
   "outputs": [],
   "source": [
    "quadras['id_pol'] = quadras.reset_index(drop=True).index"
   ]
  },
  {
   "cell_type": "code",
   "execution_count": 15,
   "id": "b71b2be7-6137-4460-8333-f245e0a1532d",
   "metadata": {},
   "outputs": [],
   "source": [
    "joined = gpd.sjoin(quadras, distritos, how='left', predicate='within')"
   ]
  },
  {
   "cell_type": "code",
   "execution_count": 16,
   "id": "4723f183-d49b-40e8-b699-0da3f5d51237",
   "metadata": {},
   "outputs": [
    {
     "data": {
      "text/plain": [
       "47424"
      ]
     },
     "execution_count": 16,
     "metadata": {},
     "output_type": "execute_result"
    }
   ],
   "source": [
    "len(joined)"
   ]
  },
  {
   "cell_type": "code",
   "execution_count": 17,
   "id": "f7f6a048-b26d-43f1-bc91-b617edaad233",
   "metadata": {},
   "outputs": [
    {
     "data": {
      "text/html": [
       "<div>\n",
       "<style scoped>\n",
       "    .dataframe tbody tr th:only-of-type {\n",
       "        vertical-align: middle;\n",
       "    }\n",
       "\n",
       "    .dataframe tbody tr th {\n",
       "        vertical-align: top;\n",
       "    }\n",
       "\n",
       "    .dataframe thead th {\n",
       "        text-align: right;\n",
       "    }\n",
       "</style>\n",
       "<table border=\"1\" class=\"dataframe\">\n",
       "  <thead>\n",
       "    <tr style=\"text-align: right;\">\n",
       "      <th></th>\n",
       "      <th>quadra</th>\n",
       "      <th>geometry</th>\n",
       "      <th>qd_id_orig</th>\n",
       "      <th>qd_setor</th>\n",
       "      <th>qd_fiscal</th>\n",
       "      <th>qd_tipo</th>\n",
       "      <th>qd_subqua</th>\n",
       "      <th>qd_area</th>\n",
       "      <th>qd_situac</th>\n",
       "      <th>qd_id</th>\n",
       "      <th>qd_tx_tipo</th>\n",
       "      <th>id_pol</th>\n",
       "      <th>index_right</th>\n",
       "      <th>ds_nome</th>\n",
       "      <th>ds_codigo</th>\n",
       "      <th>ds_cd_sub</th>\n",
       "      <th>ds_subpref</th>\n",
       "      <th>ds_sigla</th>\n",
       "      <th>ds_areamt</th>\n",
       "      <th>ds_areakm</th>\n",
       "    </tr>\n",
       "  </thead>\n",
       "  <tbody>\n",
       "    <tr>\n",
       "      <th>33694</th>\n",
       "      <td>155242</td>\n",
       "      <td>POINT (344652.191 7388384.290)</td>\n",
       "      <td>10550392</td>\n",
       "      <td>155</td>\n",
       "      <td>242</td>\n",
       "      <td>F</td>\n",
       "      <td>001</td>\n",
       "      <td>4511.19352881079</td>\n",
       "      <td>1</td>\n",
       "      <td>168022</td>\n",
       "      <td>FISCAL</td>\n",
       "      <td>33694</td>\n",
       "      <td>5.0</td>\n",
       "      <td>SAPOPEMBA</td>\n",
       "      <td>76</td>\n",
       "      <td>32</td>\n",
       "      <td>SAPOPEMBA</td>\n",
       "      <td>SAP</td>\n",
       "      <td>1.363125e+07</td>\n",
       "      <td>13.631</td>\n",
       "    </tr>\n",
       "    <tr>\n",
       "      <th>31905</th>\n",
       "      <td>148299</td>\n",
       "      <td>POINT (344628.497 7391329.700)</td>\n",
       "      <td>10551658</td>\n",
       "      <td>148</td>\n",
       "      <td>299</td>\n",
       "      <td>F</td>\n",
       "      <td>001</td>\n",
       "      <td>5114.16127611961</td>\n",
       "      <td>1</td>\n",
       "      <td>163474</td>\n",
       "      <td>FISCAL</td>\n",
       "      <td>31905</td>\n",
       "      <td>46.0</td>\n",
       "      <td>ARICANDUVA</td>\n",
       "      <td>4</td>\n",
       "      <td>26</td>\n",
       "      <td>ARICANDUVA-FORMOSA-CARRAO</td>\n",
       "      <td>ARI</td>\n",
       "      <td>6.959765e+06</td>\n",
       "      <td>6.960</td>\n",
       "    </tr>\n",
       "    <tr>\n",
       "      <th>18774</th>\n",
       "      <td>100087</td>\n",
       "      <td>POINT (339355.979 7391420.453)</td>\n",
       "      <td>9507269</td>\n",
       "      <td>100</td>\n",
       "      <td>087</td>\n",
       "      <td>F</td>\n",
       "      <td>001</td>\n",
       "      <td>4667.07247858799</td>\n",
       "      <td>1</td>\n",
       "      <td>177423</td>\n",
       "      <td>FISCAL</td>\n",
       "      <td>18774</td>\n",
       "      <td>39.0</td>\n",
       "      <td>VILA PRUDENTE</td>\n",
       "      <td>93</td>\n",
       "      <td>29</td>\n",
       "      <td>VILA PRUDENTE</td>\n",
       "      <td>VPR</td>\n",
       "      <td>9.584953e+06</td>\n",
       "      <td>9.585</td>\n",
       "    </tr>\n",
       "  </tbody>\n",
       "</table>\n",
       "</div>"
      ],
      "text/plain": [
       "       quadra                        geometry qd_id_orig qd_setor qd_fiscal  \\\n",
       "33694  155242  POINT (344652.191 7388384.290)   10550392      155       242   \n",
       "31905  148299  POINT (344628.497 7391329.700)   10551658      148       299   \n",
       "18774  100087  POINT (339355.979 7391420.453)    9507269      100       087   \n",
       "\n",
       "      qd_tipo qd_subqua           qd_area qd_situac   qd_id qd_tx_tipo  \\\n",
       "33694       F       001  4511.19352881079         1  168022     FISCAL   \n",
       "31905       F       001  5114.16127611961         1  163474     FISCAL   \n",
       "18774       F       001  4667.07247858799         1  177423     FISCAL   \n",
       "\n",
       "       id_pol  index_right        ds_nome ds_codigo ds_cd_sub  \\\n",
       "33694   33694          5.0      SAPOPEMBA        76        32   \n",
       "31905   31905         46.0     ARICANDUVA         4        26   \n",
       "18774   18774         39.0  VILA PRUDENTE        93        29   \n",
       "\n",
       "                      ds_subpref ds_sigla     ds_areamt  ds_areakm  \n",
       "33694                  SAPOPEMBA      SAP  1.363125e+07     13.631  \n",
       "31905  ARICANDUVA-FORMOSA-CARRAO      ARI  6.959765e+06      6.960  \n",
       "18774              VILA PRUDENTE      VPR  9.584953e+06      9.585  "
      ]
     },
     "execution_count": 17,
     "metadata": {},
     "output_type": "execute_result"
    }
   ],
   "source": [
    "joined.sample(3)"
   ]
  },
  {
   "cell_type": "code",
   "execution_count": 18,
   "id": "0258f968-991f-4b67-8ed5-b3b8bbaea0e3",
   "metadata": {},
   "outputs": [
    {
     "data": {
      "text/plain": [
       "0.0005060728744939271"
      ]
     },
     "execution_count": 18,
     "metadata": {},
     "output_type": "execute_result"
    }
   ],
   "source": [
    "joined['ds_nome'].isnull().sum()/len(quadras)"
   ]
  },
  {
   "cell_type": "code",
   "execution_count": 19,
   "id": "e620a485-f892-419b-897e-86727e351890",
   "metadata": {},
   "outputs": [
    {
     "data": {
      "text/plain": [
       "24"
      ]
     },
     "execution_count": 19,
     "metadata": {},
     "output_type": "execute_result"
    }
   ],
   "source": [
    "joined['ds_nome'].isnull().sum()"
   ]
  },
  {
   "cell_type": "code",
   "execution_count": 20,
   "id": "847ec520-59b1-4869-b975-f8400ea96d4d",
   "metadata": {},
   "outputs": [],
   "source": [
    "quadras['geometry']=geometria_original"
   ]
  },
  {
   "cell_type": "code",
   "execution_count": 21,
   "id": "94ae5072-e160-4ae7-bf40-87d20a3ef651",
   "metadata": {},
   "outputs": [],
   "source": [
    "encontrados = joined[joined['ds_nome'].notnull()]['id_pol']\n",
    "area_encontrados = quadras[quadras['id_pol'].isin(encontrados)].geometry.area.sum()"
   ]
  },
  {
   "cell_type": "code",
   "execution_count": 22,
   "id": "242beb18-f07b-4a4f-9e06-3f53ef1177ac",
   "metadata": {},
   "outputs": [
    {
     "data": {
      "text/plain": [
       "0.9987662389680297"
      ]
     },
     "execution_count": 22,
     "metadata": {},
     "output_type": "execute_result"
    }
   ],
   "source": [
    "area_encontrados/quadras.geometry.area.sum()"
   ]
  },
  {
   "cell_type": "code",
   "execution_count": 23,
   "id": "f08a6bc1-9ffb-49e4-8942-d114bdd6611c",
   "metadata": {},
   "outputs": [],
   "source": [
    "def get_fname(fname):\n",
    "    \n",
    "    fname = solve_path(fname, GENERATED_DATA_FOLDER)\n",
    "    \n",
    "    return fname"
   ]
  },
  {
   "cell_type": "code",
   "execution_count": 24,
   "id": "9ccc3735-de9c-43f1-b744-88ebf46f8ce5",
   "metadata": {},
   "outputs": [],
   "source": [
    "fname = get_fname('quadras_com_distritos.csv')"
   ]
  },
  {
   "cell_type": "code",
   "execution_count": 25,
   "id": "ed9e8c83-918c-4939-9aa6-168fb30079f1",
   "metadata": {},
   "outputs": [
    {
     "data": {
      "text/plain": [
       "Index(['quadra', 'geometry', 'qd_id_orig', 'qd_setor', 'qd_fiscal', 'qd_tipo',\n",
       "       'qd_subqua', 'qd_area', 'qd_situac', 'qd_id', 'qd_tx_tipo', 'id_pol',\n",
       "       'index_right', 'ds_nome', 'ds_codigo', 'ds_cd_sub', 'ds_subpref',\n",
       "       'ds_sigla', 'ds_areamt', 'ds_areakm'],\n",
       "      dtype='object')"
      ]
     },
     "execution_count": 25,
     "metadata": {},
     "output_type": "execute_result"
    }
   ],
   "source": [
    "joined.columns"
   ]
  },
  {
   "cell_type": "code",
   "execution_count": 26,
   "id": "cd8c58c1-9011-4440-864a-0d6ccba9cf55",
   "metadata": {},
   "outputs": [],
   "source": [
    "cols_interesses = ['quadra', 'qd_id_orig', 'qd_setor', 'qd_fiscal', 'qd_tipo', 'qd_subqua',\n",
    "       'qd_area', 'qd_situac', 'qd_id', 'qd_tx_tipo', 'ds_areamt', 'ds_subpref', 'ds_sigla', 'ds_nome',\n",
    "       'ds_areakm', 'ds_cd_sub', 'ds_codigo']"
   ]
  },
  {
   "cell_type": "code",
   "execution_count": 27,
   "id": "52e2c74c-93af-4b1a-b13b-d9dd1b743e1d",
   "metadata": {},
   "outputs": [],
   "source": [
    "quadras_dists = pd.DataFrame(joined[cols_interesses])"
   ]
  },
  {
   "cell_type": "code",
   "execution_count": 28,
   "id": "87514224-ea81-424d-aec1-c1068e31ad76",
   "metadata": {},
   "outputs": [
    {
     "data": {
      "text/html": [
       "<div>\n",
       "<style scoped>\n",
       "    .dataframe tbody tr th:only-of-type {\n",
       "        vertical-align: middle;\n",
       "    }\n",
       "\n",
       "    .dataframe tbody tr th {\n",
       "        vertical-align: top;\n",
       "    }\n",
       "\n",
       "    .dataframe thead th {\n",
       "        text-align: right;\n",
       "    }\n",
       "</style>\n",
       "<table border=\"1\" class=\"dataframe\">\n",
       "  <thead>\n",
       "    <tr style=\"text-align: right;\">\n",
       "      <th></th>\n",
       "      <th>quadra</th>\n",
       "      <th>qd_id_orig</th>\n",
       "      <th>qd_setor</th>\n",
       "      <th>qd_fiscal</th>\n",
       "      <th>qd_tipo</th>\n",
       "      <th>qd_subqua</th>\n",
       "      <th>qd_area</th>\n",
       "      <th>qd_situac</th>\n",
       "      <th>qd_id</th>\n",
       "      <th>qd_tx_tipo</th>\n",
       "      <th>ds_areamt</th>\n",
       "      <th>ds_subpref</th>\n",
       "      <th>ds_sigla</th>\n",
       "      <th>ds_nome</th>\n",
       "      <th>ds_areakm</th>\n",
       "      <th>ds_cd_sub</th>\n",
       "      <th>ds_codigo</th>\n",
       "    </tr>\n",
       "  </thead>\n",
       "  <tbody>\n",
       "    <tr>\n",
       "      <th>0</th>\n",
       "      <td>001001</td>\n",
       "      <td>8893734</td>\n",
       "      <td>001</td>\n",
       "      <td>001</td>\n",
       "      <td>M</td>\n",
       "      <td>001</td>\n",
       "      <td>6463.70042403409</td>\n",
       "      <td>1</td>\n",
       "      <td>172817</td>\n",
       "      <td>AREA PUBLICA MUNICIPAL</td>\n",
       "      <td>2396993.441</td>\n",
       "      <td>SE</td>\n",
       "      <td>REP</td>\n",
       "      <td>REPUBLICA</td>\n",
       "      <td>2.397</td>\n",
       "      <td>09</td>\n",
       "      <td>66</td>\n",
       "    </tr>\n",
       "    <tr>\n",
       "      <th>1</th>\n",
       "      <td>001002</td>\n",
       "      <td>8893731</td>\n",
       "      <td>001</td>\n",
       "      <td>002</td>\n",
       "      <td>M</td>\n",
       "      <td>001</td>\n",
       "      <td>3848.08338581389</td>\n",
       "      <td>1</td>\n",
       "      <td>142629</td>\n",
       "      <td>AREA PUBLICA MUNICIPAL</td>\n",
       "      <td>2193819.874</td>\n",
       "      <td>SE</td>\n",
       "      <td>SEE</td>\n",
       "      <td>SE</td>\n",
       "      <td>2.194</td>\n",
       "      <td>09</td>\n",
       "      <td>78</td>\n",
       "    </tr>\n",
       "    <tr>\n",
       "      <th>2</th>\n",
       "      <td>001003</td>\n",
       "      <td>8893737</td>\n",
       "      <td>001</td>\n",
       "      <td>003</td>\n",
       "      <td>F</td>\n",
       "      <td>001</td>\n",
       "      <td>21744.9002690475</td>\n",
       "      <td>1</td>\n",
       "      <td>180769</td>\n",
       "      <td>FISCAL</td>\n",
       "      <td>4205896.639</td>\n",
       "      <td>SE</td>\n",
       "      <td>BRE</td>\n",
       "      <td>BOM RETIRO</td>\n",
       "      <td>4.206</td>\n",
       "      <td>09</td>\n",
       "      <td>9</td>\n",
       "    </tr>\n",
       "    <tr>\n",
       "      <th>3</th>\n",
       "      <td>001004</td>\n",
       "      <td>8893678</td>\n",
       "      <td>001</td>\n",
       "      <td>004</td>\n",
       "      <td>F</td>\n",
       "      <td>001</td>\n",
       "      <td>14803.4112659378</td>\n",
       "      <td>1</td>\n",
       "      <td>191772</td>\n",
       "      <td>FISCAL</td>\n",
       "      <td>4205896.639</td>\n",
       "      <td>SE</td>\n",
       "      <td>BRE</td>\n",
       "      <td>BOM RETIRO</td>\n",
       "      <td>4.206</td>\n",
       "      <td>09</td>\n",
       "      <td>9</td>\n",
       "    </tr>\n",
       "    <tr>\n",
       "      <th>4</th>\n",
       "      <td>001005</td>\n",
       "      <td>8893742</td>\n",
       "      <td>001</td>\n",
       "      <td>005</td>\n",
       "      <td>F</td>\n",
       "      <td>001</td>\n",
       "      <td>9177.1884098398</td>\n",
       "      <td>1</td>\n",
       "      <td>192049</td>\n",
       "      <td>FISCAL</td>\n",
       "      <td>4205896.639</td>\n",
       "      <td>SE</td>\n",
       "      <td>BRE</td>\n",
       "      <td>BOM RETIRO</td>\n",
       "      <td>4.206</td>\n",
       "      <td>09</td>\n",
       "      <td>9</td>\n",
       "    </tr>\n",
       "  </tbody>\n",
       "</table>\n",
       "</div>"
      ],
      "text/plain": [
       "   quadra qd_id_orig qd_setor qd_fiscal qd_tipo qd_subqua           qd_area  \\\n",
       "0  001001    8893734      001       001       M       001  6463.70042403409   \n",
       "1  001002    8893731      001       002       M       001  3848.08338581389   \n",
       "2  001003    8893737      001       003       F       001  21744.9002690475   \n",
       "3  001004    8893678      001       004       F       001  14803.4112659378   \n",
       "4  001005    8893742      001       005       F       001   9177.1884098398   \n",
       "\n",
       "  qd_situac   qd_id              qd_tx_tipo    ds_areamt ds_subpref ds_sigla  \\\n",
       "0         1  172817  AREA PUBLICA MUNICIPAL  2396993.441         SE      REP   \n",
       "1         1  142629  AREA PUBLICA MUNICIPAL  2193819.874         SE      SEE   \n",
       "2         1  180769                  FISCAL  4205896.639         SE      BRE   \n",
       "3         1  191772                  FISCAL  4205896.639         SE      BRE   \n",
       "4         1  192049                  FISCAL  4205896.639         SE      BRE   \n",
       "\n",
       "      ds_nome  ds_areakm ds_cd_sub ds_codigo  \n",
       "0   REPUBLICA      2.397        09        66  \n",
       "1          SE      2.194        09        78  \n",
       "2  BOM RETIRO      4.206        09         9  \n",
       "3  BOM RETIRO      4.206        09         9  \n",
       "4  BOM RETIRO      4.206        09         9  "
      ]
     },
     "execution_count": 28,
     "metadata": {},
     "output_type": "execute_result"
    }
   ],
   "source": [
    "quadras_dists.head()"
   ]
  },
  {
   "cell_type": "code",
   "execution_count": 29,
   "id": "f9d38e7d-e0a9-493e-9ac2-713b9a3de5ad",
   "metadata": {},
   "outputs": [
    {
     "data": {
      "text/plain": [
       "0"
      ]
     },
     "execution_count": 29,
     "metadata": {},
     "output_type": "execute_result"
    }
   ],
   "source": [
    "quadras_dists['quadra'].duplicated().sum()"
   ]
  },
  {
   "cell_type": "code",
   "execution_count": 30,
   "id": "21fed9b0-9b60-4684-ae4d-435cabebc352",
   "metadata": {},
   "outputs": [],
   "source": [
    "quadras_dists.to_csv(fname, sep=';', index=False,encoding='utf-8', quotechar='\"')"
   ]
  },
  {
   "cell_type": "code",
   "execution_count": null,
   "id": "c9a32e58-adee-4c8b-a41c-5d1ebb7f93ab",
   "metadata": {},
   "outputs": [],
   "source": []
  }
 ],
 "metadata": {
  "kernelspec": {
   "display_name": "Python 3",
   "language": "python",
   "name": "python3"
  },
  "language_info": {
   "codemirror_mode": {
    "name": "ipython",
    "version": 3
   },
   "file_extension": ".py",
   "mimetype": "text/x-python",
   "name": "python",
   "nbconvert_exporter": "python",
   "pygments_lexer": "ipython3",
   "version": "3.8.8"
  }
 },
 "nbformat": 4,
 "nbformat_minor": 5
}
