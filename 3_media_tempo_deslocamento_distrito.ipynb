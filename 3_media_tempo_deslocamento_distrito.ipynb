{
 "cells": [
  {
   "cell_type": "markdown",
   "id": "dc49c856-1bad-4b33-bab3-a7c78d13e240",
   "metadata": {},
   "source": [
    "# Média de deslocamento por distrito - OD\n",
    "\n",
    "Nesse notebook vamos obter a média de deslocamento por distrito de São Paulo segundo a pesquisa origem-destino do metrô, realizada em 2017. O ideal seria termos a pesquisa para o ano de 2013, mas 2017 é o mais próximo (o outro é 2007), e temos o shapefile para esse ano.\n",
    "\n",
    "\n",
    "\n"
   ]
  },
  {
   "cell_type": "code",
   "execution_count": 1,
   "id": "fdead4bf-e17f-4885-b98b-87351fd27681",
   "metadata": {},
   "outputs": [],
   "source": [
    "import pandas as pd\n",
    "import os\n",
    "from dbfread import DBF\n",
    "import matplotlib.pyplot as plt\n",
    "\n",
    "from core.utils.file_path import solve_path, list_files_recursive\n",
    "from core.config import OD_DATA_FOLDER, SHP_FOLDER, GENERATED_DATA_FOLDER"
   ]
  },
  {
   "cell_type": "code",
   "execution_count": 2,
   "id": "506c37e6-1f63-445c-aa02-d34d6d4c55d6",
   "metadata": {},
   "outputs": [],
   "source": [
    "od_path = solve_path('OD-2017', parent=OD_DATA_FOLDER)"
   ]
  },
  {
   "cell_type": "code",
   "execution_count": 3,
   "id": "39a6bb44-df1e-493f-bbae-537b8f5a13ff",
   "metadata": {},
   "outputs": [
    {
     "data": {
      "text/plain": [
       "['Banco de Dados-OD2017',\n",
       " 'Mapas-OD2017',\n",
       " 'Manual-OD2017',\n",
       " 'Tabelas-OD2017',\n",
       " 'CONTEΘDO DOS DIRETαRIOS - OD2017.docx']"
      ]
     },
     "execution_count": 3,
     "metadata": {},
     "output_type": "execute_result"
    }
   ],
   "source": [
    "os.listdir(od_path)"
   ]
  },
  {
   "cell_type": "code",
   "execution_count": 4,
   "id": "4f03fdb1-9ba9-4977-ab92-dea64e3f4b82",
   "metadata": {},
   "outputs": [],
   "source": [
    "dados_od = solve_path('Banco de Dados-OD2017', parent=od_path)"
   ]
  },
  {
   "cell_type": "code",
   "execution_count": 5,
   "id": "3558194c-d73e-45b7-af56-12a4b8880c5e",
   "metadata": {},
   "outputs": [
    {
     "data": {
      "text/plain": [
       "['OD_2017_v1.sav',\n",
       " 'LAYOUT OD2017_v1.xlsx',\n",
       " 'VARI╡VEIS OD2017_v1.docx',\n",
       " 'CORRESPOND╥NCIA ENTRE ZONAS 2007 e 2017.xlsx',\n",
       " 'OD_2017_v1.dbf']"
      ]
     },
     "execution_count": 5,
     "metadata": {},
     "output_type": "execute_result"
    }
   ],
   "source": [
    "os.listdir(dados_od)"
   ]
  },
  {
   "cell_type": "code",
   "execution_count": 6,
   "id": "2d896a73-b5f6-4cec-aa6f-36cd7a39deee",
   "metadata": {},
   "outputs": [],
   "source": [
    "bd_od = solve_path('OD_2017_v1.dbf', dados_od)"
   ]
  },
  {
   "cell_type": "code",
   "execution_count": 7,
   "id": "796af0b7-f329-413f-9bce-9701fa2b6f8c",
   "metadata": {},
   "outputs": [],
   "source": [
    "dbf = DBF(bd_od, load=True)"
   ]
  },
  {
   "cell_type": "code",
   "execution_count": 8,
   "id": "231f53ca-d3d8-452d-8932-6986c6df9b85",
   "metadata": {},
   "outputs": [
    {
     "data": {
      "text/plain": [
       "183092"
      ]
     },
     "execution_count": 8,
     "metadata": {},
     "output_type": "execute_result"
    }
   ],
   "source": [
    "len(dbf.records)"
   ]
  },
  {
   "cell_type": "code",
   "execution_count": 9,
   "id": "a2f56e82-0c4e-4c9c-8bc8-cfbd0d6df42c",
   "metadata": {},
   "outputs": [
    {
     "data": {
      "text/plain": [
       "OrderedDict([('ZONA', 1),\n",
       "             ('MUNI_DOM', 36),\n",
       "             ('CO_DOM_X', 333743),\n",
       "             ('CO_DOM_Y', 7394463),\n",
       "             ('ID_DOM', '00010001'),\n",
       "             ('F_DOM', 1),\n",
       "             ('FE_DOM', 15.416667),\n",
       "             ('DOM', 1),\n",
       "             ('CD_ENTRE', 1),\n",
       "             ('DATA', '06092017'),\n",
       "             ('TIPO_DOM', 1),\n",
       "             ('AGUA', 1),\n",
       "             ('RUA_PAVI', 1),\n",
       "             ('NO_MORAD', 2),\n",
       "             ('TOT_FAM', 1),\n",
       "             ('ID_FAM', '000100011'),\n",
       "             ('F_FAM', 1),\n",
       "             ('FE_FAM', 15.416667),\n",
       "             ('FAMILIA', 1),\n",
       "             ('NO_MORAF', 2),\n",
       "             ('CONDMORA', 2),\n",
       "             ('QT_BANHO', 1),\n",
       "             ('QT_EMPRE', 0),\n",
       "             ('QT_AUTO', 0),\n",
       "             ('QT_MICRO', 1),\n",
       "             ('QT_LAVALOU', 0),\n",
       "             ('QT_GEL1', 0),\n",
       "             ('QT_GEL2', 1),\n",
       "             ('QT_FREEZ', 1),\n",
       "             ('QT_MLAVA', 1),\n",
       "             ('QT_DVD', 1),\n",
       "             ('QT_MICROON', 1),\n",
       "             ('QT_MOTO', 0),\n",
       "             ('QT_SECAROU', 0),\n",
       "             ('QT_BICICLE', 0),\n",
       "             ('NAO_DCL_IT', 1),\n",
       "             ('CRITERIOBR', 4),\n",
       "             ('PONTO_BR', 25),\n",
       "             ('ANO_AUTO1', None),\n",
       "             ('ANO_AUTO2', None),\n",
       "             ('ANO_AUTO3', None),\n",
       "             ('RENDA_FA', 2732.58),\n",
       "             ('CD_RENFA', 3),\n",
       "             ('ID_PESS', '00010001101'),\n",
       "             ('F_PESS', 1),\n",
       "             ('FE_PESS', 19.532274),\n",
       "             ('PESSOA', 1),\n",
       "             ('SIT_FAM', 1),\n",
       "             ('IDADE', 59),\n",
       "             ('SEXO', 2),\n",
       "             ('ESTUDA', 1),\n",
       "             ('GRAU_INS', 3),\n",
       "             ('CD_ATIVI', 1),\n",
       "             ('CO_REN_I', 3),\n",
       "             ('VL_REN_I', None),\n",
       "             ('ZONA_ESC', None),\n",
       "             ('MUNIESC', None),\n",
       "             ('CO_ESC_X', None),\n",
       "             ('CO_ESC_Y', None),\n",
       "             ('TIPO_ESC', None),\n",
       "             ('ZONATRA1', 3),\n",
       "             ('MUNITRA1', 36),\n",
       "             ('CO_TR1_X', 333104),\n",
       "             ('CO_TR1_Y', 7394476),\n",
       "             ('TRAB1_RE', 2),\n",
       "             ('TRABEXT1', 2),\n",
       "             ('OCUP1', 4),\n",
       "             ('SETOR1', 13),\n",
       "             ('VINC1', 1),\n",
       "             ('ZONATRA2', None),\n",
       "             ('MUNITRA2', None),\n",
       "             ('CO_TR2_X', None),\n",
       "             ('CO_TR2_Y', None),\n",
       "             ('TRAB2_RE', None),\n",
       "             ('TRABEXT2', None),\n",
       "             ('OCUP2', None),\n",
       "             ('SETOR2', None),\n",
       "             ('VINC2', None),\n",
       "             ('N_VIAG', 1),\n",
       "             ('FE_VIA', 22.132647),\n",
       "             ('DIA_SEM', 3),\n",
       "             ('TOT_VIAG', 2),\n",
       "             ('ZONA_O', 1),\n",
       "             ('MUNI_O', 36),\n",
       "             ('CO_O_X', 333743),\n",
       "             ('CO_O_Y', 7394463),\n",
       "             ('ZONA_D', 3),\n",
       "             ('MUNI_D', 36),\n",
       "             ('CO_D_X', 333104),\n",
       "             ('CO_D_Y', 7394476),\n",
       "             ('ZONA_T1', None),\n",
       "             ('MUNI_T1', None),\n",
       "             ('CO_T1_X', None),\n",
       "             ('CO_T1_Y', None),\n",
       "             ('ZONA_T2', None),\n",
       "             ('MUNI_T2', None),\n",
       "             ('CO_T2_X', None),\n",
       "             ('CO_T2_Y', None),\n",
       "             ('ZONA_T3', None),\n",
       "             ('MUNI_T3', None),\n",
       "             ('CO_T3_X', None),\n",
       "             ('CO_T3_Y', None),\n",
       "             ('MOTIVO_O', 8),\n",
       "             ('MOTIVO_D', 3),\n",
       "             ('MOT_SRES', 3),\n",
       "             ('SERVIR_O', 2),\n",
       "             ('SERVIR_D', 2),\n",
       "             ('MODO1', 16),\n",
       "             ('MODO2', None),\n",
       "             ('MODO3', None),\n",
       "             ('MODO4', None),\n",
       "             ('H_SAIDA', 5),\n",
       "             ('MIN_SAIDA', 45),\n",
       "             ('ANDA_O', None),\n",
       "             ('H_CHEG', 5),\n",
       "             ('MIN_CHEG', 55),\n",
       "             ('ANDA_D', None),\n",
       "             ('DURACAO', 10),\n",
       "             ('MODOPRIN', 16),\n",
       "             ('TIPVG', 3),\n",
       "             ('PAG_VIAG', None),\n",
       "             ('TP_ESAUTO', None),\n",
       "             ('VL_EST', None),\n",
       "             ('PE_BICI', 1),\n",
       "             ('VIA_BICI', None),\n",
       "             ('TP_ESBICI', None),\n",
       "             ('DISTANCIA', 639.13),\n",
       "             ('ID_ORDEM', 1)])"
      ]
     },
     "execution_count": 9,
     "metadata": {},
     "output_type": "execute_result"
    }
   ],
   "source": [
    "dbf.records[0]"
   ]
  },
  {
   "cell_type": "code",
   "execution_count": 10,
   "id": "e3b840e7-6dd8-48b4-bd45-3a166fe8a494",
   "metadata": {},
   "outputs": [],
   "source": [
    "def origem_sp(record):\n",
    "    \n",
    "    return record['MUNI_O']==36"
   ]
  },
  {
   "cell_type": "code",
   "execution_count": 11,
   "id": "eb907ad4-fa1c-490a-b945-908e4aa34776",
   "metadata": {},
   "outputs": [],
   "source": [
    "def desloc_ao_trabalho(record):\n",
    "    \n",
    "    codigos = {1,2,3,9}\n",
    "    \n",
    "    return record['MOTIVO_D'] in codigos"
   ]
  },
  {
   "cell_type": "code",
   "execution_count": 12,
   "id": "5b7340f1-a825-4255-84b1-4adb4c7ccfa4",
   "metadata": {},
   "outputs": [],
   "source": [
    "def selecionar_colunas(record):\n",
    "    \n",
    "    colunas = [\n",
    "    'ZONA_O', #zona de origem\n",
    "    'MUNI_O', #municipio origem\n",
    "    'ZONA_D', #zona destino\n",
    "    'MUNI_D', #municipio destino\n",
    "    'MOTIVO_D', #motivo no destino da viagem\n",
    "    'DURACAO', #duracao da viagem em minutos\n",
    "    ]\n",
    "    \n",
    "    return {col : record[col] for col in colunas}"
   ]
  },
  {
   "cell_type": "code",
   "execution_count": 13,
   "id": "81928f52-0a92-41a3-986e-5b4fa28cb500",
   "metadata": {},
   "outputs": [],
   "source": [
    "def de_para_motivo(record):\n",
    "    \n",
    "    motivos_trabalho = {\n",
    "        1 : 'Trabalho Indústria',\n",
    "        2 : 'Trabalho Comércio',\n",
    "        3 : 'Trabalho Serviços',\n",
    "        9 : 'Procurar Emprego'\n",
    "    }\n",
    "    \n",
    "    cod = record['MOTIVO_D'] \n",
    "    record['MOTIVO_D'] = motivos_trabalho[cod]"
   ]
  },
  {
   "cell_type": "code",
   "execution_count": 14,
   "id": "49115876-3569-4fc6-ac4a-2bfeb0befba2",
   "metadata": {},
   "outputs": [],
   "source": [
    "def filtrar_registros(dbf):\n",
    "    \n",
    "    filtrados = []\n",
    "    \n",
    "    for rec in dbf.records:\n",
    "        if origem_sp(rec) and desloc_ao_trabalho(rec):\n",
    "            rec = selecionar_colunas(rec)\n",
    "            de_para_motivo(rec)\n",
    "            filtrados.append(rec)\n",
    "    return filtrados"
   ]
  },
  {
   "cell_type": "code",
   "execution_count": 15,
   "id": "a7f48c6b-60df-4ad5-9887-af491468b1fb",
   "metadata": {},
   "outputs": [],
   "source": [
    "dados = filtrar_registros(dbf)"
   ]
  },
  {
   "cell_type": "code",
   "execution_count": 16,
   "id": "7117501e-fa3a-406c-a671-5cae9a11524a",
   "metadata": {},
   "outputs": [
    {
     "data": {
      "text/plain": [
       "0.15629301116378652"
      ]
     },
     "execution_count": 16,
     "metadata": {},
     "output_type": "execute_result"
    }
   ],
   "source": [
    "len(dados)/len(dbf.records)"
   ]
  },
  {
   "cell_type": "code",
   "execution_count": 17,
   "id": "743dbdc9-71a2-4471-bcee-b57ca0faf7ee",
   "metadata": {},
   "outputs": [],
   "source": [
    "del dbf #liberar memoria"
   ]
  },
  {
   "cell_type": "code",
   "execution_count": 18,
   "id": "f4170759-1f00-4b62-8d22-8a6ea12bcfcb",
   "metadata": {},
   "outputs": [],
   "source": [
    "df = pd.DataFrame(dados)"
   ]
  },
  {
   "cell_type": "code",
   "execution_count": 19,
   "id": "130150d4-b07e-4d31-bfcb-851c310fe114",
   "metadata": {},
   "outputs": [
    {
     "data": {
      "text/html": [
       "<div>\n",
       "<style scoped>\n",
       "    .dataframe tbody tr th:only-of-type {\n",
       "        vertical-align: middle;\n",
       "    }\n",
       "\n",
       "    .dataframe tbody tr th {\n",
       "        vertical-align: top;\n",
       "    }\n",
       "\n",
       "    .dataframe thead th {\n",
       "        text-align: right;\n",
       "    }\n",
       "</style>\n",
       "<table border=\"1\" class=\"dataframe\">\n",
       "  <thead>\n",
       "    <tr style=\"text-align: right;\">\n",
       "      <th></th>\n",
       "      <th>ZONA_O</th>\n",
       "      <th>MUNI_O</th>\n",
       "      <th>ZONA_D</th>\n",
       "      <th>MUNI_D</th>\n",
       "      <th>MOTIVO_D</th>\n",
       "      <th>DURACAO</th>\n",
       "    </tr>\n",
       "  </thead>\n",
       "  <tbody>\n",
       "    <tr>\n",
       "      <th>0</th>\n",
       "      <td>1</td>\n",
       "      <td>36</td>\n",
       "      <td>3</td>\n",
       "      <td>36</td>\n",
       "      <td>Trabalho Serviços</td>\n",
       "      <td>10</td>\n",
       "    </tr>\n",
       "    <tr>\n",
       "      <th>1</th>\n",
       "      <td>1</td>\n",
       "      <td>36</td>\n",
       "      <td>82</td>\n",
       "      <td>36</td>\n",
       "      <td>Trabalho Serviços</td>\n",
       "      <td>50</td>\n",
       "    </tr>\n",
       "    <tr>\n",
       "      <th>2</th>\n",
       "      <td>1</td>\n",
       "      <td>36</td>\n",
       "      <td>1</td>\n",
       "      <td>36</td>\n",
       "      <td>Trabalho Comércio</td>\n",
       "      <td>10</td>\n",
       "    </tr>\n",
       "    <tr>\n",
       "      <th>3</th>\n",
       "      <td>1</td>\n",
       "      <td>36</td>\n",
       "      <td>1</td>\n",
       "      <td>36</td>\n",
       "      <td>Trabalho Comércio</td>\n",
       "      <td>10</td>\n",
       "    </tr>\n",
       "    <tr>\n",
       "      <th>4</th>\n",
       "      <td>1</td>\n",
       "      <td>36</td>\n",
       "      <td>1</td>\n",
       "      <td>36</td>\n",
       "      <td>Trabalho Comércio</td>\n",
       "      <td>10</td>\n",
       "    </tr>\n",
       "  </tbody>\n",
       "</table>\n",
       "</div>"
      ],
      "text/plain": [
       "   ZONA_O  MUNI_O  ZONA_D  MUNI_D           MOTIVO_D  DURACAO\n",
       "0       1      36       3      36  Trabalho Serviços       10\n",
       "1       1      36      82      36  Trabalho Serviços       50\n",
       "2       1      36       1      36  Trabalho Comércio       10\n",
       "3       1      36       1      36  Trabalho Comércio       10\n",
       "4       1      36       1      36  Trabalho Comércio       10"
      ]
     },
     "execution_count": 19,
     "metadata": {},
     "output_type": "execute_result"
    }
   ],
   "source": [
    "df.head()"
   ]
  },
  {
   "cell_type": "markdown",
   "id": "161bc706-a296-464d-a3db-965ae244a13f",
   "metadata": {},
   "source": [
    "#### Agrupar por distritos\n",
    "\n",
    "Agora que identificamos as viagens relevantes, precisamos agrupar por distritos.\n",
    "\n",
    "Para isso, teremos que nos valor dos dados georreferenciados das zonas OD e dos shape dos distritos de SP (a pesquisa OD tem um dado de distrito, mas não temos garantias que eles coincidem com os distritos oficiais de SP, então vamos usar os mapas oficiais, mais seguros)."
   ]
  },
  {
   "cell_type": "code",
   "execution_count": 20,
   "id": "59763116-3d1b-4170-baf3-4c68e6307756",
   "metadata": {},
   "outputs": [
    {
     "name": "stderr",
     "output_type": "stream",
     "text": [
      "/home/h-pgy/anaconda3/lib/python3.8/site-packages/geopandas/_compat.py:111: UserWarning: The Shapely GEOS version (3.8.0-CAPI-1.13.1 ) is incompatible with the GEOS version PyGEOS was compiled with (3.10.1-CAPI-1.16.0). Conversions between both will be slow.\n",
      "  warnings.warn(\n"
     ]
    }
   ],
   "source": [
    "import geopandas as gpd"
   ]
  },
  {
   "cell_type": "code",
   "execution_count": 21,
   "id": "8a739bec-11dd-4bab-965e-e8772e0e2ea5",
   "metadata": {},
   "outputs": [],
   "source": [
    "od_path = solve_path('zonas_OD_2017', SHP_FOLDER)\n",
    "shp_od = list_files_recursive(od_path, '.shp')[0]\n",
    "shp_od = gpd.read_file(shp_od)\n",
    "shp_od = shp_od.set_crs(epsg = 31983)\n"
   ]
  },
  {
   "cell_type": "code",
   "execution_count": 22,
   "id": "4442594f-e33d-445f-83de-31d9ba97ccf7",
   "metadata": {},
   "outputs": [],
   "source": [
    "distritos_path = solve_path('distritos', SHP_FOLDER)\n",
    "shp_dist = list_files_recursive(distritos_path, '.shp')[0]\n",
    "shp_dist = gpd.read_file(shp_dist)\n",
    "shp_dist = shp_dist.set_crs(epsg = 31983)\n"
   ]
  },
  {
   "cell_type": "code",
   "execution_count": 23,
   "id": "f5e1f48f-aec4-47c2-91c4-c721b475c32f",
   "metadata": {},
   "outputs": [
    {
     "data": {
      "text/plain": [
       "<AxesSubplot:>"
      ]
     },
     "execution_count": 23,
     "metadata": {},
     "output_type": "execute_result"
    },
    {
     "data": {
      "image/png": "[encoded data removed]",
      "text/plain": [
       "<Figure size 432x288 with 1 Axes>"
      ]
     },
     "metadata": {
      "needs_background": "light"
     },
     "output_type": "display_data"
    }
   ],
   "source": [
    "shp_dist.plot()"
   ]
  },
  {
   "cell_type": "code",
   "execution_count": 24,
   "id": "4781dc21-8553-4667-898b-675396f4e7f7",
   "metadata": {},
   "outputs": [
    {
     "data": {
      "text/plain": [
       "<AxesSubplot:>"
      ]
     },
     "execution_count": 24,
     "metadata": {},
     "output_type": "execute_result"
    },
    {
     "data": {
      "image/png": "[encoded data removed]",
      "text/plain": [
       "<Figure size 432x288 with 1 Axes>"
      ]
     },
     "metadata": {
      "needs_background": "light"
     },
     "output_type": "display_data"
    }
   ],
   "source": [
    "shp_od.plot()"
   ]
  },
  {
   "cell_type": "markdown",
   "id": "c51efb98-2561-49b9-a127-f76031c367ff",
   "metadata": {},
   "source": [
    "Pegar apenas zonas do municipio de sp"
   ]
  },
  {
   "cell_type": "code",
   "execution_count": 25,
   "id": "061b563e-e8d2-483e-9302-6113346c3a80",
   "metadata": {},
   "outputs": [],
   "source": [
    "shp_od = shp_od[shp_od['od_municip']=='36'].copy()"
   ]
  },
  {
   "cell_type": "code",
   "execution_count": 26,
   "id": "2120b66a-756d-46d8-ab26-965dc94f5876",
   "metadata": {},
   "outputs": [
    {
     "data": {
      "text/plain": [
       "<AxesSubplot:>"
      ]
     },
     "execution_count": 26,
     "metadata": {},
     "output_type": "execute_result"
    },
    {
     "data": {
      "image/png": "[encoded data removed]",
      "text/plain": [
       "<Figure size 432x288 with 1 Axes>"
      ]
     },
     "metadata": {
      "needs_background": "light"
     },
     "output_type": "display_data"
    }
   ],
   "source": [
    "shp_od.plot()"
   ]
  },
  {
   "cell_type": "markdown",
   "id": "cf02fa35-b626-4174-a639-4275e6dd2ece",
   "metadata": {},
   "source": [
    "Como há diferenças entre os desenhos, vou pegar o centroid do distrito.\n",
    "\n",
    "E então vou pegar a zona mais próxima do centroide do distrito."
   ]
  },
  {
   "cell_type": "code",
   "execution_count": 27,
   "id": "ffad775c-e53f-4204-9ff0-5e1e6324ed5b",
   "metadata": {},
   "outputs": [],
   "source": [
    "pols_dist = shp_dist.geometry\n",
    "shp_dist['geometry'] = shp_dist.geometry.centroid"
   ]
  },
  {
   "cell_type": "code",
   "execution_count": 28,
   "id": "23be58f8-0289-4699-afb1-6a66dd4059b0",
   "metadata": {},
   "outputs": [],
   "source": [
    "merged = gpd.sjoin_nearest(shp_od, shp_dist, how='left')"
   ]
  },
  {
   "cell_type": "code",
   "execution_count": 29,
   "id": "7fa02806-5547-4e26-9071-fe060076e172",
   "metadata": {},
   "outputs": [
    {
     "data": {
      "text/html": [
       "<div>\n",
       "<style scoped>\n",
       "    .dataframe tbody tr th:only-of-type {\n",
       "        vertical-align: middle;\n",
       "    }\n",
       "\n",
       "    .dataframe tbody tr th {\n",
       "        vertical-align: top;\n",
       "    }\n",
       "\n",
       "    .dataframe thead th {\n",
       "        text-align: right;\n",
       "    }\n",
       "</style>\n",
       "<table border=\"1\" class=\"dataframe\">\n",
       "  <thead>\n",
       "    <tr style=\"text-align: right;\">\n",
       "      <th></th>\n",
       "      <th>od_id</th>\n",
       "      <th>od_nome</th>\n",
       "      <th>od_area</th>\n",
       "      <th>od_ano</th>\n",
       "      <th>od_municip</th>\n",
       "      <th>geometry</th>\n",
       "      <th>index_right</th>\n",
       "      <th>ds_nome</th>\n",
       "      <th>ds_codigo</th>\n",
       "      <th>ds_cd_sub</th>\n",
       "      <th>ds_subpref</th>\n",
       "      <th>ds_sigla</th>\n",
       "      <th>ds_areamt</th>\n",
       "      <th>ds_areakm</th>\n",
       "    </tr>\n",
       "  </thead>\n",
       "  <tbody>\n",
       "    <tr>\n",
       "      <th>0</th>\n",
       "      <td>1</td>\n",
       "      <td>Sé</td>\n",
       "      <td>57.10</td>\n",
       "      <td>2017</td>\n",
       "      <td>36</td>\n",
       "      <td>POLYGON ((333700.651 7394607.628, 333753.675 7...</td>\n",
       "      <td>26</td>\n",
       "      <td>SE</td>\n",
       "      <td>78</td>\n",
       "      <td>09</td>\n",
       "      <td>SE</td>\n",
       "      <td>SEE</td>\n",
       "      <td>2193819.874</td>\n",
       "      <td>2.194</td>\n",
       "    </tr>\n",
       "    <tr>\n",
       "      <th>1</th>\n",
       "      <td>2</td>\n",
       "      <td>Parque Dom Pedro</td>\n",
       "      <td>113.64</td>\n",
       "      <td>2017</td>\n",
       "      <td>36</td>\n",
       "      <td>POLYGON ((333067.381 7395413.270, 333081.326 7...</td>\n",
       "      <td>26</td>\n",
       "      <td>SE</td>\n",
       "      <td>78</td>\n",
       "      <td>09</td>\n",
       "      <td>SE</td>\n",
       "      <td>SEE</td>\n",
       "      <td>2193819.874</td>\n",
       "      <td>2.194</td>\n",
       "    </tr>\n",
       "    <tr>\n",
       "      <th>2</th>\n",
       "      <td>3</td>\n",
       "      <td>Praça João Mendes</td>\n",
       "      <td>47.75</td>\n",
       "      <td>2017</td>\n",
       "      <td>36</td>\n",
       "      <td>POLYGON ((333314.447 7393920.945, 333199.280 7...</td>\n",
       "      <td>17</td>\n",
       "      <td>REPUBLICA</td>\n",
       "      <td>66</td>\n",
       "      <td>09</td>\n",
       "      <td>SE</td>\n",
       "      <td>REP</td>\n",
       "      <td>2396993.441</td>\n",
       "      <td>2.397</td>\n",
       "    </tr>\n",
       "    <tr>\n",
       "      <th>3</th>\n",
       "      <td>4</td>\n",
       "      <td>Ladeira da Memória</td>\n",
       "      <td>75.11</td>\n",
       "      <td>2017</td>\n",
       "      <td>36</td>\n",
       "      <td>POLYGON ((332703.855 7394783.117, 332703.772 7...</td>\n",
       "      <td>17</td>\n",
       "      <td>REPUBLICA</td>\n",
       "      <td>66</td>\n",
       "      <td>09</td>\n",
       "      <td>SE</td>\n",
       "      <td>REP</td>\n",
       "      <td>2396993.441</td>\n",
       "      <td>2.397</td>\n",
       "    </tr>\n",
       "    <tr>\n",
       "      <th>4</th>\n",
       "      <td>5</td>\n",
       "      <td>República</td>\n",
       "      <td>74.95</td>\n",
       "      <td>2017</td>\n",
       "      <td>36</td>\n",
       "      <td>POLYGON ((332945.197 7395250.368, 332965.475 7...</td>\n",
       "      <td>17</td>\n",
       "      <td>REPUBLICA</td>\n",
       "      <td>66</td>\n",
       "      <td>09</td>\n",
       "      <td>SE</td>\n",
       "      <td>REP</td>\n",
       "      <td>2396993.441</td>\n",
       "      <td>2.397</td>\n",
       "    </tr>\n",
       "  </tbody>\n",
       "</table>\n",
       "</div>"
      ],
      "text/plain": [
       "  od_id             od_nome od_area od_ano od_municip  \\\n",
       "0     1                  Sé   57.10   2017         36   \n",
       "1     2    Parque Dom Pedro  113.64   2017         36   \n",
       "2     3   Praça João Mendes   47.75   2017         36   \n",
       "3     4  Ladeira da Memória   75.11   2017         36   \n",
       "4     5           República   74.95   2017         36   \n",
       "\n",
       "                                            geometry  index_right    ds_nome  \\\n",
       "0  POLYGON ((333700.651 7394607.628, 333753.675 7...           26         SE   \n",
       "1  POLYGON ((333067.381 7395413.270, 333081.326 7...           26         SE   \n",
       "2  POLYGON ((333314.447 7393920.945, 333199.280 7...           17  REPUBLICA   \n",
       "3  POLYGON ((332703.855 7394783.117, 332703.772 7...           17  REPUBLICA   \n",
       "4  POLYGON ((332945.197 7395250.368, 332965.475 7...           17  REPUBLICA   \n",
       "\n",
       "  ds_codigo ds_cd_sub ds_subpref ds_sigla    ds_areamt  ds_areakm  \n",
       "0        78        09         SE      SEE  2193819.874      2.194  \n",
       "1        78        09         SE      SEE  2193819.874      2.194  \n",
       "2        66        09         SE      REP  2396993.441      2.397  \n",
       "3        66        09         SE      REP  2396993.441      2.397  \n",
       "4        66        09         SE      REP  2396993.441      2.397  "
      ]
     },
     "execution_count": 29,
     "metadata": {},
     "output_type": "execute_result"
    }
   ],
   "source": [
    "merged.head()"
   ]
  },
  {
   "cell_type": "code",
   "execution_count": 30,
   "id": "2eccbf84-565e-4c82-838c-7ffef6f7aa58",
   "metadata": {},
   "outputs": [
    {
     "data": {
      "text/plain": [
       "False"
      ]
     },
     "execution_count": 30,
     "metadata": {},
     "output_type": "execute_result"
    }
   ],
   "source": [
    "merged['od_id'].duplicated().any()"
   ]
  },
  {
   "cell_type": "code",
   "execution_count": 31,
   "id": "f5be6b06-29a6-4995-bd46-7b68a2abc14c",
   "metadata": {},
   "outputs": [],
   "source": [
    "cols = ['od_id', 'od_nome', 'ds_subpref' , 'ds_sigla', 'ds_nome']"
   ]
  },
  {
   "cell_type": "code",
   "execution_count": 32,
   "id": "58f8a0f9-a75e-4017-a7e9-0d7c80c4f226",
   "metadata": {},
   "outputs": [],
   "source": [
    "de_para_zona_dist = merged[cols].copy()"
   ]
  },
  {
   "cell_type": "code",
   "execution_count": 33,
   "id": "9cdebef8-fe00-4487-ba5f-3432d027083d",
   "metadata": {},
   "outputs": [
    {
     "data": {
      "text/plain": [
       "0.995883086274922"
      ]
     },
     "execution_count": 33,
     "metadata": {},
     "output_type": "execute_result"
    }
   ],
   "source": [
    "merged.area.sum()/pols_dist.area.sum()"
   ]
  },
  {
   "cell_type": "code",
   "execution_count": 34,
   "id": "9bc00148-4763-4727-868d-f9f0e8e51a14",
   "metadata": {},
   "outputs": [
    {
     "data": {
      "text/plain": [
       "<AxesSubplot:>"
      ]
     },
     "execution_count": 34,
     "metadata": {},
     "output_type": "execute_result"
    },
    {
     "data": {
      "image/png": "[encoded data removed]",
      "text/plain": [
       "<Figure size 432x288 with 1 Axes>"
      ]
     },
     "metadata": {
      "needs_background": "light"
     },
     "output_type": "display_data"
    }
   ],
   "source": [
    "fig, ax = plt.subplots()\n",
    "pols_dist.plot(ax=ax, color='red')\n",
    "merged.plot(ax=ax, color='blue')"
   ]
  },
  {
   "cell_type": "code",
   "execution_count": 35,
   "id": "b5df9dde-c8cd-46ef-8044-bc67e86d8e5b",
   "metadata": {},
   "outputs": [],
   "source": [
    "de_para_zona_dist['od_id'] = de_para_zona_dist['od_id'].astype(str)"
   ]
  },
  {
   "cell_type": "code",
   "execution_count": 36,
   "id": "2f1d2ffa-9d33-4f6a-9a46-63a32076aad3",
   "metadata": {},
   "outputs": [],
   "source": [
    "df['ZONA_O'] = df['ZONA_O'].astype(str)"
   ]
  },
  {
   "cell_type": "code",
   "execution_count": 37,
   "id": "e1295131-a780-408e-be53-a005cd0c8410",
   "metadata": {},
   "outputs": [],
   "source": [
    "viagens_com_distrito = pd.merge(df, de_para_zona_dist, how = 'left', \n",
    "                                left_on='ZONA_O', right_on='od_id')"
   ]
  },
  {
   "cell_type": "code",
   "execution_count": 38,
   "id": "4f929355-1d60-46f4-90fa-28153be42afd",
   "metadata": {
    "tags": []
   },
   "outputs": [
    {
     "data": {
      "text/html": [
       "<div>\n",
       "<style scoped>\n",
       "    .dataframe tbody tr th:only-of-type {\n",
       "        vertical-align: middle;\n",
       "    }\n",
       "\n",
       "    .dataframe tbody tr th {\n",
       "        vertical-align: top;\n",
       "    }\n",
       "\n",
       "    .dataframe thead th {\n",
       "        text-align: right;\n",
       "    }\n",
       "</style>\n",
       "<table border=\"1\" class=\"dataframe\">\n",
       "  <thead>\n",
       "    <tr style=\"text-align: right;\">\n",
       "      <th></th>\n",
       "      <th>ZONA_O</th>\n",
       "      <th>MUNI_O</th>\n",
       "      <th>ZONA_D</th>\n",
       "      <th>MUNI_D</th>\n",
       "      <th>MOTIVO_D</th>\n",
       "      <th>DURACAO</th>\n",
       "      <th>od_id</th>\n",
       "      <th>od_nome</th>\n",
       "      <th>ds_subpref</th>\n",
       "      <th>ds_sigla</th>\n",
       "      <th>ds_nome</th>\n",
       "    </tr>\n",
       "  </thead>\n",
       "  <tbody>\n",
       "    <tr>\n",
       "      <th>23938</th>\n",
       "      <td>300</td>\n",
       "      <td>36</td>\n",
       "      <td>70</td>\n",
       "      <td>36</td>\n",
       "      <td>Trabalho Indústria</td>\n",
       "      <td>50</td>\n",
       "      <td>300</td>\n",
       "      <td>Granja Julieta</td>\n",
       "      <td>SANTO AMARO</td>\n",
       "      <td>SAM</td>\n",
       "      <td>SANTO AMARO</td>\n",
       "    </tr>\n",
       "  </tbody>\n",
       "</table>\n",
       "</div>"
      ],
      "text/plain": [
       "      ZONA_O  MUNI_O  ZONA_D  MUNI_D            MOTIVO_D  DURACAO od_id  \\\n",
       "23938    300      36      70      36  Trabalho Indústria       50   300   \n",
       "\n",
       "              od_nome   ds_subpref ds_sigla      ds_nome  \n",
       "23938  Granja Julieta  SANTO AMARO      SAM  SANTO AMARO  "
      ]
     },
     "execution_count": 38,
     "metadata": {},
     "output_type": "execute_result"
    }
   ],
   "source": [
    "viagens_com_distrito.sample()"
   ]
  },
  {
   "cell_type": "code",
   "execution_count": 39,
   "id": "4055da55-2581-4069-b8f6-0b4f21fb9236",
   "metadata": {},
   "outputs": [],
   "source": [
    "viagens_com_distrito.rename({'ds_sigla' : 'ds_origem_sigla',\n",
    "                            'ds_nome' : 'ds_origem_nome'}, axis=1, inplace=True)"
   ]
  },
  {
   "cell_type": "code",
   "execution_count": 40,
   "id": "12b6b144-2ed6-4375-85e9-35d29ee36ed6",
   "metadata": {},
   "outputs": [
    {
     "data": {
      "text/plain": [
       "Index(['ZONA_O', 'MUNI_O', 'ZONA_D', 'MUNI_D', 'MOTIVO_D', 'DURACAO', 'od_id',\n",
       "       'od_nome', 'ds_subpref', 'ds_origem_sigla', 'ds_origem_nome'],\n",
       "      dtype='object')"
      ]
     },
     "execution_count": 40,
     "metadata": {},
     "output_type": "execute_result"
    }
   ],
   "source": [
    "viagens_com_distrito.columns"
   ]
  },
  {
   "cell_type": "code",
   "execution_count": 41,
   "id": "ae3c2a32-cd85-4472-b5e3-f340c81e698e",
   "metadata": {},
   "outputs": [],
   "source": [
    "dropar = ['ZONA_O', 'MUNI_O', 'od_id','od_nome', 'ds_subpref']"
   ]
  },
  {
   "cell_type": "code",
   "execution_count": 42,
   "id": "9a8be26f-cf3a-492c-ad81-9eb255011b96",
   "metadata": {},
   "outputs": [],
   "source": [
    "viagens_com_distrito.drop(dropar, axis=1, inplace=True)"
   ]
  },
  {
   "cell_type": "code",
   "execution_count": 43,
   "id": "81eece48-0c7c-470b-a2c8-c2717a8bf399",
   "metadata": {},
   "outputs": [],
   "source": [
    "viagens_com_distrito['ZONA_D'] = viagens_com_distrito['ZONA_D'].astype(str)"
   ]
  },
  {
   "cell_type": "code",
   "execution_count": 44,
   "id": "603df89d-9acc-44ed-98c5-a4410f0f9868",
   "metadata": {},
   "outputs": [],
   "source": [
    "viagens_com_distrito = viagens_com_distrito.merge(de_para_zona_dist, how='left',\n",
    "                         left_on='ZONA_D', right_on='od_id')"
   ]
  },
  {
   "cell_type": "code",
   "execution_count": 45,
   "id": "fc8d69e7-b116-4cbc-a0a7-7ec75749edda",
   "metadata": {},
   "outputs": [],
   "source": [
    "viagens_com_distrito.rename({'ds_sigla' : 'ds_destino_sigla',\n",
    "                            'ds_nome' : 'ds_destino_nome'}, axis=1, inplace=True)"
   ]
  },
  {
   "cell_type": "code",
   "execution_count": 46,
   "id": "9b255920-711b-46af-96dc-2b0118b7990b",
   "metadata": {},
   "outputs": [
    {
     "data": {
      "text/plain": [
       "True"
      ]
     },
     "execution_count": 46,
     "metadata": {},
     "output_type": "execute_result"
    }
   ],
   "source": [
    "viagens_com_distrito['ds_destino_nome'].isnull().any()"
   ]
  },
  {
   "cell_type": "code",
   "execution_count": 47,
   "id": "693a0ebe-025a-4fa2-96a2-c9346f749795",
   "metadata": {},
   "outputs": [
    {
     "data": {
      "text/plain": [
       "1663"
      ]
     },
     "execution_count": 47,
     "metadata": {},
     "output_type": "execute_result"
    }
   ],
   "source": [
    "viagens_com_distrito['ds_destino_nome'].isnull().sum()"
   ]
  },
  {
   "cell_type": "code",
   "execution_count": 48,
   "id": "7e8dcc02-b4f9-4fd5-8e61-cf1e89a94cc3",
   "metadata": {},
   "outputs": [],
   "source": [
    "viagens_com_distrito['ds_destino_nome'].fillna('Fora São Paulo', inplace=True)\n",
    "viagens_com_distrito['ds_destino_sigla'].fillna('fora_sp', inplace=True)"
   ]
  },
  {
   "cell_type": "code",
   "execution_count": 49,
   "id": "85e02e31-0fbb-4b35-aef5-c5a76ac85fc3",
   "metadata": {},
   "outputs": [
    {
     "data": {
      "text/plain": [
       "array(['fora_sp'], dtype=object)"
      ]
     },
     "execution_count": 49,
     "metadata": {},
     "output_type": "execute_result"
    }
   ],
   "source": [
    "viagens_com_distrito[viagens_com_distrito['MUNI_D']!=36]['ds_destino_sigla'].unique()"
   ]
  },
  {
   "cell_type": "code",
   "execution_count": 50,
   "id": "ebc6afe7-e50d-479a-bac0-f549b59eb04c",
   "metadata": {},
   "outputs": [],
   "source": [
    "dropar = ['ZONA_D', 'MUNI_D', 'od_id', 'od_nome', 'ds_subpref']\n",
    "viagens_com_distrito.drop(dropar,axis=1, inplace=True)"
   ]
  },
  {
   "cell_type": "code",
   "execution_count": 51,
   "id": "a268c9f9-7241-42e3-be47-eb8559f64b55",
   "metadata": {},
   "outputs": [
    {
     "data": {
      "text/html": [
       "<div>\n",
       "<style scoped>\n",
       "    .dataframe tbody tr th:only-of-type {\n",
       "        vertical-align: middle;\n",
       "    }\n",
       "\n",
       "    .dataframe tbody tr th {\n",
       "        vertical-align: top;\n",
       "    }\n",
       "\n",
       "    .dataframe thead th {\n",
       "        text-align: right;\n",
       "    }\n",
       "</style>\n",
       "<table border=\"1\" class=\"dataframe\">\n",
       "  <thead>\n",
       "    <tr style=\"text-align: right;\">\n",
       "      <th></th>\n",
       "      <th>MOTIVO_D</th>\n",
       "      <th>DURACAO</th>\n",
       "      <th>ds_origem_sigla</th>\n",
       "      <th>ds_origem_nome</th>\n",
       "      <th>ds_destino_sigla</th>\n",
       "      <th>ds_destino_nome</th>\n",
       "    </tr>\n",
       "  </thead>\n",
       "  <tbody>\n",
       "    <tr>\n",
       "      <th>0</th>\n",
       "      <td>Trabalho Serviços</td>\n",
       "      <td>10</td>\n",
       "      <td>SEE</td>\n",
       "      <td>SE</td>\n",
       "      <td>REP</td>\n",
       "      <td>REPUBLICA</td>\n",
       "    </tr>\n",
       "    <tr>\n",
       "      <th>1</th>\n",
       "      <td>Trabalho Serviços</td>\n",
       "      <td>50</td>\n",
       "      <td>SEE</td>\n",
       "      <td>SE</td>\n",
       "      <td>PIN</td>\n",
       "      <td>PINHEIROS</td>\n",
       "    </tr>\n",
       "    <tr>\n",
       "      <th>2</th>\n",
       "      <td>Trabalho Comércio</td>\n",
       "      <td>10</td>\n",
       "      <td>SEE</td>\n",
       "      <td>SE</td>\n",
       "      <td>SEE</td>\n",
       "      <td>SE</td>\n",
       "    </tr>\n",
       "    <tr>\n",
       "      <th>3</th>\n",
       "      <td>Trabalho Comércio</td>\n",
       "      <td>10</td>\n",
       "      <td>SEE</td>\n",
       "      <td>SE</td>\n",
       "      <td>SEE</td>\n",
       "      <td>SE</td>\n",
       "    </tr>\n",
       "    <tr>\n",
       "      <th>4</th>\n",
       "      <td>Trabalho Comércio</td>\n",
       "      <td>10</td>\n",
       "      <td>SEE</td>\n",
       "      <td>SE</td>\n",
       "      <td>SEE</td>\n",
       "      <td>SE</td>\n",
       "    </tr>\n",
       "  </tbody>\n",
       "</table>\n",
       "</div>"
      ],
      "text/plain": [
       "            MOTIVO_D  DURACAO ds_origem_sigla ds_origem_nome ds_destino_sigla  \\\n",
       "0  Trabalho Serviços       10             SEE             SE              REP   \n",
       "1  Trabalho Serviços       50             SEE             SE              PIN   \n",
       "2  Trabalho Comércio       10             SEE             SE              SEE   \n",
       "3  Trabalho Comércio       10             SEE             SE              SEE   \n",
       "4  Trabalho Comércio       10             SEE             SE              SEE   \n",
       "\n",
       "  ds_destino_nome  \n",
       "0       REPUBLICA  \n",
       "1       PINHEIROS  \n",
       "2              SE  \n",
       "3              SE  \n",
       "4              SE  "
      ]
     },
     "execution_count": 51,
     "metadata": {},
     "output_type": "execute_result"
    }
   ],
   "source": [
    "viagens_com_distrito.head()"
   ]
  },
  {
   "cell_type": "code",
   "execution_count": 52,
   "id": "8c9f8198-c908-4031-a468-22d4df0e6008",
   "metadata": {},
   "outputs": [],
   "source": [
    "def get_fname(fname):\n",
    "    \n",
    "    fname = solve_path(fname, GENERATED_DATA_FOLDER)\n",
    "    \n",
    "    return fname"
   ]
  },
  {
   "cell_type": "code",
   "execution_count": 53,
   "id": "ac06a510-65f2-429f-bcd8-2ed6e42e2860",
   "metadata": {},
   "outputs": [],
   "source": [
    "fname=get_fname('viagens_com_distrito.csv')\n",
    "viagens_com_distrito.to_csv(fname, index=False, sep=';')"
   ]
  },
  {
   "cell_type": "code",
   "execution_count": 54,
   "id": "8eae0d8d-4434-4037-af58-c554007e3ff3",
   "metadata": {},
   "outputs": [],
   "source": [
    "grouped_dist = viagens_com_distrito.groupby('ds_origem_nome')"
   ]
  },
  {
   "cell_type": "code",
   "execution_count": 55,
   "id": "c8b60958-fe65-4eae-aef2-f9b8f03cabdc",
   "metadata": {},
   "outputs": [],
   "source": [
    "media_duracao = grouped_dist.mean()[['DURACAO']].reset_index()"
   ]
  },
  {
   "cell_type": "code",
   "execution_count": 56,
   "id": "e4c84161-bb66-4cc8-98c8-6d0da24164e3",
   "metadata": {},
   "outputs": [],
   "source": [
    "fname = get_fname('media_duracao_viagem_trabalho_dist.csv')\n",
    "media_duracao.to_csv(fname, index=False,sep=';',encoding='utf-8',quotechar='\"')"
   ]
  },
  {
   "cell_type": "code",
   "execution_count": 57,
   "id": "f649fd43-a4a4-4179-9d64-143d31bf400f",
   "metadata": {},
   "outputs": [
    {
     "data": {
      "text/html": [
       "<div>\n",
       "<style scoped>\n",
       "    .dataframe tbody tr th:only-of-type {\n",
       "        vertical-align: middle;\n",
       "    }\n",
       "\n",
       "    .dataframe tbody tr th {\n",
       "        vertical-align: top;\n",
       "    }\n",
       "\n",
       "    .dataframe thead th {\n",
       "        text-align: right;\n",
       "    }\n",
       "</style>\n",
       "<table border=\"1\" class=\"dataframe\">\n",
       "  <thead>\n",
       "    <tr style=\"text-align: right;\">\n",
       "      <th></th>\n",
       "      <th>ds_origem_nome</th>\n",
       "      <th>DURACAO</th>\n",
       "    </tr>\n",
       "  </thead>\n",
       "  <tbody>\n",
       "    <tr>\n",
       "      <th>51</th>\n",
       "      <td>MARSILAC</td>\n",
       "      <td>90.567568</td>\n",
       "    </tr>\n",
       "    <tr>\n",
       "      <th>24</th>\n",
       "      <td>CIDADE TIRADENTES</td>\n",
       "      <td>82.651685</td>\n",
       "    </tr>\n",
       "    <tr>\n",
       "      <th>55</th>\n",
       "      <td>PARELHEIROS</td>\n",
       "      <td>77.745455</td>\n",
       "    </tr>\n",
       "    <tr>\n",
       "      <th>29</th>\n",
       "      <td>GRAJAU</td>\n",
       "      <td>77.612903</td>\n",
       "    </tr>\n",
       "    <tr>\n",
       "      <th>41</th>\n",
       "      <td>JARDIM ANGELA</td>\n",
       "      <td>71.537037</td>\n",
       "    </tr>\n",
       "    <tr>\n",
       "      <th>...</th>\n",
       "      <td>...</td>\n",
       "      <td>...</td>\n",
       "    </tr>\n",
       "    <tr>\n",
       "      <th>62</th>\n",
       "      <td>PINHEIROS</td>\n",
       "      <td>22.489362</td>\n",
       "    </tr>\n",
       "    <tr>\n",
       "      <th>56</th>\n",
       "      <td>PARI</td>\n",
       "      <td>21.708155</td>\n",
       "    </tr>\n",
       "    <tr>\n",
       "      <th>66</th>\n",
       "      <td>REPUBLICA</td>\n",
       "      <td>20.744493</td>\n",
       "    </tr>\n",
       "    <tr>\n",
       "      <th>33</th>\n",
       "      <td>ITAIM BIBI</td>\n",
       "      <td>18.867811</td>\n",
       "    </tr>\n",
       "    <tr>\n",
       "      <th>79</th>\n",
       "      <td>SE</td>\n",
       "      <td>16.249169</td>\n",
       "    </tr>\n",
       "  </tbody>\n",
       "</table>\n",
       "<p>96 rows × 2 columns</p>\n",
       "</div>"
      ],
      "text/plain": [
       "       ds_origem_nome    DURACAO\n",
       "51           MARSILAC  90.567568\n",
       "24  CIDADE TIRADENTES  82.651685\n",
       "55        PARELHEIROS  77.745455\n",
       "29             GRAJAU  77.612903\n",
       "41      JARDIM ANGELA  71.537037\n",
       "..                ...        ...\n",
       "62          PINHEIROS  22.489362\n",
       "56               PARI  21.708155\n",
       "66          REPUBLICA  20.744493\n",
       "33         ITAIM BIBI  18.867811\n",
       "79                 SE  16.249169\n",
       "\n",
       "[96 rows x 2 columns]"
      ]
     },
     "execution_count": 57,
     "metadata": {},
     "output_type": "execute_result"
    }
   ],
   "source": [
    "media_duracao.sort_values(by='DURACAO', ascending=False)"
   ]
  },
  {
   "cell_type": "code",
   "execution_count": 58,
   "id": "a81c81fb-c44b-4c26-a1b1-10739f03cd01",
   "metadata": {},
   "outputs": [],
   "source": [
    "grouped_dist_pairs = viagens_com_distrito.groupby(['ds_origem_nome', 'ds_destino_nome'])"
   ]
  },
  {
   "cell_type": "code",
   "execution_count": 59,
   "id": "c66b7d85-74e5-47c9-a53d-63b4af1fff4b",
   "metadata": {},
   "outputs": [],
   "source": [
    "media_duracao_pairs = grouped_dist_pairs.mean()[['DURACAO']].reset_index()"
   ]
  },
  {
   "cell_type": "code",
   "execution_count": 60,
   "id": "f05b196a-534b-4281-b8fc-e2a188d8fe6f",
   "metadata": {},
   "outputs": [],
   "source": [
    "media_duracao_pairs.rename({'DURACAO' : 'duracao_media'}, axis=1,\n",
    "                          inplace=True)"
   ]
  },
  {
   "cell_type": "code",
   "execution_count": 61,
   "id": "1117526d-6a7b-43f3-a62b-d36e082d7e2d",
   "metadata": {},
   "outputs": [],
   "source": [
    "fname = get_fname('media_duracao_viagem_dist_a_dist.csv')\n",
    "media_duracao_pairs.to_csv(fname, index=False,sep=';',encoding='utf-8',quotechar='\"')"
   ]
  },
  {
   "cell_type": "code",
   "execution_count": null,
   "id": "96e186cf-63e7-4dbc-a21a-619dae24ed4f",
   "metadata": {},
   "outputs": [],
   "source": []
  }
 ],
 "metadata": {
  "kernelspec": {
   "display_name": "Python 3",
   "language": "python",
   "name": "python3"
  },
  "language_info": {
   "codemirror_mode": {
    "name": "ipython",
    "version": 3
   },
   "file_extension": ".py",
   "mimetype": "text/x-python",
   "name": "python",
   "nbconvert_exporter": "python",
   "pygments_lexer": "ipython3",
   "version": "3.8.8"
  }
 },
 "nbformat": 4,
 "nbformat_minor": 5
}
