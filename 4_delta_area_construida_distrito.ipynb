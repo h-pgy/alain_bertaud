{
 "cells": [
  {
   "cell_type": "code",
   "execution_count": 1,
   "id": "5b42c76a-db4d-406a-95b5-6e6da710227a",
   "metadata": {},
   "outputs": [],
   "source": [
    "import pandas as pd\n",
    "from core.config import GENERATED_DATA_FOLDER\n",
    "from core.utils.file_path import solve_path"
   ]
  },
  {
   "cell_type": "code",
   "execution_count": 2,
   "id": "77b96f99-0901-49ee-ae4d-074229fbaad6",
   "metadata": {},
   "outputs": [],
   "source": [
    "delta_file = solve_path('delta_area_construida.csv', \n",
    "                        GENERATED_DATA_FOLDER)\n",
    "\n",
    "delta = pd.read_csv(delta_file, sep=';',\n",
    "                   dtype={'quadra' : 'object'})"
   ]
  },
  {
   "cell_type": "code",
   "execution_count": 3,
   "id": "3cc0e828-d56b-4965-a029-b85173bbc446",
   "metadata": {},
   "outputs": [
    {
     "data": {
      "text/html": [
       "<div>\n",
       "<style scoped>\n",
       "    .dataframe tbody tr th:only-of-type {\n",
       "        vertical-align: middle;\n",
       "    }\n",
       "\n",
       "    .dataframe tbody tr th {\n",
       "        vertical-align: top;\n",
       "    }\n",
       "\n",
       "    .dataframe thead th {\n",
       "        text-align: right;\n",
       "    }\n",
       "</style>\n",
       "<table border=\"1\" class=\"dataframe\">\n",
       "  <thead>\n",
       "    <tr style=\"text-align: right;\">\n",
       "      <th></th>\n",
       "      <th>quadra</th>\n",
       "      <th>area_construida_vertical_2013</th>\n",
       "      <th>area_construida_vertical_2023</th>\n",
       "      <th>delta_pde</th>\n",
       "    </tr>\n",
       "  </thead>\n",
       "  <tbody>\n",
       "    <tr>\n",
       "      <th>0</th>\n",
       "      <td>001003</td>\n",
       "      <td>6832.0</td>\n",
       "      <td>6832.0</td>\n",
       "      <td>0.0</td>\n",
       "    </tr>\n",
       "    <tr>\n",
       "      <th>1</th>\n",
       "      <td>001004</td>\n",
       "      <td>3796.0</td>\n",
       "      <td>3796.0</td>\n",
       "      <td>0.0</td>\n",
       "    </tr>\n",
       "    <tr>\n",
       "      <th>2</th>\n",
       "      <td>001005</td>\n",
       "      <td>3594.0</td>\n",
       "      <td>3594.0</td>\n",
       "      <td>0.0</td>\n",
       "    </tr>\n",
       "    <tr>\n",
       "      <th>3</th>\n",
       "      <td>001006</td>\n",
       "      <td>2517.0</td>\n",
       "      <td>2517.0</td>\n",
       "      <td>0.0</td>\n",
       "    </tr>\n",
       "    <tr>\n",
       "      <th>4</th>\n",
       "      <td>001007</td>\n",
       "      <td>4827.0</td>\n",
       "      <td>8350.0</td>\n",
       "      <td>3523.0</td>\n",
       "    </tr>\n",
       "  </tbody>\n",
       "</table>\n",
       "</div>"
      ],
      "text/plain": [
       "   quadra  area_construida_vertical_2013  area_construida_vertical_2023  \\\n",
       "0  001003                         6832.0                         6832.0   \n",
       "1  001004                         3796.0                         3796.0   \n",
       "2  001005                         3594.0                         3594.0   \n",
       "3  001006                         2517.0                         2517.0   \n",
       "4  001007                         4827.0                         8350.0   \n",
       "\n",
       "   delta_pde  \n",
       "0        0.0  \n",
       "1        0.0  \n",
       "2        0.0  \n",
       "3        0.0  \n",
       "4     3523.0  "
      ]
     },
     "execution_count": 3,
     "metadata": {},
     "output_type": "execute_result"
    }
   ],
   "source": [
    "delta.head()"
   ]
  },
  {
   "cell_type": "code",
   "execution_count": 4,
   "id": "c38b9058-100d-415a-b4d1-3b92fd494377",
   "metadata": {},
   "outputs": [
    {
     "data": {
      "text/plain": [
       "False"
      ]
     },
     "execution_count": 4,
     "metadata": {},
     "output_type": "execute_result"
    }
   ],
   "source": [
    "delta.quadra.duplicated().any()"
   ]
  },
  {
   "cell_type": "code",
   "execution_count": 5,
   "id": "970ccc44-0fa0-40df-ad4d-5e71ae9d8686",
   "metadata": {},
   "outputs": [
    {
     "data": {
      "text/plain": [
       "10245"
      ]
     },
     "execution_count": 5,
     "metadata": {},
     "output_type": "execute_result"
    }
   ],
   "source": [
    "len(delta)"
   ]
  },
  {
   "cell_type": "code",
   "execution_count": 6,
   "id": "4e27aadb-c625-4a57-bfde-79840cb5cf7a",
   "metadata": {},
   "outputs": [],
   "source": [
    "dist_quadras_file = solve_path('quadras_com_distritos.csv',\n",
    "                         GENERATED_DATA_FOLDER)\n",
    "dist_quadras = pd.read_csv(dist_quadras_file, sep=';',\n",
    "                           dtype={'quadra' : 'object'})"
   ]
  },
  {
   "cell_type": "code",
   "execution_count": 7,
   "id": "6c863165-b3af-4b21-906d-de69447252b3",
   "metadata": {},
   "outputs": [
    {
     "data": {
      "text/html": [
       "<div>\n",
       "<style scoped>\n",
       "    .dataframe tbody tr th:only-of-type {\n",
       "        vertical-align: middle;\n",
       "    }\n",
       "\n",
       "    .dataframe tbody tr th {\n",
       "        vertical-align: top;\n",
       "    }\n",
       "\n",
       "    .dataframe thead th {\n",
       "        text-align: right;\n",
       "    }\n",
       "</style>\n",
       "<table border=\"1\" class=\"dataframe\">\n",
       "  <thead>\n",
       "    <tr style=\"text-align: right;\">\n",
       "      <th></th>\n",
       "      <th>quadra</th>\n",
       "      <th>qd_id_orig</th>\n",
       "      <th>qd_setor</th>\n",
       "      <th>qd_fiscal</th>\n",
       "      <th>qd_tipo</th>\n",
       "      <th>qd_subqua</th>\n",
       "      <th>qd_area</th>\n",
       "      <th>qd_situac</th>\n",
       "      <th>qd_id</th>\n",
       "      <th>qd_tx_tipo</th>\n",
       "      <th>ds_areamt</th>\n",
       "      <th>ds_subpref</th>\n",
       "      <th>ds_sigla</th>\n",
       "      <th>ds_nome</th>\n",
       "      <th>ds_areakm</th>\n",
       "      <th>ds_cd_sub</th>\n",
       "      <th>ds_codigo</th>\n",
       "    </tr>\n",
       "  </thead>\n",
       "  <tbody>\n",
       "    <tr>\n",
       "      <th>0</th>\n",
       "      <td>001001</td>\n",
       "      <td>8893734</td>\n",
       "      <td>1</td>\n",
       "      <td>1</td>\n",
       "      <td>M</td>\n",
       "      <td>1</td>\n",
       "      <td>6463.700424</td>\n",
       "      <td>1</td>\n",
       "      <td>172817</td>\n",
       "      <td>AREA PUBLICA MUNICIPAL</td>\n",
       "      <td>2396993.441</td>\n",
       "      <td>SE</td>\n",
       "      <td>REP</td>\n",
       "      <td>REPUBLICA</td>\n",
       "      <td>2.397</td>\n",
       "      <td>9.0</td>\n",
       "      <td>66.0</td>\n",
       "    </tr>\n",
       "    <tr>\n",
       "      <th>1</th>\n",
       "      <td>001002</td>\n",
       "      <td>8893731</td>\n",
       "      <td>1</td>\n",
       "      <td>2</td>\n",
       "      <td>M</td>\n",
       "      <td>1</td>\n",
       "      <td>3848.083386</td>\n",
       "      <td>1</td>\n",
       "      <td>142629</td>\n",
       "      <td>AREA PUBLICA MUNICIPAL</td>\n",
       "      <td>2193819.874</td>\n",
       "      <td>SE</td>\n",
       "      <td>SEE</td>\n",
       "      <td>SE</td>\n",
       "      <td>2.194</td>\n",
       "      <td>9.0</td>\n",
       "      <td>78.0</td>\n",
       "    </tr>\n",
       "    <tr>\n",
       "      <th>2</th>\n",
       "      <td>001003</td>\n",
       "      <td>8893737</td>\n",
       "      <td>1</td>\n",
       "      <td>3</td>\n",
       "      <td>F</td>\n",
       "      <td>1</td>\n",
       "      <td>21744.900269</td>\n",
       "      <td>1</td>\n",
       "      <td>180769</td>\n",
       "      <td>FISCAL</td>\n",
       "      <td>4205896.639</td>\n",
       "      <td>SE</td>\n",
       "      <td>BRE</td>\n",
       "      <td>BOM RETIRO</td>\n",
       "      <td>4.206</td>\n",
       "      <td>9.0</td>\n",
       "      <td>9.0</td>\n",
       "    </tr>\n",
       "    <tr>\n",
       "      <th>3</th>\n",
       "      <td>001004</td>\n",
       "      <td>8893678</td>\n",
       "      <td>1</td>\n",
       "      <td>4</td>\n",
       "      <td>F</td>\n",
       "      <td>1</td>\n",
       "      <td>14803.411266</td>\n",
       "      <td>1</td>\n",
       "      <td>191772</td>\n",
       "      <td>FISCAL</td>\n",
       "      <td>4205896.639</td>\n",
       "      <td>SE</td>\n",
       "      <td>BRE</td>\n",
       "      <td>BOM RETIRO</td>\n",
       "      <td>4.206</td>\n",
       "      <td>9.0</td>\n",
       "      <td>9.0</td>\n",
       "    </tr>\n",
       "    <tr>\n",
       "      <th>4</th>\n",
       "      <td>001005</td>\n",
       "      <td>8893742</td>\n",
       "      <td>1</td>\n",
       "      <td>5</td>\n",
       "      <td>F</td>\n",
       "      <td>1</td>\n",
       "      <td>9177.188410</td>\n",
       "      <td>1</td>\n",
       "      <td>192049</td>\n",
       "      <td>FISCAL</td>\n",
       "      <td>4205896.639</td>\n",
       "      <td>SE</td>\n",
       "      <td>BRE</td>\n",
       "      <td>BOM RETIRO</td>\n",
       "      <td>4.206</td>\n",
       "      <td>9.0</td>\n",
       "      <td>9.0</td>\n",
       "    </tr>\n",
       "  </tbody>\n",
       "</table>\n",
       "</div>"
      ],
      "text/plain": [
       "   quadra  qd_id_orig  qd_setor  qd_fiscal qd_tipo  qd_subqua       qd_area  \\\n",
       "0  001001     8893734         1          1       M          1   6463.700424   \n",
       "1  001002     8893731         1          2       M          1   3848.083386   \n",
       "2  001003     8893737         1          3       F          1  21744.900269   \n",
       "3  001004     8893678         1          4       F          1  14803.411266   \n",
       "4  001005     8893742         1          5       F          1   9177.188410   \n",
       "\n",
       "   qd_situac   qd_id              qd_tx_tipo    ds_areamt ds_subpref ds_sigla  \\\n",
       "0          1  172817  AREA PUBLICA MUNICIPAL  2396993.441         SE      REP   \n",
       "1          1  142629  AREA PUBLICA MUNICIPAL  2193819.874         SE      SEE   \n",
       "2          1  180769                  FISCAL  4205896.639         SE      BRE   \n",
       "3          1  191772                  FISCAL  4205896.639         SE      BRE   \n",
       "4          1  192049                  FISCAL  4205896.639         SE      BRE   \n",
       "\n",
       "      ds_nome  ds_areakm  ds_cd_sub  ds_codigo  \n",
       "0   REPUBLICA      2.397        9.0       66.0  \n",
       "1          SE      2.194        9.0       78.0  \n",
       "2  BOM RETIRO      4.206        9.0        9.0  \n",
       "3  BOM RETIRO      4.206        9.0        9.0  \n",
       "4  BOM RETIRO      4.206        9.0        9.0  "
      ]
     },
     "execution_count": 7,
     "metadata": {},
     "output_type": "execute_result"
    }
   ],
   "source": [
    "dist_quadras.head()"
   ]
  },
  {
   "cell_type": "code",
   "execution_count": 8,
   "id": "74ff6355-6d7f-4473-8066-e66bfd2dad03",
   "metadata": {},
   "outputs": [
    {
     "data": {
      "text/plain": [
       "47424"
      ]
     },
     "execution_count": 8,
     "metadata": {},
     "output_type": "execute_result"
    }
   ],
   "source": [
    "len(dist_quadras)"
   ]
  },
  {
   "cell_type": "code",
   "execution_count": 9,
   "id": "8233323c-829c-41c5-9696-655ddb465faa",
   "metadata": {},
   "outputs": [
    {
     "data": {
      "text/plain": [
       "False"
      ]
     },
     "execution_count": 9,
     "metadata": {},
     "output_type": "execute_result"
    }
   ],
   "source": [
    "dist_quadras.quadra.duplicated().any()"
   ]
  },
  {
   "cell_type": "code",
   "execution_count": 10,
   "id": "e3854a34-00ef-433a-9c67-75d324a3dab8",
   "metadata": {},
   "outputs": [],
   "source": [
    "merged = pd.merge(delta, dist_quadras, on='quadra', how='outer')"
   ]
  },
  {
   "cell_type": "code",
   "execution_count": 11,
   "id": "88030ef3-26d6-42d2-a944-40d3f946a1bd",
   "metadata": {},
   "outputs": [
    {
     "data": {
      "text/plain": [
       "37183"
      ]
     },
     "execution_count": 11,
     "metadata": {},
     "output_type": "execute_result"
    }
   ],
   "source": [
    "merged['delta_pde'].isnull().sum()"
   ]
  },
  {
   "cell_type": "code",
   "execution_count": 12,
   "id": "e555a745-5c46-4136-be03-07bc494b10f5",
   "metadata": {},
   "outputs": [
    {
     "data": {
      "text/plain": [
       "28"
      ]
     },
     "execution_count": 12,
     "metadata": {},
     "output_type": "execute_result"
    }
   ],
   "source": [
    "merged['ds_nome'].isnull().sum()"
   ]
  },
  {
   "cell_type": "code",
   "execution_count": 13,
   "id": "13829abb-523b-4e83-8836-4d8d18bd7c11",
   "metadata": {},
   "outputs": [
    {
     "data": {
      "text/plain": [
       "0.0005903685586573333"
      ]
     },
     "execution_count": 13,
     "metadata": {},
     "output_type": "execute_result"
    }
   ],
   "source": [
    "merged['ds_nome'].isnull().sum()/len(merged)"
   ]
  },
  {
   "cell_type": "code",
   "execution_count": 14,
   "id": "bddfecd9-2101-499a-951c-5edc52591ec8",
   "metadata": {},
   "outputs": [],
   "source": [
    "merged = merged[merged['ds_nome'].notnull()].copy()"
   ]
  },
  {
   "cell_type": "code",
   "execution_count": 15,
   "id": "1bc6f2ef-ce32-4055-99a7-cff67658ebac",
   "metadata": {},
   "outputs": [
    {
     "data": {
      "text/plain": [
       "Index(['quadra', 'area_construida_vertical_2013',\n",
       "       'area_construida_vertical_2023', 'delta_pde', 'qd_id_orig', 'qd_setor',\n",
       "       'qd_fiscal', 'qd_tipo', 'qd_subqua', 'qd_area', 'qd_situac', 'qd_id',\n",
       "       'qd_tx_tipo', 'ds_areamt', 'ds_subpref', 'ds_sigla', 'ds_nome',\n",
       "       'ds_areakm', 'ds_cd_sub', 'ds_codigo'],\n",
       "      dtype='object')"
      ]
     },
     "execution_count": 15,
     "metadata": {},
     "output_type": "execute_result"
    }
   ],
   "source": [
    "merged.keys()"
   ]
  },
  {
   "cell_type": "code",
   "execution_count": 16,
   "id": "20d47d51-831c-426f-b381-8684d861edc2",
   "metadata": {},
   "outputs": [],
   "source": [
    "areas = [\n",
    "        'area_construida_vertical_2013',\n",
    "        'area_construida_vertical_2023', \n",
    "        'delta_pde'\n",
    "    ]"
   ]
  },
  {
   "cell_type": "code",
   "execution_count": 17,
   "id": "ac2d9c64-d26b-4705-b7f5-fa153840726d",
   "metadata": {},
   "outputs": [],
   "source": [
    "for col in areas:\n",
    "    merged[col] = merged[col].fillna(0)"
   ]
  },
  {
   "cell_type": "code",
   "execution_count": 18,
   "id": "61251cd3-469a-4c1a-999b-d1590b1a11a0",
   "metadata": {},
   "outputs": [],
   "source": [
    "df_final = merged[areas + ['ds_nome']]"
   ]
  },
  {
   "cell_type": "code",
   "execution_count": 19,
   "id": "2cbb0e9a-b6bc-48e2-a256-63c735607ae0",
   "metadata": {},
   "outputs": [],
   "source": [
    "delta_por_distrito = df_final.groupby('ds_nome').sum()"
   ]
  },
  {
   "cell_type": "code",
   "execution_count": 21,
   "id": "f5a7ca83-a890-456e-81c1-629a11a09db0",
   "metadata": {},
   "outputs": [],
   "source": [
    "delta_por_distrito = delta_por_distrito.reset_index()"
   ]
  },
  {
   "cell_type": "code",
   "execution_count": 22,
   "id": "6760a9ac-2760-4c80-b598-ded897e6fca4",
   "metadata": {},
   "outputs": [
    {
     "data": {
      "text/html": [
       "<div>\n",
       "<style scoped>\n",
       "    .dataframe tbody tr th:only-of-type {\n",
       "        vertical-align: middle;\n",
       "    }\n",
       "\n",
       "    .dataframe tbody tr th {\n",
       "        vertical-align: top;\n",
       "    }\n",
       "\n",
       "    .dataframe thead th {\n",
       "        text-align: right;\n",
       "    }\n",
       "</style>\n",
       "<table border=\"1\" class=\"dataframe\">\n",
       "  <thead>\n",
       "    <tr style=\"text-align: right;\">\n",
       "      <th></th>\n",
       "      <th>ds_nome</th>\n",
       "      <th>area_construida_vertical_2013</th>\n",
       "      <th>area_construida_vertical_2023</th>\n",
       "      <th>delta_pde</th>\n",
       "    </tr>\n",
       "  </thead>\n",
       "  <tbody>\n",
       "    <tr>\n",
       "      <th>0</th>\n",
       "      <td>AGUA RASA</td>\n",
       "      <td>1622759.0</td>\n",
       "      <td>2108421.0</td>\n",
       "      <td>485662.0</td>\n",
       "    </tr>\n",
       "    <tr>\n",
       "      <th>1</th>\n",
       "      <td>ALTO DE PINHEIROS</td>\n",
       "      <td>2065880.0</td>\n",
       "      <td>2243481.0</td>\n",
       "      <td>177601.0</td>\n",
       "    </tr>\n",
       "    <tr>\n",
       "      <th>2</th>\n",
       "      <td>ANHANGUERA</td>\n",
       "      <td>0.0</td>\n",
       "      <td>1377.0</td>\n",
       "      <td>1377.0</td>\n",
       "    </tr>\n",
       "    <tr>\n",
       "      <th>3</th>\n",
       "      <td>ARICANDUVA</td>\n",
       "      <td>322938.0</td>\n",
       "      <td>640265.0</td>\n",
       "      <td>317327.0</td>\n",
       "    </tr>\n",
       "    <tr>\n",
       "      <th>4</th>\n",
       "      <td>ARTUR ALVIM</td>\n",
       "      <td>581546.0</td>\n",
       "      <td>657230.0</td>\n",
       "      <td>75684.0</td>\n",
       "    </tr>\n",
       "  </tbody>\n",
       "</table>\n",
       "</div>"
      ],
      "text/plain": [
       "             ds_nome  area_construida_vertical_2013  \\\n",
       "0          AGUA RASA                      1622759.0   \n",
       "1  ALTO DE PINHEIROS                      2065880.0   \n",
       "2         ANHANGUERA                            0.0   \n",
       "3         ARICANDUVA                       322938.0   \n",
       "4        ARTUR ALVIM                       581546.0   \n",
       "\n",
       "   area_construida_vertical_2023  delta_pde  \n",
       "0                      2108421.0   485662.0  \n",
       "1                      2243481.0   177601.0  \n",
       "2                         1377.0     1377.0  \n",
       "3                       640265.0   317327.0  \n",
       "4                       657230.0    75684.0  "
      ]
     },
     "execution_count": 22,
     "metadata": {},
     "output_type": "execute_result"
    }
   ],
   "source": [
    "delta_por_distrito.head()"
   ]
  },
  {
   "cell_type": "code",
   "execution_count": 23,
   "id": "e20e1cd9-7926-4e83-a455-00eb14f77621",
   "metadata": {},
   "outputs": [],
   "source": [
    "fname = solve_path('delta_area_construida_distrito.csv',\n",
    "                  GENERATED_DATA_FOLDER)\n",
    "delta_por_distrito.to_csv(fname, index=False, sep=';')"
   ]
  }
 ],
 "metadata": {
  "kernelspec": {
   "display_name": "Python 3",
   "language": "python",
   "name": "python3"
  },
  "language_info": {
   "codemirror_mode": {
    "name": "ipython",
    "version": 3
   },
   "file_extension": ".py",
   "mimetype": "text/x-python",
   "name": "python",
   "nbconvert_exporter": "python",
   "pygments_lexer": "ipython3",
   "version": "3.8.8"
  }
 },
 "nbformat": 4,
 "nbformat_minor": 5
}
