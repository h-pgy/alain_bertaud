{
 "cells": [
  {
   "cell_type": "code",
   "execution_count": 1,
   "id": "88ba5012-612a-4c58-b23a-8cc2c5883624",
   "metadata": {},
   "outputs": [],
   "source": [
    "import pandas as pd\n",
    "from core.config import GENERATED_DATA_FOLDER\n",
    "from core.utils.file_path import solve_path"
   ]
  },
  {
   "cell_type": "code",
   "execution_count": 2,
   "id": "a5776ddc-c36a-41da-8393-a38afff7be19",
   "metadata": {},
   "outputs": [],
   "source": [
    "def open_csv(fname:str, **kwargs)->pd.DataFrame:\n",
    "    \n",
    "    fpath = solve_path(fname, GENERATED_DATA_FOLDER)\n",
    "    \n",
    "    return pd.read_csv(fpath, **kwargs)"
   ]
  },
  {
   "cell_type": "code",
   "execution_count": 3,
   "id": "c2d729d9-781e-48ed-8ebb-d31a408b7b5b",
   "metadata": {},
   "outputs": [],
   "source": [
    "delta = open_csv('delta_area_construida_distrito.csv', sep=';')"
   ]
  },
  {
   "cell_type": "code",
   "execution_count": 4,
   "id": "7435e4e0-b2ba-4562-bc2e-fdeb948b3616",
   "metadata": {},
   "outputs": [
    {
     "data": {
      "text/html": [
       "<div>\n",
       "<style scoped>\n",
       "    .dataframe tbody tr th:only-of-type {\n",
       "        vertical-align: middle;\n",
       "    }\n",
       "\n",
       "    .dataframe tbody tr th {\n",
       "        vertical-align: top;\n",
       "    }\n",
       "\n",
       "    .dataframe thead th {\n",
       "        text-align: right;\n",
       "    }\n",
       "</style>\n",
       "<table border=\"1\" class=\"dataframe\">\n",
       "  <thead>\n",
       "    <tr style=\"text-align: right;\">\n",
       "      <th></th>\n",
       "      <th>ds_nome</th>\n",
       "      <th>area_construida_vertical_2013</th>\n",
       "      <th>area_construida_vertical_2023</th>\n",
       "      <th>delta_pde</th>\n",
       "    </tr>\n",
       "  </thead>\n",
       "  <tbody>\n",
       "    <tr>\n",
       "      <th>0</th>\n",
       "      <td>AGUA RASA</td>\n",
       "      <td>1622759.0</td>\n",
       "      <td>2108421.0</td>\n",
       "      <td>485662.0</td>\n",
       "    </tr>\n",
       "    <tr>\n",
       "      <th>1</th>\n",
       "      <td>ALTO DE PINHEIROS</td>\n",
       "      <td>2065880.0</td>\n",
       "      <td>2243481.0</td>\n",
       "      <td>177601.0</td>\n",
       "    </tr>\n",
       "    <tr>\n",
       "      <th>2</th>\n",
       "      <td>ANHANGUERA</td>\n",
       "      <td>0.0</td>\n",
       "      <td>1377.0</td>\n",
       "      <td>1377.0</td>\n",
       "    </tr>\n",
       "    <tr>\n",
       "      <th>3</th>\n",
       "      <td>ARICANDUVA</td>\n",
       "      <td>322938.0</td>\n",
       "      <td>640265.0</td>\n",
       "      <td>317327.0</td>\n",
       "    </tr>\n",
       "    <tr>\n",
       "      <th>4</th>\n",
       "      <td>ARTUR ALVIM</td>\n",
       "      <td>581546.0</td>\n",
       "      <td>657230.0</td>\n",
       "      <td>75684.0</td>\n",
       "    </tr>\n",
       "  </tbody>\n",
       "</table>\n",
       "</div>"
      ],
      "text/plain": [
       "             ds_nome  area_construida_vertical_2013  \\\n",
       "0          AGUA RASA                      1622759.0   \n",
       "1  ALTO DE PINHEIROS                      2065880.0   \n",
       "2         ANHANGUERA                            0.0   \n",
       "3         ARICANDUVA                       322938.0   \n",
       "4        ARTUR ALVIM                       581546.0   \n",
       "\n",
       "   area_construida_vertical_2023  delta_pde  \n",
       "0                      2108421.0   485662.0  \n",
       "1                      2243481.0   177601.0  \n",
       "2                         1377.0     1377.0  \n",
       "3                       640265.0   317327.0  \n",
       "4                       657230.0    75684.0  "
      ]
     },
     "execution_count": 4,
     "metadata": {},
     "output_type": "execute_result"
    }
   ],
   "source": [
    "delta.head()"
   ]
  },
  {
   "cell_type": "code",
   "execution_count": 5,
   "id": "7e131ca4-1dc3-40f1-b4e5-e80aac43d8e5",
   "metadata": {},
   "outputs": [],
   "source": [
    "delta = delta[['ds_nome', 'delta_pde']].copy()"
   ]
  },
  {
   "cell_type": "code",
   "execution_count": 6,
   "id": "f3aa1303-e9f5-4951-9d46-ba81a987ce12",
   "metadata": {},
   "outputs": [
    {
     "data": {
      "text/html": [
       "<div>\n",
       "<style scoped>\n",
       "    .dataframe tbody tr th:only-of-type {\n",
       "        vertical-align: middle;\n",
       "    }\n",
       "\n",
       "    .dataframe tbody tr th {\n",
       "        vertical-align: top;\n",
       "    }\n",
       "\n",
       "    .dataframe thead th {\n",
       "        text-align: right;\n",
       "    }\n",
       "</style>\n",
       "<table border=\"1\" class=\"dataframe\">\n",
       "  <thead>\n",
       "    <tr style=\"text-align: right;\">\n",
       "      <th></th>\n",
       "      <th>ds_nome</th>\n",
       "      <th>delta_pde</th>\n",
       "    </tr>\n",
       "  </thead>\n",
       "  <tbody>\n",
       "    <tr>\n",
       "      <th>0</th>\n",
       "      <td>AGUA RASA</td>\n",
       "      <td>485662.0</td>\n",
       "    </tr>\n",
       "    <tr>\n",
       "      <th>1</th>\n",
       "      <td>ALTO DE PINHEIROS</td>\n",
       "      <td>177601.0</td>\n",
       "    </tr>\n",
       "    <tr>\n",
       "      <th>2</th>\n",
       "      <td>ANHANGUERA</td>\n",
       "      <td>1377.0</td>\n",
       "    </tr>\n",
       "    <tr>\n",
       "      <th>3</th>\n",
       "      <td>ARICANDUVA</td>\n",
       "      <td>317327.0</td>\n",
       "    </tr>\n",
       "    <tr>\n",
       "      <th>4</th>\n",
       "      <td>ARTUR ALVIM</td>\n",
       "      <td>75684.0</td>\n",
       "    </tr>\n",
       "  </tbody>\n",
       "</table>\n",
       "</div>"
      ],
      "text/plain": [
       "             ds_nome  delta_pde\n",
       "0          AGUA RASA   485662.0\n",
       "1  ALTO DE PINHEIROS   177601.0\n",
       "2         ANHANGUERA     1377.0\n",
       "3         ARICANDUVA   317327.0\n",
       "4        ARTUR ALVIM    75684.0"
      ]
     },
     "execution_count": 6,
     "metadata": {},
     "output_type": "execute_result"
    }
   ],
   "source": [
    "delta.head()"
   ]
  },
  {
   "cell_type": "code",
   "execution_count": 7,
   "id": "03fa7ecd-e39d-4593-a78e-952e568ecf9e",
   "metadata": {},
   "outputs": [],
   "source": [
    "jobs = open_csv('percent_jobs_acessible.csv', sep=';')"
   ]
  },
  {
   "cell_type": "code",
   "execution_count": 8,
   "id": "271b39bf-9aa6-4403-9695-e62e74b42fca",
   "metadata": {},
   "outputs": [
    {
     "data": {
      "text/html": [
       "<div>\n",
       "<style scoped>\n",
       "    .dataframe tbody tr th:only-of-type {\n",
       "        vertical-align: middle;\n",
       "    }\n",
       "\n",
       "    .dataframe tbody tr th {\n",
       "        vertical-align: top;\n",
       "    }\n",
       "\n",
       "    .dataframe thead th {\n",
       "        text-align: right;\n",
       "    }\n",
       "</style>\n",
       "<table border=\"1\" class=\"dataframe\">\n",
       "  <thead>\n",
       "    <tr style=\"text-align: right;\">\n",
       "      <th></th>\n",
       "      <th>ds_origem_nome</th>\n",
       "      <th>percent_empregos_destino</th>\n",
       "    </tr>\n",
       "  </thead>\n",
       "  <tbody>\n",
       "    <tr>\n",
       "      <th>0</th>\n",
       "      <td>AGUA RASA</td>\n",
       "      <td>0.369173</td>\n",
       "    </tr>\n",
       "    <tr>\n",
       "      <th>1</th>\n",
       "      <td>ALTO DE PINHEIROS</td>\n",
       "      <td>0.563248</td>\n",
       "    </tr>\n",
       "    <tr>\n",
       "      <th>2</th>\n",
       "      <td>ANHANGUERA</td>\n",
       "      <td>0.199421</td>\n",
       "    </tr>\n",
       "    <tr>\n",
       "      <th>3</th>\n",
       "      <td>ARICANDUVA</td>\n",
       "      <td>0.145392</td>\n",
       "    </tr>\n",
       "    <tr>\n",
       "      <th>4</th>\n",
       "      <td>ARTUR ALVIM</td>\n",
       "      <td>0.234090</td>\n",
       "    </tr>\n",
       "  </tbody>\n",
       "</table>\n",
       "</div>"
      ],
      "text/plain": [
       "      ds_origem_nome  percent_empregos_destino\n",
       "0          AGUA RASA                  0.369173\n",
       "1  ALTO DE PINHEIROS                  0.563248\n",
       "2         ANHANGUERA                  0.199421\n",
       "3         ARICANDUVA                  0.145392\n",
       "4        ARTUR ALVIM                  0.234090"
      ]
     },
     "execution_count": 8,
     "metadata": {},
     "output_type": "execute_result"
    }
   ],
   "source": [
    "jobs.head()"
   ]
  },
  {
   "cell_type": "code",
   "execution_count": 9,
   "id": "93477c80-ed22-437d-b78f-d84e7dcdc66f",
   "metadata": {},
   "outputs": [],
   "source": [
    "df = pd.merge(jobs, delta, left_on='ds_origem_nome',\n",
    "             right_on='ds_nome', how='outer')"
   ]
  },
  {
   "cell_type": "code",
   "execution_count": 10,
   "id": "6cb9c98f-583d-4895-bad4-b724613754a8",
   "metadata": {},
   "outputs": [
    {
     "data": {
      "text/html": [
       "<div>\n",
       "<style scoped>\n",
       "    .dataframe tbody tr th:only-of-type {\n",
       "        vertical-align: middle;\n",
       "    }\n",
       "\n",
       "    .dataframe tbody tr th {\n",
       "        vertical-align: top;\n",
       "    }\n",
       "\n",
       "    .dataframe thead th {\n",
       "        text-align: right;\n",
       "    }\n",
       "</style>\n",
       "<table border=\"1\" class=\"dataframe\">\n",
       "  <thead>\n",
       "    <tr style=\"text-align: right;\">\n",
       "      <th></th>\n",
       "      <th>ds_origem_nome</th>\n",
       "      <th>percent_empregos_destino</th>\n",
       "      <th>ds_nome</th>\n",
       "      <th>delta_pde</th>\n",
       "    </tr>\n",
       "  </thead>\n",
       "  <tbody>\n",
       "    <tr>\n",
       "      <th>0</th>\n",
       "      <td>AGUA RASA</td>\n",
       "      <td>0.369173</td>\n",
       "      <td>AGUA RASA</td>\n",
       "      <td>485662.0</td>\n",
       "    </tr>\n",
       "    <tr>\n",
       "      <th>1</th>\n",
       "      <td>ALTO DE PINHEIROS</td>\n",
       "      <td>0.563248</td>\n",
       "      <td>ALTO DE PINHEIROS</td>\n",
       "      <td>177601.0</td>\n",
       "    </tr>\n",
       "    <tr>\n",
       "      <th>2</th>\n",
       "      <td>ANHANGUERA</td>\n",
       "      <td>0.199421</td>\n",
       "      <td>ANHANGUERA</td>\n",
       "      <td>1377.0</td>\n",
       "    </tr>\n",
       "    <tr>\n",
       "      <th>3</th>\n",
       "      <td>ARICANDUVA</td>\n",
       "      <td>0.145392</td>\n",
       "      <td>ARICANDUVA</td>\n",
       "      <td>317327.0</td>\n",
       "    </tr>\n",
       "    <tr>\n",
       "      <th>4</th>\n",
       "      <td>ARTUR ALVIM</td>\n",
       "      <td>0.234090</td>\n",
       "      <td>ARTUR ALVIM</td>\n",
       "      <td>75684.0</td>\n",
       "    </tr>\n",
       "    <tr>\n",
       "      <th>...</th>\n",
       "      <td>...</td>\n",
       "      <td>...</td>\n",
       "      <td>...</td>\n",
       "      <td>...</td>\n",
       "    </tr>\n",
       "    <tr>\n",
       "      <th>91</th>\n",
       "      <td>VILA MARIANA</td>\n",
       "      <td>0.757271</td>\n",
       "      <td>VILA MARIANA</td>\n",
       "      <td>1252542.0</td>\n",
       "    </tr>\n",
       "    <tr>\n",
       "      <th>92</th>\n",
       "      <td>VILA MATILDE</td>\n",
       "      <td>0.319995</td>\n",
       "      <td>VILA MATILDE</td>\n",
       "      <td>341864.0</td>\n",
       "    </tr>\n",
       "    <tr>\n",
       "      <th>93</th>\n",
       "      <td>VILA MEDEIROS</td>\n",
       "      <td>0.188100</td>\n",
       "      <td>VILA MEDEIROS</td>\n",
       "      <td>187435.0</td>\n",
       "    </tr>\n",
       "    <tr>\n",
       "      <th>94</th>\n",
       "      <td>VILA PRUDENTE</td>\n",
       "      <td>0.609241</td>\n",
       "      <td>VILA PRUDENTE</td>\n",
       "      <td>706438.0</td>\n",
       "    </tr>\n",
       "    <tr>\n",
       "      <th>95</th>\n",
       "      <td>VILA SONIA</td>\n",
       "      <td>0.557955</td>\n",
       "      <td>VILA SONIA</td>\n",
       "      <td>864913.0</td>\n",
       "    </tr>\n",
       "  </tbody>\n",
       "</table>\n",
       "<p>96 rows × 4 columns</p>\n",
       "</div>"
      ],
      "text/plain": [
       "       ds_origem_nome  percent_empregos_destino            ds_nome  delta_pde\n",
       "0           AGUA RASA                  0.369173          AGUA RASA   485662.0\n",
       "1   ALTO DE PINHEIROS                  0.563248  ALTO DE PINHEIROS   177601.0\n",
       "2          ANHANGUERA                  0.199421         ANHANGUERA     1377.0\n",
       "3          ARICANDUVA                  0.145392         ARICANDUVA   317327.0\n",
       "4         ARTUR ALVIM                  0.234090        ARTUR ALVIM    75684.0\n",
       "..                ...                       ...                ...        ...\n",
       "91       VILA MARIANA                  0.757271       VILA MARIANA  1252542.0\n",
       "92       VILA MATILDE                  0.319995       VILA MATILDE   341864.0\n",
       "93      VILA MEDEIROS                  0.188100      VILA MEDEIROS   187435.0\n",
       "94      VILA PRUDENTE                  0.609241      VILA PRUDENTE   706438.0\n",
       "95         VILA SONIA                  0.557955         VILA SONIA   864913.0\n",
       "\n",
       "[96 rows x 4 columns]"
      ]
     },
     "execution_count": 10,
     "metadata": {},
     "output_type": "execute_result"
    }
   ],
   "source": [
    "df"
   ]
  },
  {
   "cell_type": "code",
   "execution_count": 11,
   "id": "a9eba948-5c7f-4940-8d29-15f804c006b0",
   "metadata": {},
   "outputs": [],
   "source": [
    "df.drop('ds_origem_nome', axis=1, inplace=True)"
   ]
  },
  {
   "cell_type": "code",
   "execution_count": 12,
   "id": "9513f5bb-d6be-4496-b2c9-e52fffc6e3b4",
   "metadata": {},
   "outputs": [
    {
     "data": {
      "text/html": [
       "<div>\n",
       "<style scoped>\n",
       "    .dataframe tbody tr th:only-of-type {\n",
       "        vertical-align: middle;\n",
       "    }\n",
       "\n",
       "    .dataframe tbody tr th {\n",
       "        vertical-align: top;\n",
       "    }\n",
       "\n",
       "    .dataframe thead th {\n",
       "        text-align: right;\n",
       "    }\n",
       "</style>\n",
       "<table border=\"1\" class=\"dataframe\">\n",
       "  <thead>\n",
       "    <tr style=\"text-align: right;\">\n",
       "      <th></th>\n",
       "      <th>percent_empregos_destino</th>\n",
       "      <th>ds_nome</th>\n",
       "      <th>delta_pde</th>\n",
       "    </tr>\n",
       "  </thead>\n",
       "  <tbody>\n",
       "    <tr>\n",
       "      <th>0</th>\n",
       "      <td>0.369173</td>\n",
       "      <td>AGUA RASA</td>\n",
       "      <td>485662.0</td>\n",
       "    </tr>\n",
       "    <tr>\n",
       "      <th>1</th>\n",
       "      <td>0.563248</td>\n",
       "      <td>ALTO DE PINHEIROS</td>\n",
       "      <td>177601.0</td>\n",
       "    </tr>\n",
       "    <tr>\n",
       "      <th>2</th>\n",
       "      <td>0.199421</td>\n",
       "      <td>ANHANGUERA</td>\n",
       "      <td>1377.0</td>\n",
       "    </tr>\n",
       "    <tr>\n",
       "      <th>3</th>\n",
       "      <td>0.145392</td>\n",
       "      <td>ARICANDUVA</td>\n",
       "      <td>317327.0</td>\n",
       "    </tr>\n",
       "    <tr>\n",
       "      <th>4</th>\n",
       "      <td>0.234090</td>\n",
       "      <td>ARTUR ALVIM</td>\n",
       "      <td>75684.0</td>\n",
       "    </tr>\n",
       "    <tr>\n",
       "      <th>...</th>\n",
       "      <td>...</td>\n",
       "      <td>...</td>\n",
       "      <td>...</td>\n",
       "    </tr>\n",
       "    <tr>\n",
       "      <th>91</th>\n",
       "      <td>0.757271</td>\n",
       "      <td>VILA MARIANA</td>\n",
       "      <td>1252542.0</td>\n",
       "    </tr>\n",
       "    <tr>\n",
       "      <th>92</th>\n",
       "      <td>0.319995</td>\n",
       "      <td>VILA MATILDE</td>\n",
       "      <td>341864.0</td>\n",
       "    </tr>\n",
       "    <tr>\n",
       "      <th>93</th>\n",
       "      <td>0.188100</td>\n",
       "      <td>VILA MEDEIROS</td>\n",
       "      <td>187435.0</td>\n",
       "    </tr>\n",
       "    <tr>\n",
       "      <th>94</th>\n",
       "      <td>0.609241</td>\n",
       "      <td>VILA PRUDENTE</td>\n",
       "      <td>706438.0</td>\n",
       "    </tr>\n",
       "    <tr>\n",
       "      <th>95</th>\n",
       "      <td>0.557955</td>\n",
       "      <td>VILA SONIA</td>\n",
       "      <td>864913.0</td>\n",
       "    </tr>\n",
       "  </tbody>\n",
       "</table>\n",
       "<p>96 rows × 3 columns</p>\n",
       "</div>"
      ],
      "text/plain": [
       "    percent_empregos_destino            ds_nome  delta_pde\n",
       "0                   0.369173          AGUA RASA   485662.0\n",
       "1                   0.563248  ALTO DE PINHEIROS   177601.0\n",
       "2                   0.199421         ANHANGUERA     1377.0\n",
       "3                   0.145392         ARICANDUVA   317327.0\n",
       "4                   0.234090        ARTUR ALVIM    75684.0\n",
       "..                       ...                ...        ...\n",
       "91                  0.757271       VILA MARIANA  1252542.0\n",
       "92                  0.319995       VILA MATILDE   341864.0\n",
       "93                  0.188100      VILA MEDEIROS   187435.0\n",
       "94                  0.609241      VILA PRUDENTE   706438.0\n",
       "95                  0.557955         VILA SONIA   864913.0\n",
       "\n",
       "[96 rows x 3 columns]"
      ]
     },
     "execution_count": 12,
     "metadata": {},
     "output_type": "execute_result"
    }
   ],
   "source": [
    "df"
   ]
  },
  {
   "cell_type": "code",
   "execution_count": 13,
   "id": "9f62d215-8bb2-48c4-a297-d39ec8956d5a",
   "metadata": {},
   "outputs": [
    {
     "name": "stderr",
     "output_type": "stream",
     "text": [
      "/home/h-pgy/anaconda3/lib/python3.8/site-packages/statsmodels/tsa/base/tsa_model.py:7: FutureWarning: pandas.Int64Index is deprecated and will be removed from pandas in a future version. Use pandas.Index with the appropriate dtype instead.\n",
      "  from pandas import (to_datetime, Int64Index, DatetimeIndex, Period,\n",
      "/home/h-pgy/anaconda3/lib/python3.8/site-packages/statsmodels/tsa/base/tsa_model.py:7: FutureWarning: pandas.Float64Index is deprecated and will be removed from pandas in a future version. Use pandas.Index with the appropriate dtype instead.\n",
      "  from pandas import (to_datetime, Int64Index, DatetimeIndex, Period,\n"
     ]
    }
   ],
   "source": [
    "import statsmodels.api as sm"
   ]
  },
  {
   "cell_type": "code",
   "execution_count": 14,
   "id": "b29372af-e3e8-46e1-88c4-2bb465d38a1a",
   "metadata": {},
   "outputs": [],
   "source": [
    "X = df[['percent_empregos_destino']].copy()\n",
    "X['const']=1\n",
    "y = df['delta_pde']"
   ]
  },
  {
   "cell_type": "code",
   "execution_count": 15,
   "id": "401b0044-24a5-4479-8b18-92cf202c6659",
   "metadata": {},
   "outputs": [],
   "source": [
    "mod = sm.OLS(y, X)\n",
    "res = mod.fit()"
   ]
  },
  {
   "cell_type": "code",
   "execution_count": 16,
   "id": "b27cacd9-83ec-4a09-89d6-ad9883e3e83a",
   "metadata": {},
   "outputs": [
    {
     "name": "stdout",
     "output_type": "stream",
     "text": [
      "                            OLS Regression Results                            \n",
      "==============================================================================\n",
      "Dep. Variable:              delta_pde   R-squared:                       0.295\n",
      "Model:                            OLS   Adj. R-squared:                  0.287\n",
      "Method:                 Least Squares   F-statistic:                     39.27\n",
      "Date:                Mon, 10 Apr 2023   Prob (F-statistic):           1.11e-08\n",
      "Time:                        00:27:40   Log-Likelihood:                -1360.4\n",
      "No. Observations:                  96   AIC:                             2725.\n",
      "Df Residuals:                      94   BIC:                             2730.\n",
      "Df Model:                           1                                         \n",
      "Covariance Type:            nonrobust                                         \n",
      "============================================================================================\n",
      "                               coef    std err          t      P>|t|      [0.025      0.975]\n",
      "--------------------------------------------------------------------------------------------\n",
      "percent_empregos_destino  9.187e+05   1.47e+05      6.267      0.000    6.28e+05    1.21e+06\n",
      "const                     1.522e+05   6.17e+04      2.468      0.015    2.98e+04    2.75e+05\n",
      "==============================================================================\n",
      "Omnibus:                       44.327   Durbin-Watson:                   1.951\n",
      "Prob(Omnibus):                  0.000   Jarque-Bera (JB):              127.163\n",
      "Skew:                           1.620   Prob(JB):                     2.44e-28\n",
      "Kurtosis:                       7.614   Cond. No.                         4.63\n",
      "==============================================================================\n",
      "\n",
      "Notes:\n",
      "[1] Standard Errors assume that the covariance matrix of the errors is correctly specified.\n"
     ]
    }
   ],
   "source": [
    "print(res.summary())"
   ]
  },
  {
   "cell_type": "code",
   "execution_count": 17,
   "id": "df8c3efc-9a82-4f6f-818c-02387d8a424d",
   "metadata": {},
   "outputs": [],
   "source": [
    "import matplotlib.pyplot as plt"
   ]
  },
  {
   "cell_type": "code",
   "execution_count": 18,
   "id": "b09b7d2d-ba26-4650-b09c-426c26d5c0f1",
   "metadata": {},
   "outputs": [
    {
     "data": {
      "text/plain": [
       "percent_empregos_destino    918667.522723\n",
       "const                       152179.171732\n",
       "dtype: float64"
      ]
     },
     "execution_count": 18,
     "metadata": {},
     "output_type": "execute_result"
    }
   ],
   "source": [
    "res.params"
   ]
  },
  {
   "cell_type": "code",
   "execution_count": 19,
   "id": "ac4c1f31-2e60-4fee-bff5-15798a360ace",
   "metadata": {},
   "outputs": [
    {
     "data": {
      "image/png": "[encoded data removed]",
      "text/plain": [
       "<Figure size 432x288 with 1 Axes>"
      ]
     },
     "metadata": {
      "needs_background": "light"
     },
     "output_type": "display_data"
    }
   ],
   "source": [
    "x = X['percent_empregos_destino']\n",
    "plt.plot(x, y, 'o', label='original data')\n",
    "\n",
    "plt.plot(x, res.params['const'] + \n",
    "         res.params['percent_empregos_destino']*x, \n",
    "         'r', label='fitted line')\n",
    "\n",
    "plt.legend()\n",
    "\n",
    "plt.show()"
   ]
  },
  {
   "cell_type": "code",
   "execution_count": 21,
   "id": "df71bc1b-da7c-405c-90b5-0b2b79f05c9b",
   "metadata": {},
   "outputs": [
    {
     "name": "stdout",
     "output_type": "stream",
     "text": [
      "percent_empregos_destino    1.105938e-08\n",
      "const                       1.538882e-02\n",
      "dtype: float64\n"
     ]
    }
   ],
   "source": [
    "print(res.pvalues)"
   ]
  },
  {
   "cell_type": "code",
   "execution_count": 23,
   "id": "91793b16-d065-4e38-b51a-26b2465a5d9b",
   "metadata": {},
   "outputs": [
    {
     "data": {
      "text/plain": [
       "percent_empregos_destino    918667.522723\n",
       "const                       152179.171732\n",
       "dtype: float64"
      ]
     },
     "execution_count": 23,
     "metadata": {},
     "output_type": "execute_result"
    }
   ],
   "source": [
    "res.params"
   ]
  },
  {
   "cell_type": "code",
   "execution_count": null,
   "id": "14f936ab-af38-4179-ba43-6c15cc667742",
   "metadata": {},
   "outputs": [],
   "source": []
  }
 ],
 "metadata": {
  "kernelspec": {
   "display_name": "Python 3",
   "language": "python",
   "name": "python3"
  },
  "language_info": {
   "codemirror_mode": {
    "name": "ipython",
    "version": 3
   },
   "file_extension": ".py",
   "mimetype": "text/x-python",
   "name": "python",
   "nbconvert_exporter": "python",
   "pygments_lexer": "ipython3",
   "version": "3.8.8"
  }
 },
 "nbformat": 4,
 "nbformat_minor": 5
}
